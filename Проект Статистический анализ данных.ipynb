{
 "cells": [
  {
   "cell_type": "markdown",
   "id": "de42195d",
   "metadata": {},
   "source": [
    "Проект популярного сервиса аренды самокатов GoFast. Сервис передал нам данные о некоторых пользователях из нескольких городов, а также об их поездках. Проанализируем данные и проверим некоторые гипотезы, которые могут помочь бизнесу вырасти.\n",
    "Чтобы совершать поездки по городу, пользователи сервиса GoFast пользуются мобильным приложением.  \n",
    "Сервисом можно пользоваться:  \n",
    "\n",
    "без подписки\n",
    "- абонентская плата отсутствует;\n",
    "- стоимость одной минуты поездки — 8 рублей;\n",
    "- стоимость старта (начала поездки) — 50 рублей;  \n",
    "\n",
    "с подпиской Ultra\n",
    "- абонентская плата — 199 рублей в месяц;\n",
    "- стоимость одной минуты поездки — 6 рублей;\n",
    "- стоимость старта — бесплатно."
   ]
  },
  {
   "cell_type": "code",
   "execution_count": 1,
   "id": "72576667",
   "metadata": {},
   "outputs": [],
   "source": [
    "import pandas as pd\n",
    "import numpy as np\n",
    "import matplotlib.pyplot as plt\n",
    "import seaborn as sns\n",
    "import sys\n",
    "import numpy\n",
    "import plotly.express as px\n",
    "import scipy.stats as st\n",
    "from math import factorial\n",
    "\n",
    "pd.options.display.max_columns = 20"
   ]
  },
  {
   "cell_type": "markdown",
   "id": "c42cbe00",
   "metadata": {},
   "source": [
    "#### Шаг 1. Загрузка данных"
   ]
  },
  {
   "cell_type": "markdown",
   "id": "142fdf47",
   "metadata": {},
   "source": [
    "##### Таблица с пользователями"
   ]
  },
  {
   "cell_type": "code",
   "execution_count": 2,
   "id": "eff9f206",
   "metadata": {},
   "outputs": [],
   "source": [
    "try:\n",
    "    users_data = pd.read_csv('/datasets/users_go.csv')\n",
    "except:\n",
    "    users_data = pd.read_csv('https://code.s3.yandex.net/datasets/users_go.csv')"
   ]
  },
  {
   "cell_type": "code",
   "execution_count": 3,
   "id": "1f1df216",
   "metadata": {},
   "outputs": [
    {
     "data": {
      "text/html": [
       "<div>\n",
       "<style scoped>\n",
       "    .dataframe tbody tr th:only-of-type {\n",
       "        vertical-align: middle;\n",
       "    }\n",
       "\n",
       "    .dataframe tbody tr th {\n",
       "        vertical-align: top;\n",
       "    }\n",
       "\n",
       "    .dataframe thead th {\n",
       "        text-align: right;\n",
       "    }\n",
       "</style>\n",
       "<table border=\"1\" class=\"dataframe\">\n",
       "  <thead>\n",
       "    <tr style=\"text-align: right;\">\n",
       "      <th></th>\n",
       "      <th>user_id</th>\n",
       "      <th>name</th>\n",
       "      <th>age</th>\n",
       "      <th>city</th>\n",
       "      <th>subscription_type</th>\n",
       "    </tr>\n",
       "  </thead>\n",
       "  <tbody>\n",
       "    <tr>\n",
       "      <th>0</th>\n",
       "      <td>1</td>\n",
       "      <td>Кира</td>\n",
       "      <td>22</td>\n",
       "      <td>Тюмень</td>\n",
       "      <td>ultra</td>\n",
       "    </tr>\n",
       "    <tr>\n",
       "      <th>1</th>\n",
       "      <td>2</td>\n",
       "      <td>Станислав</td>\n",
       "      <td>31</td>\n",
       "      <td>Омск</td>\n",
       "      <td>ultra</td>\n",
       "    </tr>\n",
       "    <tr>\n",
       "      <th>2</th>\n",
       "      <td>3</td>\n",
       "      <td>Алексей</td>\n",
       "      <td>20</td>\n",
       "      <td>Москва</td>\n",
       "      <td>ultra</td>\n",
       "    </tr>\n",
       "    <tr>\n",
       "      <th>3</th>\n",
       "      <td>4</td>\n",
       "      <td>Константин</td>\n",
       "      <td>26</td>\n",
       "      <td>Ростов-на-Дону</td>\n",
       "      <td>ultra</td>\n",
       "    </tr>\n",
       "    <tr>\n",
       "      <th>4</th>\n",
       "      <td>5</td>\n",
       "      <td>Адель</td>\n",
       "      <td>28</td>\n",
       "      <td>Омск</td>\n",
       "      <td>ultra</td>\n",
       "    </tr>\n",
       "  </tbody>\n",
       "</table>\n",
       "</div>"
      ],
      "text/plain": [
       "   user_id        name  age            city subscription_type\n",
       "0        1        Кира   22          Тюмень             ultra\n",
       "1        2   Станислав   31            Омск             ultra\n",
       "2        3     Алексей   20          Москва             ultra\n",
       "3        4  Константин   26  Ростов-на-Дону             ultra\n",
       "4        5       Адель   28            Омск             ultra"
      ]
     },
     "execution_count": 3,
     "metadata": {},
     "output_type": "execute_result"
    }
   ],
   "source": [
    "users_data.head(5)"
   ]
  },
  {
   "cell_type": "markdown",
   "id": "9d797c72",
   "metadata": {},
   "source": [
    "##### Таблица с поездками"
   ]
  },
  {
   "cell_type": "code",
   "execution_count": 4,
   "id": "839110be",
   "metadata": {},
   "outputs": [],
   "source": [
    "try:\n",
    "    trips_data = pd.read_csv('/datasets/rides_go.csv')\n",
    "except:\n",
    "    trips_data = pd.read_csv('https://code.s3.yandex.net/datasets/rides_go.csv')"
   ]
  },
  {
   "cell_type": "code",
   "execution_count": 5,
   "id": "8dc0ac14",
   "metadata": {
    "scrolled": true
   },
   "outputs": [
    {
     "data": {
      "text/html": [
       "<div>\n",
       "<style scoped>\n",
       "    .dataframe tbody tr th:only-of-type {\n",
       "        vertical-align: middle;\n",
       "    }\n",
       "\n",
       "    .dataframe tbody tr th {\n",
       "        vertical-align: top;\n",
       "    }\n",
       "\n",
       "    .dataframe thead th {\n",
       "        text-align: right;\n",
       "    }\n",
       "</style>\n",
       "<table border=\"1\" class=\"dataframe\">\n",
       "  <thead>\n",
       "    <tr style=\"text-align: right;\">\n",
       "      <th></th>\n",
       "      <th>user_id</th>\n",
       "      <th>distance</th>\n",
       "      <th>duration</th>\n",
       "      <th>date</th>\n",
       "    </tr>\n",
       "  </thead>\n",
       "  <tbody>\n",
       "    <tr>\n",
       "      <th>0</th>\n",
       "      <td>1</td>\n",
       "      <td>4409.919140</td>\n",
       "      <td>25.599769</td>\n",
       "      <td>2021-01-01</td>\n",
       "    </tr>\n",
       "    <tr>\n",
       "      <th>1</th>\n",
       "      <td>1</td>\n",
       "      <td>2617.592153</td>\n",
       "      <td>15.816871</td>\n",
       "      <td>2021-01-18</td>\n",
       "    </tr>\n",
       "    <tr>\n",
       "      <th>2</th>\n",
       "      <td>1</td>\n",
       "      <td>754.159807</td>\n",
       "      <td>6.232113</td>\n",
       "      <td>2021-04-20</td>\n",
       "    </tr>\n",
       "    <tr>\n",
       "      <th>3</th>\n",
       "      <td>1</td>\n",
       "      <td>2694.783254</td>\n",
       "      <td>18.511000</td>\n",
       "      <td>2021-08-11</td>\n",
       "    </tr>\n",
       "    <tr>\n",
       "      <th>4</th>\n",
       "      <td>1</td>\n",
       "      <td>4028.687306</td>\n",
       "      <td>26.265803</td>\n",
       "      <td>2021-08-28</td>\n",
       "    </tr>\n",
       "  </tbody>\n",
       "</table>\n",
       "</div>"
      ],
      "text/plain": [
       "   user_id     distance   duration        date\n",
       "0        1  4409.919140  25.599769  2021-01-01\n",
       "1        1  2617.592153  15.816871  2021-01-18\n",
       "2        1   754.159807   6.232113  2021-04-20\n",
       "3        1  2694.783254  18.511000  2021-08-11\n",
       "4        1  4028.687306  26.265803  2021-08-28"
      ]
     },
     "execution_count": 5,
     "metadata": {},
     "output_type": "execute_result"
    }
   ],
   "source": [
    "trips_data.head(5)"
   ]
  },
  {
   "cell_type": "code",
   "execution_count": 6,
   "id": "00afa15a",
   "metadata": {},
   "outputs": [
    {
     "data": {
      "text/html": [
       "<div>\n",
       "<style scoped>\n",
       "    .dataframe tbody tr th:only-of-type {\n",
       "        vertical-align: middle;\n",
       "    }\n",
       "\n",
       "    .dataframe tbody tr th {\n",
       "        vertical-align: top;\n",
       "    }\n",
       "\n",
       "    .dataframe thead th {\n",
       "        text-align: right;\n",
       "    }\n",
       "</style>\n",
       "<table border=\"1\" class=\"dataframe\">\n",
       "  <thead>\n",
       "    <tr style=\"text-align: right;\">\n",
       "      <th></th>\n",
       "      <th>user_id</th>\n",
       "      <th>distance</th>\n",
       "      <th>duration</th>\n",
       "      <th>date</th>\n",
       "    </tr>\n",
       "  </thead>\n",
       "  <tbody>\n",
       "    <tr>\n",
       "      <th>0</th>\n",
       "      <td>1</td>\n",
       "      <td>4409.92</td>\n",
       "      <td>25.60</td>\n",
       "      <td>2021-01-01</td>\n",
       "    </tr>\n",
       "    <tr>\n",
       "      <th>1</th>\n",
       "      <td>1</td>\n",
       "      <td>2617.59</td>\n",
       "      <td>15.82</td>\n",
       "      <td>2021-01-18</td>\n",
       "    </tr>\n",
       "    <tr>\n",
       "      <th>2</th>\n",
       "      <td>1</td>\n",
       "      <td>754.16</td>\n",
       "      <td>6.23</td>\n",
       "      <td>2021-04-20</td>\n",
       "    </tr>\n",
       "    <tr>\n",
       "      <th>3</th>\n",
       "      <td>1</td>\n",
       "      <td>2694.78</td>\n",
       "      <td>18.51</td>\n",
       "      <td>2021-08-11</td>\n",
       "    </tr>\n",
       "    <tr>\n",
       "      <th>4</th>\n",
       "      <td>1</td>\n",
       "      <td>4028.69</td>\n",
       "      <td>26.27</td>\n",
       "      <td>2021-08-28</td>\n",
       "    </tr>\n",
       "  </tbody>\n",
       "</table>\n",
       "</div>"
      ],
      "text/plain": [
       "   user_id  distance  duration        date\n",
       "0        1   4409.92     25.60  2021-01-01\n",
       "1        1   2617.59     15.82  2021-01-18\n",
       "2        1    754.16      6.23  2021-04-20\n",
       "3        1   2694.78     18.51  2021-08-11\n",
       "4        1   4028.69     26.27  2021-08-28"
      ]
     },
     "execution_count": 6,
     "metadata": {},
     "output_type": "execute_result"
    }
   ],
   "source": [
    "trips_data = trips_data.reset_index(drop=True)\n",
    "pd.set_option('display.float_format', '{:.2f}'.format)\n",
    "trips_data.head(5)"
   ]
  },
  {
   "cell_type": "markdown",
   "id": "376fabca",
   "metadata": {},
   "source": [
    "##### Таблица с подписками"
   ]
  },
  {
   "cell_type": "code",
   "execution_count": 7,
   "id": "e6b45ec8",
   "metadata": {},
   "outputs": [],
   "source": [
    "try:\n",
    "    subs_data = pd.read_csv('/datasets/subscriptions_go.csv')\n",
    "except:\n",
    "    subs_data = pd.read_csv('https://code.s3.yandex.net/datasets/subscriptions_go.csv')"
   ]
  },
  {
   "cell_type": "code",
   "execution_count": 8,
   "id": "a6767720",
   "metadata": {
    "scrolled": true
   },
   "outputs": [
    {
     "data": {
      "text/html": [
       "<div>\n",
       "<style scoped>\n",
       "    .dataframe tbody tr th:only-of-type {\n",
       "        vertical-align: middle;\n",
       "    }\n",
       "\n",
       "    .dataframe tbody tr th {\n",
       "        vertical-align: top;\n",
       "    }\n",
       "\n",
       "    .dataframe thead th {\n",
       "        text-align: right;\n",
       "    }\n",
       "</style>\n",
       "<table border=\"1\" class=\"dataframe\">\n",
       "  <thead>\n",
       "    <tr style=\"text-align: right;\">\n",
       "      <th></th>\n",
       "      <th>subscription_type</th>\n",
       "      <th>minute_price</th>\n",
       "      <th>start_ride_price</th>\n",
       "      <th>subscription_fee</th>\n",
       "    </tr>\n",
       "  </thead>\n",
       "  <tbody>\n",
       "    <tr>\n",
       "      <th>0</th>\n",
       "      <td>free</td>\n",
       "      <td>8</td>\n",
       "      <td>50</td>\n",
       "      <td>0</td>\n",
       "    </tr>\n",
       "    <tr>\n",
       "      <th>1</th>\n",
       "      <td>ultra</td>\n",
       "      <td>6</td>\n",
       "      <td>0</td>\n",
       "      <td>199</td>\n",
       "    </tr>\n",
       "  </tbody>\n",
       "</table>\n",
       "</div>"
      ],
      "text/plain": [
       "  subscription_type  minute_price  start_ride_price  subscription_fee\n",
       "0              free             8                50                 0\n",
       "1             ultra             6                 0               199"
      ]
     },
     "execution_count": 8,
     "metadata": {},
     "output_type": "execute_result"
    }
   ],
   "source": [
    "subs_data.head(5)"
   ]
  },
  {
   "cell_type": "markdown",
   "id": "77bba341",
   "metadata": {},
   "source": [
    "Общая информация по 3 таблицам"
   ]
  },
  {
   "cell_type": "code",
   "execution_count": 9,
   "id": "34038382",
   "metadata": {},
   "outputs": [
    {
     "name": "stdout",
     "output_type": "stream",
     "text": [
      "<class 'pandas.core.frame.DataFrame'>\n",
      "RangeIndex: 1565 entries, 0 to 1564\n",
      "Data columns (total 5 columns):\n",
      " #   Column             Non-Null Count  Dtype \n",
      "---  ------             --------------  ----- \n",
      " 0   user_id            1565 non-null   int64 \n",
      " 1   name               1565 non-null   object\n",
      " 2   age                1565 non-null   int64 \n",
      " 3   city               1565 non-null   object\n",
      " 4   subscription_type  1565 non-null   object\n",
      "dtypes: int64(2), object(3)\n",
      "memory usage: 61.3+ KB\n",
      "---\n",
      "<class 'pandas.core.frame.DataFrame'>\n",
      "RangeIndex: 18068 entries, 0 to 18067\n",
      "Data columns (total 4 columns):\n",
      " #   Column    Non-Null Count  Dtype  \n",
      "---  ------    --------------  -----  \n",
      " 0   user_id   18068 non-null  int64  \n",
      " 1   distance  18068 non-null  float64\n",
      " 2   duration  18068 non-null  float64\n",
      " 3   date      18068 non-null  object \n",
      "dtypes: float64(2), int64(1), object(1)\n",
      "memory usage: 564.8+ KB\n",
      "---\n",
      "<class 'pandas.core.frame.DataFrame'>\n",
      "RangeIndex: 2 entries, 0 to 1\n",
      "Data columns (total 4 columns):\n",
      " #   Column             Non-Null Count  Dtype \n",
      "---  ------             --------------  ----- \n",
      " 0   subscription_type  2 non-null      object\n",
      " 1   minute_price       2 non-null      int64 \n",
      " 2   start_ride_price   2 non-null      int64 \n",
      " 3   subscription_fee   2 non-null      int64 \n",
      "dtypes: int64(3), object(1)\n",
      "memory usage: 192.0+ bytes\n"
     ]
    }
   ],
   "source": [
    "users_data.info()\n",
    "print('---')\n",
    "trips_data.info()\n",
    "print('---')\n",
    "subs_data.info()"
   ]
  },
  {
   "cell_type": "markdown",
   "id": "074b5eb1",
   "metadata": {},
   "source": [
    "Построим распределение пользователей по годам"
   ]
  },
  {
   "cell_type": "code",
   "execution_count": 10,
   "id": "ed90507c",
   "metadata": {},
   "outputs": [],
   "source": [
    "users_data_age = users_data['age'].value_counts(dropna=False)\n",
    "#display(users_data_age)"
   ]
  },
  {
   "cell_type": "code",
   "execution_count": 11,
   "id": "677c87b6",
   "metadata": {
    "scrolled": true
   },
   "outputs": [
    {
     "data": {
      "image/png": "[encoded data removed]",
      "text/plain": [
       "<Figure size 432x288 with 1 Axes>"
      ]
     },
     "metadata": {
      "needs_background": "light"
     },
     "output_type": "display_data"
    }
   ],
   "source": [
    "plt.hist(users_data['age'], bins = 10)\n",
    "plt.title('Возраст пользователей')\n",
    "plt.xlabel('Возраст')\n",
    "plt.ylabel('Количество пользователей')\n",
    "plt.grid()\n",
    "plt.show()"
   ]
  },
  {
   "cell_type": "code",
   "execution_count": 12,
   "id": "8bb36d23",
   "metadata": {},
   "outputs": [
    {
     "data": {
      "text/plain": [
       "12"
      ]
     },
     "execution_count": 12,
     "metadata": {},
     "output_type": "execute_result"
    }
   ],
   "source": [
    "users_data['age'].min()"
   ]
  },
  {
   "cell_type": "code",
   "execution_count": 13,
   "id": "6aad09d0",
   "metadata": {},
   "outputs": [
    {
     "data": {
      "text/plain": [
       "43"
      ]
     },
     "execution_count": 13,
     "metadata": {},
     "output_type": "execute_result"
    }
   ],
   "source": [
    "users_data['age'].max()"
   ]
  },
  {
   "cell_type": "code",
   "execution_count": 14,
   "id": "e35bc1cb",
   "metadata": {
    "scrolled": true
   },
   "outputs": [
    {
     "data": {
      "text/plain": [
       "24.922044728434503"
      ]
     },
     "execution_count": 14,
     "metadata": {},
     "output_type": "execute_result"
    }
   ],
   "source": [
    "users_data['age'].mean()"
   ]
  },
  {
   "cell_type": "markdown",
   "id": "05b69d2a",
   "metadata": {},
   "source": [
    "Средний возраст пользователей 25 лет, минимальный возраст 12 лет а максимальный 43 года."
   ]
  },
  {
   "cell_type": "markdown",
   "id": "9a19f3b2",
   "metadata": {},
   "source": [
    "Построим распределение пользователей по городам"
   ]
  },
  {
   "cell_type": "code",
   "execution_count": 15,
   "id": "3f15fc51",
   "metadata": {
    "scrolled": false
   },
   "outputs": [
    {
     "data": {
      "text/plain": [
       "Пятигорск         226\n",
       "Екатеринбург      206\n",
       "Ростов-на-Дону    202\n",
       "Краснодар         196\n",
       "Сочи              192\n",
       "Омск              186\n",
       "Тюмень            185\n",
       "Москва            172\n",
       "Name: city, dtype: int64"
      ]
     },
     "metadata": {},
     "output_type": "display_data"
    },
    {
     "data": {
      "image/png": "[encoded data removed]",
      "text/plain": [
       "<Figure size 504x504 with 1 Axes>"
      ]
     },
     "metadata": {},
     "output_type": "display_data"
    }
   ],
   "source": [
    "users_data_city = users_data['city'].value_counts(dropna=False)\n",
    "display(users_data_city)\n",
    "users_data['city'].value_counts().plot(\n",
    "    kind = 'pie', \n",
    "    y = users_data_city,\n",
    "    autopct = '%1.0f%%',\n",
    "    figsize=(7,7), \n",
    "    title = 'Распределение пользователей по городам')\n",
    "plt.show()"
   ]
  },
  {
   "cell_type": "code",
   "execution_count": 16,
   "id": "bc6292ce",
   "metadata": {},
   "outputs": [
    {
     "data": {
      "text/plain": [
       "free     846\n",
       "ultra    719\n",
       "Name: subscription_type, dtype: int64"
      ]
     },
     "execution_count": 16,
     "metadata": {},
     "output_type": "execute_result"
    }
   ],
   "source": [
    "count_subs = users_data['subscription_type'].value_counts()\n",
    "count_subs"
   ]
  },
  {
   "cell_type": "code",
   "execution_count": 17,
   "id": "c9f62f89",
   "metadata": {},
   "outputs": [],
   "source": [
    "#users_data['name'].unique()\n",
    "#users_data['age'].unique()\n",
    "#users_data['city'].unique()\n",
    "#users_data['subscription_type'].unique()"
   ]
  },
  {
   "cell_type": "code",
   "execution_count": 18,
   "id": "b824b52c",
   "metadata": {},
   "outputs": [],
   "source": [
    "#users_data['name'].value_counts(dropna=False)\n",
    "#users_data['city'].value_counts(dropna=False)\n",
    "#users_data['subscription_type'].value_counts(dropna=False)\n",
    "#users_data['age'].value_counts(dropna=False)"
   ]
  },
  {
   "cell_type": "markdown",
   "id": "c2f61606",
   "metadata": {},
   "source": [
    "Приведем столбец date к типу даты pandas."
   ]
  },
  {
   "cell_type": "code",
   "execution_count": 19,
   "id": "1d13aa9a",
   "metadata": {},
   "outputs": [],
   "source": [
    "trips_data['date'] = (\n",
    "    pd.to_datetime(trips_data['date'],\n",
    "                   format='%Y-%m-%dT%')\n",
    ")\n",
    "#trips_data.info()"
   ]
  },
  {
   "cell_type": "code",
   "execution_count": 20,
   "id": "18e05da3",
   "metadata": {},
   "outputs": [],
   "source": [
    "#trips.duration.unique()\n",
    "#trips.distance.unique()\n",
    "#trips.date.unique()"
   ]
  },
  {
   "cell_type": "markdown",
   "id": "f170df9a",
   "metadata": {},
   "source": [
    "Посмотрим на распределение в зависимости от подписки."
   ]
  },
  {
   "cell_type": "code",
   "execution_count": 21,
   "id": "e9daeecc",
   "metadata": {
    "scrolled": false
   },
   "outputs": [
    {
     "data": {
      "image/png": "[encoded data removed]",
      "text/plain": [
       "<Figure size 360x360 with 1 Axes>"
      ]
     },
     "metadata": {},
     "output_type": "display_data"
    }
   ],
   "source": [
    "users_data['subscription_type'].value_counts().plot(\n",
    "    kind = 'pie', \n",
    "    y = count_subs, \n",
    "    autopct = '%1.0f%%', \n",
    "    figsize=(5,5),\n",
    "    title = 'Процентное соотношение пользователей в зависимости от тарифа');"
   ]
  },
  {
   "cell_type": "code",
   "execution_count": 22,
   "id": "a05d3a5f",
   "metadata": {
    "scrolled": true
   },
   "outputs": [
    {
     "data": {
      "text/plain": [
       "free     846\n",
       "ultra    719\n",
       "Name: subscription_type, dtype: int64"
      ]
     },
     "execution_count": 22,
     "metadata": {},
     "output_type": "execute_result"
    }
   ],
   "source": [
    "users_data['subscription_type'].value_counts()"
   ]
  },
  {
   "cell_type": "markdown",
   "id": "58b6b873",
   "metadata": {},
   "source": [
    "Пользователей без подписки больше на 8%."
   ]
  },
  {
   "cell_type": "markdown",
   "id": "f8cbe4c5",
   "metadata": {},
   "source": [
    "##### Вывод.\n",
    "- Средний возраст пользователей 25 лет, минимальный 12 а самому старшему 43 года.\n",
    "- Пользователи равномерно распредлены по всем городам, но чуть больше в Пятигорске а меньше всего в Москве.\n",
    "- Пользователей без подписки на 8% больше чем с подпиской."
   ]
  },
  {
   "cell_type": "markdown",
   "id": "e95ebca7",
   "metadata": {},
   "source": [
    "#### Шаг 2. Предобработка данных"
   ]
  },
  {
   "cell_type": "markdown",
   "id": "32bcf654",
   "metadata": {},
   "source": [
    "Создадим новый столбец с номером месяца, но сначала проверим за какой период наши данные, чтоб не получилось что месяц один и тот же а года разные."
   ]
  },
  {
   "cell_type": "code",
   "execution_count": 23,
   "id": "0ca61b0a",
   "metadata": {
    "scrolled": true
   },
   "outputs": [
    {
     "data": {
      "text/plain": [
       "array([2021])"
      ]
     },
     "execution_count": 23,
     "metadata": {},
     "output_type": "execute_result"
    }
   ],
   "source": [
    "trips_data['date'].dt.year.unique()"
   ]
  },
  {
   "cell_type": "markdown",
   "id": "708031d2",
   "metadata": {},
   "source": [
    "Данные представленны только за один год."
   ]
  },
  {
   "cell_type": "code",
   "execution_count": 24,
   "id": "e7112a7e",
   "metadata": {},
   "outputs": [
    {
     "data": {
      "text/html": [
       "<div>\n",
       "<style scoped>\n",
       "    .dataframe tbody tr th:only-of-type {\n",
       "        vertical-align: middle;\n",
       "    }\n",
       "\n",
       "    .dataframe tbody tr th {\n",
       "        vertical-align: top;\n",
       "    }\n",
       "\n",
       "    .dataframe thead th {\n",
       "        text-align: right;\n",
       "    }\n",
       "</style>\n",
       "<table border=\"1\" class=\"dataframe\">\n",
       "  <thead>\n",
       "    <tr style=\"text-align: right;\">\n",
       "      <th></th>\n",
       "      <th>user_id</th>\n",
       "      <th>distance</th>\n",
       "      <th>duration</th>\n",
       "      <th>date</th>\n",
       "      <th>month</th>\n",
       "    </tr>\n",
       "  </thead>\n",
       "  <tbody>\n",
       "    <tr>\n",
       "      <th>0</th>\n",
       "      <td>1</td>\n",
       "      <td>4409.92</td>\n",
       "      <td>25.60</td>\n",
       "      <td>2021-01-01</td>\n",
       "      <td>1</td>\n",
       "    </tr>\n",
       "    <tr>\n",
       "      <th>1</th>\n",
       "      <td>1</td>\n",
       "      <td>2617.59</td>\n",
       "      <td>15.82</td>\n",
       "      <td>2021-01-18</td>\n",
       "      <td>1</td>\n",
       "    </tr>\n",
       "    <tr>\n",
       "      <th>2</th>\n",
       "      <td>1</td>\n",
       "      <td>754.16</td>\n",
       "      <td>6.23</td>\n",
       "      <td>2021-04-20</td>\n",
       "      <td>4</td>\n",
       "    </tr>\n",
       "    <tr>\n",
       "      <th>3</th>\n",
       "      <td>1</td>\n",
       "      <td>2694.78</td>\n",
       "      <td>18.51</td>\n",
       "      <td>2021-08-11</td>\n",
       "      <td>8</td>\n",
       "    </tr>\n",
       "    <tr>\n",
       "      <th>4</th>\n",
       "      <td>1</td>\n",
       "      <td>4028.69</td>\n",
       "      <td>26.27</td>\n",
       "      <td>2021-08-28</td>\n",
       "      <td>8</td>\n",
       "    </tr>\n",
       "    <tr>\n",
       "      <th>...</th>\n",
       "      <td>...</td>\n",
       "      <td>...</td>\n",
       "      <td>...</td>\n",
       "      <td>...</td>\n",
       "      <td>...</td>\n",
       "    </tr>\n",
       "    <tr>\n",
       "      <th>18063</th>\n",
       "      <td>1534</td>\n",
       "      <td>3781.10</td>\n",
       "      <td>19.82</td>\n",
       "      <td>2021-11-04</td>\n",
       "      <td>11</td>\n",
       "    </tr>\n",
       "    <tr>\n",
       "      <th>18064</th>\n",
       "      <td>1534</td>\n",
       "      <td>2840.42</td>\n",
       "      <td>21.41</td>\n",
       "      <td>2021-11-16</td>\n",
       "      <td>11</td>\n",
       "    </tr>\n",
       "    <tr>\n",
       "      <th>18065</th>\n",
       "      <td>1534</td>\n",
       "      <td>3826.19</td>\n",
       "      <td>18.44</td>\n",
       "      <td>2021-11-18</td>\n",
       "      <td>11</td>\n",
       "    </tr>\n",
       "    <tr>\n",
       "      <th>18066</th>\n",
       "      <td>1534</td>\n",
       "      <td>2902.31</td>\n",
       "      <td>16.67</td>\n",
       "      <td>2021-11-27</td>\n",
       "      <td>11</td>\n",
       "    </tr>\n",
       "    <tr>\n",
       "      <th>18067</th>\n",
       "      <td>1534</td>\n",
       "      <td>2371.71</td>\n",
       "      <td>15.89</td>\n",
       "      <td>2021-12-29</td>\n",
       "      <td>12</td>\n",
       "    </tr>\n",
       "  </tbody>\n",
       "</table>\n",
       "<p>18068 rows × 5 columns</p>\n",
       "</div>"
      ],
      "text/plain": [
       "       user_id  distance  duration       date  month\n",
       "0            1   4409.92     25.60 2021-01-01      1\n",
       "1            1   2617.59     15.82 2021-01-18      1\n",
       "2            1    754.16      6.23 2021-04-20      4\n",
       "3            1   2694.78     18.51 2021-08-11      8\n",
       "4            1   4028.69     26.27 2021-08-28      8\n",
       "...        ...       ...       ...        ...    ...\n",
       "18063     1534   3781.10     19.82 2021-11-04     11\n",
       "18064     1534   2840.42     21.41 2021-11-16     11\n",
       "18065     1534   3826.19     18.44 2021-11-18     11\n",
       "18066     1534   2902.31     16.67 2021-11-27     11\n",
       "18067     1534   2371.71     15.89 2021-12-29     12\n",
       "\n",
       "[18068 rows x 5 columns]"
      ]
     },
     "metadata": {},
     "output_type": "display_data"
    }
   ],
   "source": [
    "trips_data['month'] = pd.DatetimeIndex(trips_data['date']).month\n",
    "display(trips_data)"
   ]
  },
  {
   "cell_type": "markdown",
   "id": "0a246c08",
   "metadata": {},
   "source": [
    "Посчитаем сколько пропущенных значений и дубликатов в таблице users_data."
   ]
  },
  {
   "cell_type": "code",
   "execution_count": 25,
   "id": "93ac30fd",
   "metadata": {
    "scrolled": false
   },
   "outputs": [
    {
     "name": "stdout",
     "output_type": "stream",
     "text": [
      "user_id: 0.00%\n",
      "name: 0.00%\n",
      "age: 0.00%\n",
      "city: 0.00%\n",
      "subscription_type: 0.00%\n"
     ]
    }
   ],
   "source": [
    "for col in users_data.columns:\n",
    "    print(f'{col}: {users_data[col].isna().sum() / users_data.shape[0] * 100:.2f}%')\n",
    "# посчитал процент отсутствующих значений по каждой колонке."
   ]
  },
  {
   "cell_type": "code",
   "execution_count": 26,
   "id": "20160695",
   "metadata": {},
   "outputs": [
    {
     "data": {
      "text/plain": [
       "31"
      ]
     },
     "execution_count": 26,
     "metadata": {},
     "output_type": "execute_result"
    }
   ],
   "source": [
    "users_data.duplicated().sum()"
   ]
  },
  {
   "cell_type": "markdown",
   "id": "4c79e344",
   "metadata": {},
   "source": [
    "Посчитаем сколько пропущенных значений и дубликатов в таблице trips_data."
   ]
  },
  {
   "cell_type": "code",
   "execution_count": 27,
   "id": "101fd9ab",
   "metadata": {
    "scrolled": true
   },
   "outputs": [
    {
     "name": "stdout",
     "output_type": "stream",
     "text": [
      "user_id: 0.00%\n",
      "distance: 0.00%\n",
      "duration: 0.00%\n",
      "date: 0.00%\n",
      "month: 0.00%\n"
     ]
    }
   ],
   "source": [
    "for col in trips_data.columns:\n",
    "    print(f'{col}: {trips_data[col].isna().sum() / trips_data.shape[0] * 100:.2f}%')\n",
    "# посчитал процент отсутствующих значений по каждой колонке."
   ]
  },
  {
   "cell_type": "code",
   "execution_count": 28,
   "id": "b22b39ff",
   "metadata": {},
   "outputs": [
    {
     "data": {
      "text/plain": [
       "0"
      ]
     },
     "execution_count": 28,
     "metadata": {},
     "output_type": "execute_result"
    }
   ],
   "source": [
    "trips_data.duplicated().sum()"
   ]
  },
  {
   "cell_type": "markdown",
   "id": "c4c09632",
   "metadata": {},
   "source": [
    "Посчитаем сколько пропущенных значений и дубликатов в таблице subs_data."
   ]
  },
  {
   "cell_type": "code",
   "execution_count": 29,
   "id": "9a01f24f",
   "metadata": {
    "scrolled": false
   },
   "outputs": [
    {
     "name": "stdout",
     "output_type": "stream",
     "text": [
      "subscription_type: 0.00%\n",
      "minute_price: 0.00%\n",
      "start_ride_price: 0.00%\n",
      "subscription_fee: 0.00%\n"
     ]
    }
   ],
   "source": [
    "for col in subs_data.columns:\n",
    "    print(f'{col}: {subs_data[col].isna().sum() / subs_data.shape[0] * 100:.2f}%')\n",
    "# посчитал процент отсутствующих значений по каждой колонке."
   ]
  },
  {
   "cell_type": "code",
   "execution_count": 30,
   "id": "7c4b7d0f",
   "metadata": {},
   "outputs": [
    {
     "data": {
      "text/plain": [
       "0"
      ]
     },
     "execution_count": 30,
     "metadata": {},
     "output_type": "execute_result"
    }
   ],
   "source": [
    "subs_data.duplicated().sum()"
   ]
  },
  {
   "cell_type": "markdown",
   "id": "af61ef9e",
   "metadata": {},
   "source": [
    "Пропущенных значений нет ни в одной таблице, но 31 дубликат в таблице users_data."
   ]
  },
  {
   "cell_type": "code",
   "execution_count": 31,
   "id": "18f834a4",
   "metadata": {
    "scrolled": true
   },
   "outputs": [],
   "source": [
    "duplicated_rows = users_data[users_data.duplicated()]\n",
    "#duplicated_rows"
   ]
  },
  {
   "cell_type": "code",
   "execution_count": 32,
   "id": "8a18f08c",
   "metadata": {},
   "outputs": [
    {
     "data": {
      "text/plain": [
       "(31, 5)"
      ]
     },
     "execution_count": 32,
     "metadata": {},
     "output_type": "execute_result"
    }
   ],
   "source": [
    "duplicated_rows.shape"
   ]
  },
  {
   "cell_type": "markdown",
   "id": "403d63f3",
   "metadata": {},
   "source": [
    "Выявил 31 дубликат в татлице users_data. Во всех колонках этой таблицы значения могут повторяться, но не в колонке user_id, здесь должны быть только уникальные значения.  \n",
    "Проверим столбец user_id."
   ]
  },
  {
   "cell_type": "code",
   "execution_count": 33,
   "id": "7d508e90",
   "metadata": {},
   "outputs": [
    {
     "data": {
      "text/html": [
       "<div>\n",
       "<style scoped>\n",
       "    .dataframe tbody tr th:only-of-type {\n",
       "        vertical-align: middle;\n",
       "    }\n",
       "\n",
       "    .dataframe tbody tr th {\n",
       "        vertical-align: top;\n",
       "    }\n",
       "\n",
       "    .dataframe thead th {\n",
       "        text-align: right;\n",
       "    }\n",
       "</style>\n",
       "<table border=\"1\" class=\"dataframe\">\n",
       "  <thead>\n",
       "    <tr style=\"text-align: right;\">\n",
       "      <th></th>\n",
       "      <th>user_id</th>\n",
       "      <th>name</th>\n",
       "      <th>age</th>\n",
       "      <th>city</th>\n",
       "      <th>subscription_type</th>\n",
       "    </tr>\n",
       "  </thead>\n",
       "  <tbody>\n",
       "    <tr>\n",
       "      <th>1534</th>\n",
       "      <td>293</td>\n",
       "      <td>Агата</td>\n",
       "      <td>26</td>\n",
       "      <td>Краснодар</td>\n",
       "      <td>ultra</td>\n",
       "    </tr>\n",
       "    <tr>\n",
       "      <th>1535</th>\n",
       "      <td>16</td>\n",
       "      <td>Амалия</td>\n",
       "      <td>27</td>\n",
       "      <td>Краснодар</td>\n",
       "      <td>ultra</td>\n",
       "    </tr>\n",
       "    <tr>\n",
       "      <th>1536</th>\n",
       "      <td>909</td>\n",
       "      <td>Константин</td>\n",
       "      <td>20</td>\n",
       "      <td>Екатеринбург</td>\n",
       "      <td>free</td>\n",
       "    </tr>\n",
       "    <tr>\n",
       "      <th>1537</th>\n",
       "      <td>403</td>\n",
       "      <td>Полина</td>\n",
       "      <td>19</td>\n",
       "      <td>Сочи</td>\n",
       "      <td>ultra</td>\n",
       "    </tr>\n",
       "    <tr>\n",
       "      <th>1538</th>\n",
       "      <td>908</td>\n",
       "      <td>Рустам</td>\n",
       "      <td>30</td>\n",
       "      <td>Тюмень</td>\n",
       "      <td>free</td>\n",
       "    </tr>\n",
       "    <tr>\n",
       "      <th>1539</th>\n",
       "      <td>43</td>\n",
       "      <td>Стефания</td>\n",
       "      <td>22</td>\n",
       "      <td>Омск</td>\n",
       "      <td>ultra</td>\n",
       "    </tr>\n",
       "    <tr>\n",
       "      <th>1540</th>\n",
       "      <td>127</td>\n",
       "      <td>Павел</td>\n",
       "      <td>25</td>\n",
       "      <td>Пятигорск</td>\n",
       "      <td>ultra</td>\n",
       "    </tr>\n",
       "    <tr>\n",
       "      <th>1541</th>\n",
       "      <td>659</td>\n",
       "      <td>Злата</td>\n",
       "      <td>27</td>\n",
       "      <td>Ростов-на-Дону</td>\n",
       "      <td>ultra</td>\n",
       "    </tr>\n",
       "    <tr>\n",
       "      <th>1542</th>\n",
       "      <td>204</td>\n",
       "      <td>Руслан</td>\n",
       "      <td>30</td>\n",
       "      <td>Пятигорск</td>\n",
       "      <td>ultra</td>\n",
       "    </tr>\n",
       "    <tr>\n",
       "      <th>1543</th>\n",
       "      <td>153</td>\n",
       "      <td>Герман</td>\n",
       "      <td>23</td>\n",
       "      <td>Москва</td>\n",
       "      <td>ultra</td>\n",
       "    </tr>\n",
       "    <tr>\n",
       "      <th>1544</th>\n",
       "      <td>1245</td>\n",
       "      <td>Регина</td>\n",
       "      <td>27</td>\n",
       "      <td>Пятигорск</td>\n",
       "      <td>free</td>\n",
       "    </tr>\n",
       "    <tr>\n",
       "      <th>1545</th>\n",
       "      <td>807</td>\n",
       "      <td>Александр</td>\n",
       "      <td>28</td>\n",
       "      <td>Екатеринбург</td>\n",
       "      <td>free</td>\n",
       "    </tr>\n",
       "    <tr>\n",
       "      <th>1546</th>\n",
       "      <td>924</td>\n",
       "      <td>Мария</td>\n",
       "      <td>23</td>\n",
       "      <td>Пятигорск</td>\n",
       "      <td>free</td>\n",
       "    </tr>\n",
       "    <tr>\n",
       "      <th>1547</th>\n",
       "      <td>635</td>\n",
       "      <td>Герман</td>\n",
       "      <td>21</td>\n",
       "      <td>Москва</td>\n",
       "      <td>ultra</td>\n",
       "    </tr>\n",
       "    <tr>\n",
       "      <th>1548</th>\n",
       "      <td>136</td>\n",
       "      <td>Марсель</td>\n",
       "      <td>25</td>\n",
       "      <td>Тюмень</td>\n",
       "      <td>ultra</td>\n",
       "    </tr>\n",
       "    <tr>\n",
       "      <th>1549</th>\n",
       "      <td>108</td>\n",
       "      <td>Влада</td>\n",
       "      <td>29</td>\n",
       "      <td>Тюмень</td>\n",
       "      <td>ultra</td>\n",
       "    </tr>\n",
       "    <tr>\n",
       "      <th>1550</th>\n",
       "      <td>737</td>\n",
       "      <td>Мелания</td>\n",
       "      <td>27</td>\n",
       "      <td>Ростов-на-Дону</td>\n",
       "      <td>free</td>\n",
       "    </tr>\n",
       "    <tr>\n",
       "      <th>1551</th>\n",
       "      <td>666</td>\n",
       "      <td>Зарина</td>\n",
       "      <td>29</td>\n",
       "      <td>Москва</td>\n",
       "      <td>ultra</td>\n",
       "    </tr>\n",
       "    <tr>\n",
       "      <th>1552</th>\n",
       "      <td>297</td>\n",
       "      <td>Егор</td>\n",
       "      <td>33</td>\n",
       "      <td>Пятигорск</td>\n",
       "      <td>ultra</td>\n",
       "    </tr>\n",
       "    <tr>\n",
       "      <th>1553</th>\n",
       "      <td>121</td>\n",
       "      <td>Алина</td>\n",
       "      <td>25</td>\n",
       "      <td>Пятигорск</td>\n",
       "      <td>ultra</td>\n",
       "    </tr>\n",
       "    <tr>\n",
       "      <th>1554</th>\n",
       "      <td>1198</td>\n",
       "      <td>Демид</td>\n",
       "      <td>29</td>\n",
       "      <td>Ростов-на-Дону</td>\n",
       "      <td>free</td>\n",
       "    </tr>\n",
       "    <tr>\n",
       "      <th>1555</th>\n",
       "      <td>72</td>\n",
       "      <td>Никита</td>\n",
       "      <td>25</td>\n",
       "      <td>Москва</td>\n",
       "      <td>ultra</td>\n",
       "    </tr>\n",
       "    <tr>\n",
       "      <th>1556</th>\n",
       "      <td>422</td>\n",
       "      <td>Кирилл</td>\n",
       "      <td>27</td>\n",
       "      <td>Сочи</td>\n",
       "      <td>ultra</td>\n",
       "    </tr>\n",
       "    <tr>\n",
       "      <th>1557</th>\n",
       "      <td>611</td>\n",
       "      <td>Владимир</td>\n",
       "      <td>28</td>\n",
       "      <td>Омск</td>\n",
       "      <td>ultra</td>\n",
       "    </tr>\n",
       "    <tr>\n",
       "      <th>1558</th>\n",
       "      <td>1237</td>\n",
       "      <td>Евгения</td>\n",
       "      <td>23</td>\n",
       "      <td>Тюмень</td>\n",
       "      <td>free</td>\n",
       "    </tr>\n",
       "    <tr>\n",
       "      <th>1559</th>\n",
       "      <td>209</td>\n",
       "      <td>Андрей</td>\n",
       "      <td>23</td>\n",
       "      <td>Омск</td>\n",
       "      <td>ultra</td>\n",
       "    </tr>\n",
       "    <tr>\n",
       "      <th>1560</th>\n",
       "      <td>829</td>\n",
       "      <td>Федор</td>\n",
       "      <td>29</td>\n",
       "      <td>Пятигорск</td>\n",
       "      <td>free</td>\n",
       "    </tr>\n",
       "    <tr>\n",
       "      <th>1561</th>\n",
       "      <td>809</td>\n",
       "      <td>Юрий</td>\n",
       "      <td>26</td>\n",
       "      <td>Сочи</td>\n",
       "      <td>free</td>\n",
       "    </tr>\n",
       "    <tr>\n",
       "      <th>1562</th>\n",
       "      <td>307</td>\n",
       "      <td>Ясмина</td>\n",
       "      <td>19</td>\n",
       "      <td>Краснодар</td>\n",
       "      <td>ultra</td>\n",
       "    </tr>\n",
       "    <tr>\n",
       "      <th>1563</th>\n",
       "      <td>47</td>\n",
       "      <td>Юрий</td>\n",
       "      <td>28</td>\n",
       "      <td>Тюмень</td>\n",
       "      <td>ultra</td>\n",
       "    </tr>\n",
       "    <tr>\n",
       "      <th>1564</th>\n",
       "      <td>1045</td>\n",
       "      <td>Артемий</td>\n",
       "      <td>28</td>\n",
       "      <td>Ростов-на-Дону</td>\n",
       "      <td>free</td>\n",
       "    </tr>\n",
       "  </tbody>\n",
       "</table>\n",
       "</div>"
      ],
      "text/plain": [
       "      user_id        name  age            city subscription_type\n",
       "1534      293       Агата   26       Краснодар             ultra\n",
       "1535       16      Амалия   27       Краснодар             ultra\n",
       "1536      909  Константин   20    Екатеринбург              free\n",
       "1537      403      Полина   19            Сочи             ultra\n",
       "1538      908      Рустам   30          Тюмень              free\n",
       "1539       43    Стефания   22            Омск             ultra\n",
       "1540      127       Павел   25       Пятигорск             ultra\n",
       "1541      659       Злата   27  Ростов-на-Дону             ultra\n",
       "1542      204      Руслан   30       Пятигорск             ultra\n",
       "1543      153      Герман   23          Москва             ultra\n",
       "1544     1245      Регина   27       Пятигорск              free\n",
       "1545      807   Александр   28    Екатеринбург              free\n",
       "1546      924       Мария   23       Пятигорск              free\n",
       "1547      635      Герман   21          Москва             ultra\n",
       "1548      136     Марсель   25          Тюмень             ultra\n",
       "1549      108       Влада   29          Тюмень             ultra\n",
       "1550      737     Мелания   27  Ростов-на-Дону              free\n",
       "1551      666      Зарина   29          Москва             ultra\n",
       "1552      297        Егор   33       Пятигорск             ultra\n",
       "1553      121       Алина   25       Пятигорск             ultra\n",
       "1554     1198       Демид   29  Ростов-на-Дону              free\n",
       "1555       72      Никита   25          Москва             ultra\n",
       "1556      422      Кирилл   27            Сочи             ultra\n",
       "1557      611    Владимир   28            Омск             ultra\n",
       "1558     1237     Евгения   23          Тюмень              free\n",
       "1559      209      Андрей   23            Омск             ultra\n",
       "1560      829       Федор   29       Пятигорск              free\n",
       "1561      809        Юрий   26            Сочи              free\n",
       "1562      307      Ясмина   19       Краснодар             ultra\n",
       "1563       47        Юрий   28          Тюмень             ultra\n",
       "1564     1045     Артемий   28  Ростов-на-Дону              free"
      ]
     },
     "execution_count": 33,
     "metadata": {},
     "output_type": "execute_result"
    }
   ],
   "source": [
    "duplicated_rows_id = users_data[users_data.duplicated(['user_id'])]\n",
    "duplicated_rows_id"
   ]
  },
  {
   "cell_type": "code",
   "execution_count": 34,
   "id": "7b07e859",
   "metadata": {
    "scrolled": false
   },
   "outputs": [
    {
     "data": {
      "text/plain": [
       "(31, 5)"
      ]
     },
     "execution_count": 34,
     "metadata": {},
     "output_type": "execute_result"
    }
   ],
   "source": [
    "duplicated_rows_id.shape"
   ]
  },
  {
   "cell_type": "code",
   "execution_count": 35,
   "id": "9fe5408a",
   "metadata": {},
   "outputs": [
    {
     "data": {
      "text/plain": [
       "(1565, 5)"
      ]
     },
     "execution_count": 35,
     "metadata": {},
     "output_type": "execute_result"
    }
   ],
   "source": [
    "users_data.shape"
   ]
  },
  {
   "cell_type": "markdown",
   "id": "b7b20274",
   "metadata": {},
   "source": [
    "Удалим все строки дубликаты."
   ]
  },
  {
   "cell_type": "code",
   "execution_count": 36,
   "id": "823996b8",
   "metadata": {},
   "outputs": [],
   "source": [
    "users_data.drop_duplicates(inplace=True)"
   ]
  },
  {
   "cell_type": "code",
   "execution_count": 37,
   "id": "edcb0447",
   "metadata": {},
   "outputs": [
    {
     "data": {
      "text/plain": [
       "0"
      ]
     },
     "execution_count": 37,
     "metadata": {},
     "output_type": "execute_result"
    }
   ],
   "source": [
    "users_data.duplicated().sum()"
   ]
  },
  {
   "cell_type": "code",
   "execution_count": 38,
   "id": "25ad72b8",
   "metadata": {
    "scrolled": false
   },
   "outputs": [
    {
     "data": {
      "text/plain": [
       "(1534, 5)"
      ]
     },
     "execution_count": 38,
     "metadata": {},
     "output_type": "execute_result"
    }
   ],
   "source": [
    "users_data.shape"
   ]
  },
  {
   "cell_type": "markdown",
   "id": "3354747d",
   "metadata": {},
   "source": [
    "##### Вывод:"
   ]
  },
  {
   "cell_type": "markdown",
   "id": "85bc9c67",
   "metadata": {},
   "source": [
    "- Данные представленны только за 2021 год.\n",
    "- В таблице users_data выявил 31 дубликат, одинаковые значения возможны во всех колонках этой таблицы, но не в колонке user_id, здесь должны быть уникальные номера, соответственно удалил дубликаты.\n",
    "- Добавил столбец month."
   ]
  },
  {
   "cell_type": "markdown",
   "id": "212593c7",
   "metadata": {},
   "source": [
    "#### Шаг 3. Исследовательский анализ данных"
   ]
  },
  {
   "cell_type": "markdown",
   "id": "405ffa06",
   "metadata": {},
   "source": [
    "##### Частота встречаемости городов."
   ]
  },
  {
   "cell_type": "code",
   "execution_count": 39,
   "id": "f0306575",
   "metadata": {},
   "outputs": [
    {
     "data": {
      "text/plain": [
       "Пятигорск         219\n",
       "Екатеринбург      204\n",
       "Ростов-на-Дону    198\n",
       "Краснодар         193\n",
       "Сочи              189\n",
       "Омск              183\n",
       "Тюмень            180\n",
       "Москва            168\n",
       "Name: city, dtype: int64"
      ]
     },
     "execution_count": 39,
     "metadata": {},
     "output_type": "execute_result"
    }
   ],
   "source": [
    "count_users_city = users_data['city'].value_counts()\n",
    "count_users_city"
   ]
  },
  {
   "cell_type": "code",
   "execution_count": 40,
   "id": "aa7d840b",
   "metadata": {},
   "outputs": [],
   "source": [
    "count_users_city['rate'] = round(users_data['city'].value_counts() / count_users_city.sum(),2) * 100"
   ]
  },
  {
   "cell_type": "code",
   "execution_count": 41,
   "id": "f30eedf0",
   "metadata": {},
   "outputs": [
    {
     "data": {
      "text/plain": [
       "Пятигорск        14.00\n",
       "Екатеринбург     13.00\n",
       "Ростов-на-Дону   13.00\n",
       "Краснодар        13.00\n",
       "Сочи             12.00\n",
       "Омск             12.00\n",
       "Тюмень           12.00\n",
       "Москва           11.00\n",
       "Name: city, dtype: float64"
      ]
     },
     "execution_count": 41,
     "metadata": {},
     "output_type": "execute_result"
    }
   ],
   "source": [
    "count_users_city['rate']"
   ]
  },
  {
   "cell_type": "code",
   "execution_count": 42,
   "id": "610f7ad8",
   "metadata": {},
   "outputs": [
    {
     "data": {
      "image/png": "[encoded data removed]",
      "text/plain": [
       "<Figure size 504x504 with 1 Axes>"
      ]
     },
     "metadata": {},
     "output_type": "display_data"
    }
   ],
   "source": [
    "users_data['city'].value_counts().plot(\n",
    "    kind = 'pie', \n",
    "    y = count_users_city,\n",
    "    autopct = '%1.0f%%',\n",
    "    figsize=(7,7), \n",
    "    title = 'Распределение пользователей по городам');"
   ]
  },
  {
   "cell_type": "markdown",
   "id": "90626bbe",
   "metadata": {},
   "source": [
    "##### Соотношение пользователей с подпиской и без нее."
   ]
  },
  {
   "cell_type": "code",
   "execution_count": 43,
   "id": "478ee4bd",
   "metadata": {
    "scrolled": false
   },
   "outputs": [
    {
     "data": {
      "text/plain": [
       "free     835\n",
       "ultra    699\n",
       "Name: subscription_type, dtype: int64"
      ]
     },
     "execution_count": 43,
     "metadata": {},
     "output_type": "execute_result"
    }
   ],
   "source": [
    "users_data['subscription_type'].value_counts()"
   ]
  },
  {
   "cell_type": "code",
   "execution_count": 44,
   "id": "29fd57b2",
   "metadata": {},
   "outputs": [
    {
     "data": {
      "image/png": "[encoded data removed]",
      "text/plain": [
       "<Figure size 360x360 with 1 Axes>"
      ]
     },
     "metadata": {},
     "output_type": "display_data"
    }
   ],
   "source": [
    "users_data['subscription_type'].value_counts().plot(\n",
    "    kind = 'pie', \n",
    "    y = users_data, \n",
    "    autopct = '%1.0f%%', \n",
    "    figsize=(5,5),\n",
    "    title = 'Процентное соотношение пользователей в зависимости от тарифа');"
   ]
  },
  {
   "cell_type": "markdown",
   "id": "bad756af",
   "metadata": {},
   "source": [
    "##### Возраст пользователей."
   ]
  },
  {
   "cell_type": "markdown",
   "id": "50d31404",
   "metadata": {},
   "source": [
    "Самые возрастные пользователи."
   ]
  },
  {
   "cell_type": "code",
   "execution_count": 45,
   "id": "e3a4274c",
   "metadata": {
    "scrolled": false
   },
   "outputs": [
    {
     "data": {
      "text/plain": [
       "1201    43\n",
       "961     39\n",
       "804     38\n",
       "453     38\n",
       "383     38\n",
       "205     37\n",
       "848     37\n",
       "721     36\n",
       "1491    36\n",
       "644     36\n",
       "Name: age, dtype: int64"
      ]
     },
     "execution_count": 45,
     "metadata": {},
     "output_type": "execute_result"
    }
   ],
   "source": [
    "users_data['age'].sort_values(ascending=False).head(10)"
   ]
  },
  {
   "cell_type": "markdown",
   "id": "fa70763b",
   "metadata": {},
   "source": [
    "Самые младшие пользователи."
   ]
  },
  {
   "cell_type": "code",
   "execution_count": 46,
   "id": "c7ee1e0d",
   "metadata": {},
   "outputs": [
    {
     "data": {
      "text/plain": [
       "664     12\n",
       "66      12\n",
       "727     12\n",
       "34      12\n",
       "235     13\n",
       "1249    13\n",
       "314     13\n",
       "83      13\n",
       "553     13\n",
       "1241    13\n",
       "Name: age, dtype: int64"
      ]
     },
     "execution_count": 46,
     "metadata": {},
     "output_type": "execute_result"
    }
   ],
   "source": [
    "users_data['age'].sort_values().head(10)"
   ]
  },
  {
   "cell_type": "code",
   "execution_count": 47,
   "id": "4fe44672",
   "metadata": {},
   "outputs": [
    {
     "data": {
      "image/png": "[encoded data removed]",
      "text/plain": [
       "<Figure size 432x288 with 1 Axes>"
      ]
     },
     "metadata": {
      "needs_background": "light"
     },
     "output_type": "display_data"
    }
   ],
   "source": [
    "plt.hist(users_data['age'], bins = 10)\n",
    "plt.title('Возраст пользователей')\n",
    "plt.xlabel('Возраст')\n",
    "plt.ylabel('Количество пользователей')\n",
    "plt.grid()\n",
    "plt.show()"
   ]
  },
  {
   "cell_type": "code",
   "execution_count": 48,
   "id": "57c1919e",
   "metadata": {},
   "outputs": [
    {
     "data": {
      "text/plain": [
       "24.903520208604956"
      ]
     },
     "execution_count": 48,
     "metadata": {},
     "output_type": "execute_result"
    }
   ],
   "source": [
    "users_data['age'].mean()"
   ]
  },
  {
   "cell_type": "markdown",
   "id": "a67f523c",
   "metadata": {},
   "source": [
    "Пользователи распределились в виде нормального распределения, средний возраст пользователей 25 лет."
   ]
  },
  {
   "cell_type": "markdown",
   "id": "b1f1f766",
   "metadata": {},
   "source": [
    "##### Расстояние, которое пользователь преодолел за одну поездку."
   ]
  },
  {
   "cell_type": "code",
   "execution_count": 49,
   "id": "74a216de",
   "metadata": {
    "scrolled": true
   },
   "outputs": [
    {
     "data": {
      "text/plain": [
       "11555    0.86\n",
       "9541     2.57\n",
       "13690    4.33\n",
       "8658     6.78\n",
       "7841     7.10\n",
       "8906    11.28\n",
       "8324    12.23\n",
       "13940   15.00\n",
       "15626   15.37\n",
       "11862   15.63\n",
       "Name: distance, dtype: float64"
      ]
     },
     "execution_count": 49,
     "metadata": {},
     "output_type": "execute_result"
    }
   ],
   "source": [
    "round(trips_data['distance'].sort_values(), 2).head(10)"
   ]
  },
  {
   "cell_type": "markdown",
   "id": "335bcb13",
   "metadata": {},
   "source": [
    "Минимальное расстояние которое пользователь приодолел за одну поездку 0.86км."
   ]
  },
  {
   "cell_type": "code",
   "execution_count": 50,
   "id": "8cefcdfa",
   "metadata": {
    "scrolled": true
   },
   "outputs": [
    {
     "data": {
      "text/plain": [
       "16309   7211.01\n",
       "16484   7066.00\n",
       "15580   6908.49\n",
       "17171   6760.94\n",
       "17242   6724.93\n",
       "10341   6671.97\n",
       "11385   6601.20\n",
       "12086   6538.94\n",
       "10915   6535.39\n",
       "11319   6503.60\n",
       "Name: distance, dtype: float64"
      ]
     },
     "execution_count": 50,
     "metadata": {},
     "output_type": "execute_result"
    }
   ],
   "source": [
    "round(trips_data['distance'].sort_values(ascending=False), 2).head(10)"
   ]
  },
  {
   "cell_type": "markdown",
   "id": "794c9830",
   "metadata": {},
   "source": [
    "Максимальное расстояние которое пользователь приодолел за одну поездку 7211."
   ]
  },
  {
   "cell_type": "code",
   "execution_count": 51,
   "id": "f2995201",
   "metadata": {
    "scrolled": false
   },
   "outputs": [
    {
     "data": {
      "text/plain": [
       "3070.66"
      ]
     },
     "execution_count": 51,
     "metadata": {},
     "output_type": "execute_result"
    }
   ],
   "source": [
    "round(trips_data['distance'].mean(),2)"
   ]
  },
  {
   "cell_type": "markdown",
   "id": "3a9adb81",
   "metadata": {},
   "source": [
    "Среднее расстояние которое проезжает пользователь 3070."
   ]
  },
  {
   "cell_type": "code",
   "execution_count": 52,
   "id": "573c2dbd",
   "metadata": {},
   "outputs": [],
   "source": [
    "#round(trips_data['distance'].median(),2)"
   ]
  },
  {
   "cell_type": "code",
   "execution_count": 53,
   "id": "56b79e48",
   "metadata": {
    "scrolled": true
   },
   "outputs": [
    {
     "data": {
      "image/png": "[encoded data removed]",
      "text/plain": [
       "<Figure size 432x288 with 1 Axes>"
      ]
     },
     "metadata": {
      "needs_background": "light"
     },
     "output_type": "display_data"
    }
   ],
   "source": [
    "sns.boxplot(x=trips_data['distance'], color='white')\n",
    "plt.title('Расстояние, преодоленное за одну поездку')\n",
    "plt.xlabel('Расстояние, м')\n",
    "_ = plt.xlim(0, 8000)"
   ]
  },
  {
   "cell_type": "markdown",
   "id": "4e527d6e",
   "metadata": {},
   "source": [
    "#####  Продолжительность поездок."
   ]
  },
  {
   "cell_type": "code",
   "execution_count": 54,
   "id": "2c017e5d",
   "metadata": {},
   "outputs": [
    {
     "data": {
      "text/html": [
       "<div>\n",
       "<style scoped>\n",
       "    .dataframe tbody tr th:only-of-type {\n",
       "        vertical-align: middle;\n",
       "    }\n",
       "\n",
       "    .dataframe tbody tr th {\n",
       "        vertical-align: top;\n",
       "    }\n",
       "\n",
       "    .dataframe thead th {\n",
       "        text-align: right;\n",
       "    }\n",
       "</style>\n",
       "<table border=\"1\" class=\"dataframe\">\n",
       "  <thead>\n",
       "    <tr style=\"text-align: right;\">\n",
       "      <th></th>\n",
       "      <th>user_id</th>\n",
       "      <th>distance</th>\n",
       "      <th>duration</th>\n",
       "      <th>date</th>\n",
       "      <th>month</th>\n",
       "    </tr>\n",
       "  </thead>\n",
       "  <tbody>\n",
       "    <tr>\n",
       "      <th>0</th>\n",
       "      <td>1</td>\n",
       "      <td>4409.92</td>\n",
       "      <td>25.60</td>\n",
       "      <td>2021-01-01</td>\n",
       "      <td>1</td>\n",
       "    </tr>\n",
       "    <tr>\n",
       "      <th>1</th>\n",
       "      <td>1</td>\n",
       "      <td>2617.59</td>\n",
       "      <td>15.82</td>\n",
       "      <td>2021-01-18</td>\n",
       "      <td>1</td>\n",
       "    </tr>\n",
       "    <tr>\n",
       "      <th>2</th>\n",
       "      <td>1</td>\n",
       "      <td>754.16</td>\n",
       "      <td>6.23</td>\n",
       "      <td>2021-04-20</td>\n",
       "      <td>4</td>\n",
       "    </tr>\n",
       "    <tr>\n",
       "      <th>3</th>\n",
       "      <td>1</td>\n",
       "      <td>2694.78</td>\n",
       "      <td>18.51</td>\n",
       "      <td>2021-08-11</td>\n",
       "      <td>8</td>\n",
       "    </tr>\n",
       "    <tr>\n",
       "      <th>4</th>\n",
       "      <td>1</td>\n",
       "      <td>4028.69</td>\n",
       "      <td>26.27</td>\n",
       "      <td>2021-08-28</td>\n",
       "      <td>8</td>\n",
       "    </tr>\n",
       "    <tr>\n",
       "      <th>...</th>\n",
       "      <td>...</td>\n",
       "      <td>...</td>\n",
       "      <td>...</td>\n",
       "      <td>...</td>\n",
       "      <td>...</td>\n",
       "    </tr>\n",
       "    <tr>\n",
       "      <th>18063</th>\n",
       "      <td>1534</td>\n",
       "      <td>3781.10</td>\n",
       "      <td>19.82</td>\n",
       "      <td>2021-11-04</td>\n",
       "      <td>11</td>\n",
       "    </tr>\n",
       "    <tr>\n",
       "      <th>18064</th>\n",
       "      <td>1534</td>\n",
       "      <td>2840.42</td>\n",
       "      <td>21.41</td>\n",
       "      <td>2021-11-16</td>\n",
       "      <td>11</td>\n",
       "    </tr>\n",
       "    <tr>\n",
       "      <th>18065</th>\n",
       "      <td>1534</td>\n",
       "      <td>3826.19</td>\n",
       "      <td>18.44</td>\n",
       "      <td>2021-11-18</td>\n",
       "      <td>11</td>\n",
       "    </tr>\n",
       "    <tr>\n",
       "      <th>18066</th>\n",
       "      <td>1534</td>\n",
       "      <td>2902.31</td>\n",
       "      <td>16.67</td>\n",
       "      <td>2021-11-27</td>\n",
       "      <td>11</td>\n",
       "    </tr>\n",
       "    <tr>\n",
       "      <th>18067</th>\n",
       "      <td>1534</td>\n",
       "      <td>2371.71</td>\n",
       "      <td>15.89</td>\n",
       "      <td>2021-12-29</td>\n",
       "      <td>12</td>\n",
       "    </tr>\n",
       "  </tbody>\n",
       "</table>\n",
       "<p>18068 rows × 5 columns</p>\n",
       "</div>"
      ],
      "text/plain": [
       "       user_id  distance  duration       date  month\n",
       "0            1   4409.92     25.60 2021-01-01      1\n",
       "1            1   2617.59     15.82 2021-01-18      1\n",
       "2            1    754.16      6.23 2021-04-20      4\n",
       "3            1   2694.78     18.51 2021-08-11      8\n",
       "4            1   4028.69     26.27 2021-08-28      8\n",
       "...        ...       ...       ...        ...    ...\n",
       "18063     1534   3781.10     19.82 2021-11-04     11\n",
       "18064     1534   2840.42     21.41 2021-11-16     11\n",
       "18065     1534   3826.19     18.44 2021-11-18     11\n",
       "18066     1534   2902.31     16.67 2021-11-27     11\n",
       "18067     1534   2371.71     15.89 2021-12-29     12\n",
       "\n",
       "[18068 rows x 5 columns]"
      ]
     },
     "execution_count": 54,
     "metadata": {},
     "output_type": "execute_result"
    }
   ],
   "source": [
    "trips_data"
   ]
  },
  {
   "cell_type": "code",
   "execution_count": 55,
   "id": "7fbc9ad3",
   "metadata": {
    "scrolled": false
   },
   "outputs": [
    {
     "data": {
      "text/plain": [
       "4215   40.82\n",
       "4709   39.87\n",
       "2623   39.53\n",
       "1998   38.35\n",
       "6453   38.27\n",
       "143    38.13\n",
       "3729   37.01\n",
       "499    36.91\n",
       "6348   36.81\n",
       "4653   36.62\n",
       "Name: duration, dtype: float64"
      ]
     },
     "execution_count": 55,
     "metadata": {},
     "output_type": "execute_result"
    }
   ],
   "source": [
    "trips_data['duration'].sort_values(ascending=False).head(10)"
   ]
  },
  {
   "cell_type": "markdown",
   "id": "946f660f",
   "metadata": {},
   "source": [
    "Максимальное время поездки 40.82."
   ]
  },
  {
   "cell_type": "code",
   "execution_count": 56,
   "id": "a0717a1c",
   "metadata": {
    "scrolled": false
   },
   "outputs": [
    {
     "data": {
      "text/plain": [
       "12013    0.50\n",
       "17314    0.50\n",
       "15029    0.50\n",
       "7437     0.50\n",
       "12967    0.50\n",
       "         ... \n",
       "6453    38.27\n",
       "1998    38.35\n",
       "2623    39.53\n",
       "4709    39.87\n",
       "4215    40.82\n",
       "Name: duration, Length: 18068, dtype: float64"
      ]
     },
     "execution_count": 56,
     "metadata": {},
     "output_type": "execute_result"
    }
   ],
   "source": [
    "trips_data['duration'].sort_values()"
   ]
  },
  {
   "cell_type": "markdown",
   "id": "5ee22efd",
   "metadata": {},
   "source": [
    "Минимальное время поездки 0.50."
   ]
  },
  {
   "cell_type": "code",
   "execution_count": 57,
   "id": "9d068188",
   "metadata": {},
   "outputs": [
    {
     "data": {
      "text/html": [
       "<div>\n",
       "<style scoped>\n",
       "    .dataframe tbody tr th:only-of-type {\n",
       "        vertical-align: middle;\n",
       "    }\n",
       "\n",
       "    .dataframe tbody tr th {\n",
       "        vertical-align: top;\n",
       "    }\n",
       "\n",
       "    .dataframe thead th {\n",
       "        text-align: right;\n",
       "    }\n",
       "</style>\n",
       "<table border=\"1\" class=\"dataframe\">\n",
       "  <thead>\n",
       "    <tr style=\"text-align: right;\">\n",
       "      <th></th>\n",
       "      <th>distance</th>\n",
       "      <th>duration</th>\n",
       "      <th>month</th>\n",
       "    </tr>\n",
       "    <tr>\n",
       "      <th>user_id</th>\n",
       "      <th></th>\n",
       "      <th></th>\n",
       "      <th></th>\n",
       "    </tr>\n",
       "  </thead>\n",
       "  <tbody>\n",
       "    <tr>\n",
       "      <th>1</th>\n",
       "      <td>34070.18</td>\n",
       "      <td>204.60</td>\n",
       "      <td>99</td>\n",
       "    </tr>\n",
       "    <tr>\n",
       "      <th>2</th>\n",
       "      <td>33964.06</td>\n",
       "      <td>197.64</td>\n",
       "      <td>67</td>\n",
       "    </tr>\n",
       "    <tr>\n",
       "      <th>3</th>\n",
       "      <td>36907.60</td>\n",
       "      <td>233.19</td>\n",
       "      <td>66</td>\n",
       "    </tr>\n",
       "    <tr>\n",
       "      <th>4</th>\n",
       "      <td>44837.19</td>\n",
       "      <td>288.56</td>\n",
       "      <td>107</td>\n",
       "    </tr>\n",
       "    <tr>\n",
       "      <th>5</th>\n",
       "      <td>35556.95</td>\n",
       "      <td>174.07</td>\n",
       "      <td>51</td>\n",
       "    </tr>\n",
       "    <tr>\n",
       "      <th>...</th>\n",
       "      <td>...</td>\n",
       "      <td>...</td>\n",
       "      <td>...</td>\n",
       "    </tr>\n",
       "    <tr>\n",
       "      <th>1530</th>\n",
       "      <td>46758.47</td>\n",
       "      <td>292.37</td>\n",
       "      <td>104</td>\n",
       "    </tr>\n",
       "    <tr>\n",
       "      <th>1531</th>\n",
       "      <td>67054.79</td>\n",
       "      <td>408.19</td>\n",
       "      <td>142</td>\n",
       "    </tr>\n",
       "    <tr>\n",
       "      <th>1532</th>\n",
       "      <td>33902.20</td>\n",
       "      <td>212.16</td>\n",
       "      <td>111</td>\n",
       "    </tr>\n",
       "    <tr>\n",
       "      <th>1533</th>\n",
       "      <td>36890.19</td>\n",
       "      <td>240.58</td>\n",
       "      <td>65</td>\n",
       "    </tr>\n",
       "    <tr>\n",
       "      <th>1534</th>\n",
       "      <td>41898.44</td>\n",
       "      <td>229.84</td>\n",
       "      <td>100</td>\n",
       "    </tr>\n",
       "  </tbody>\n",
       "</table>\n",
       "<p>1534 rows × 3 columns</p>\n",
       "</div>"
      ],
      "text/plain": [
       "         distance  duration  month\n",
       "user_id                           \n",
       "1        34070.18    204.60     99\n",
       "2        33964.06    197.64     67\n",
       "3        36907.60    233.19     66\n",
       "4        44837.19    288.56    107\n",
       "5        35556.95    174.07     51\n",
       "...           ...       ...    ...\n",
       "1530     46758.47    292.37    104\n",
       "1531     67054.79    408.19    142\n",
       "1532     33902.20    212.16    111\n",
       "1533     36890.19    240.58     65\n",
       "1534     41898.44    229.84    100\n",
       "\n",
       "[1534 rows x 3 columns]"
      ]
     },
     "execution_count": 57,
     "metadata": {},
     "output_type": "execute_result"
    }
   ],
   "source": [
    "trips_data.groupby(['user_id']).sum(numeric_only=True)"
   ]
  },
  {
   "cell_type": "code",
   "execution_count": 58,
   "id": "63c81216",
   "metadata": {
    "scrolled": true
   },
   "outputs": [
    {
     "data": {
      "text/plain": [
       "distance   79325.85\n",
       "duration     446.23\n",
       "month        176.00\n",
       "dtype: float64"
      ]
     },
     "execution_count": 58,
     "metadata": {},
     "output_type": "execute_result"
    }
   ],
   "source": [
    "trips_data.groupby(['user_id']).sum(numeric_only=True).max()"
   ]
  },
  {
   "cell_type": "markdown",
   "id": "c8b3f679",
   "metadata": {},
   "source": [
    "Суммарная самая большая продолжительность поездки одного пользователя равна 446.23 и пройденная дистанция 79325.85."
   ]
  },
  {
   "cell_type": "code",
   "execution_count": 59,
   "id": "966830eb",
   "metadata": {
    "scrolled": true
   },
   "outputs": [
    {
     "data": {
      "text/plain": [
       "distance   5530.34\n",
       "duration     34.16\n",
       "month         9.00\n",
       "dtype: float64"
      ]
     },
     "execution_count": 59,
     "metadata": {},
     "output_type": "execute_result"
    }
   ],
   "source": [
    "trips_data.groupby(['user_id']).sum(numeric_only=True).min()"
   ]
  },
  {
   "cell_type": "markdown",
   "id": "2cb456e4",
   "metadata": {},
   "source": [
    "Суммарная самая маленькая продолжительность поездки одного пользователя равна 34.16 и пройденная дистанция 5530.34"
   ]
  },
  {
   "cell_type": "code",
   "execution_count": 60,
   "id": "addd0d41",
   "metadata": {
    "scrolled": true
   },
   "outputs": [
    {
     "data": {
      "text/plain": [
       "17.80501119798444"
      ]
     },
     "execution_count": 60,
     "metadata": {},
     "output_type": "execute_result"
    },
    {
     "data": {
      "image/png": "[encoded data removed]",
      "text/plain": [
       "<Figure size 432x288 with 1 Axes>"
      ]
     },
     "metadata": {
      "needs_background": "light"
     },
     "output_type": "display_data"
    }
   ],
   "source": [
    "sns.boxplot(x = trips_data['duration'], color='white')\n",
    "plt.title('Время, проведенное в поездке')\n",
    "plt.xlabel('Время, минуты')\n",
    "_ = plt.xlim(0, 45)\n",
    "mean_trip = trips_data['duration'].mean()\n",
    "mean_trip"
   ]
  },
  {
   "cell_type": "markdown",
   "id": "c364a767",
   "metadata": {},
   "source": [
    "Среднее время поездки составляет почти 18 минут."
   ]
  },
  {
   "cell_type": "markdown",
   "id": "2e475053",
   "metadata": {},
   "source": [
    "- Количество пользователей по городам распределено примерно одинаково. С небольшим отрывом по количеству пользователей идет Пятигорск - 219 пользователей. Меньше всего пользователей в Москве - 168.\n",
    "- Пользователей, использующих бесплатную подписку больше - 835 человек, что является ~54% от общего числа пользователей. На платной подписке сидит 699 пользователей, что соответственно является ~46%.\n",
    "- Самыми младшими являются пользователи 12 лет. Самыми старшими - 43 года.\n",
    "- Самая короткая дистанция - 0.86 км Самая длинная - 7.2 км.\n",
    "- В основном пользователи проезжают от 2.5 км до 4 км.\n",
    "- Самые короткие поездки - по пол минуты. Выглядят крайне странно, возможно пользователи просто передумали пользоваться самокатом. Либо же техническая неинсправность самого самоката. Самая длинная поездка заняла 40 минут.\n",
    "- В основном же длительность поездки состовляет 13 - 22 минут. А среднее время поездки 18 минут."
   ]
  },
  {
   "cell_type": "markdown",
   "id": "4ef51331",
   "metadata": {},
   "source": [
    "#### Шаг 4. Объединение данных"
   ]
  },
  {
   "cell_type": "markdown",
   "id": "ef9ea2fc",
   "metadata": {},
   "source": [
    "##### Объединим 3 таблицы"
   ]
  },
  {
   "cell_type": "code",
   "execution_count": 61,
   "id": "6bf288b5",
   "metadata": {},
   "outputs": [],
   "source": [
    "data = users_data.merge(trips_data, on = 'user_id', how='left')"
   ]
  },
  {
   "cell_type": "code",
   "execution_count": 62,
   "id": "d3b1ccc5",
   "metadata": {
    "scrolled": true
   },
   "outputs": [
    {
     "data": {
      "text/html": [
       "<div>\n",
       "<style scoped>\n",
       "    .dataframe tbody tr th:only-of-type {\n",
       "        vertical-align: middle;\n",
       "    }\n",
       "\n",
       "    .dataframe tbody tr th {\n",
       "        vertical-align: top;\n",
       "    }\n",
       "\n",
       "    .dataframe thead th {\n",
       "        text-align: right;\n",
       "    }\n",
       "</style>\n",
       "<table border=\"1\" class=\"dataframe\">\n",
       "  <thead>\n",
       "    <tr style=\"text-align: right;\">\n",
       "      <th></th>\n",
       "      <th>user_id</th>\n",
       "      <th>name</th>\n",
       "      <th>age</th>\n",
       "      <th>city</th>\n",
       "      <th>subscription_type</th>\n",
       "      <th>distance</th>\n",
       "      <th>duration</th>\n",
       "      <th>date</th>\n",
       "      <th>month</th>\n",
       "      <th>minute_price</th>\n",
       "      <th>start_ride_price</th>\n",
       "      <th>subscription_fee</th>\n",
       "    </tr>\n",
       "  </thead>\n",
       "  <tbody>\n",
       "    <tr>\n",
       "      <th>0</th>\n",
       "      <td>1</td>\n",
       "      <td>Кира</td>\n",
       "      <td>22</td>\n",
       "      <td>Тюмень</td>\n",
       "      <td>ultra</td>\n",
       "      <td>4409.92</td>\n",
       "      <td>25.60</td>\n",
       "      <td>2021-01-01</td>\n",
       "      <td>1</td>\n",
       "      <td>6</td>\n",
       "      <td>0</td>\n",
       "      <td>199</td>\n",
       "    </tr>\n",
       "    <tr>\n",
       "      <th>1</th>\n",
       "      <td>1</td>\n",
       "      <td>Кира</td>\n",
       "      <td>22</td>\n",
       "      <td>Тюмень</td>\n",
       "      <td>ultra</td>\n",
       "      <td>2617.59</td>\n",
       "      <td>15.82</td>\n",
       "      <td>2021-01-18</td>\n",
       "      <td>1</td>\n",
       "      <td>6</td>\n",
       "      <td>0</td>\n",
       "      <td>199</td>\n",
       "    </tr>\n",
       "    <tr>\n",
       "      <th>2</th>\n",
       "      <td>1</td>\n",
       "      <td>Кира</td>\n",
       "      <td>22</td>\n",
       "      <td>Тюмень</td>\n",
       "      <td>ultra</td>\n",
       "      <td>754.16</td>\n",
       "      <td>6.23</td>\n",
       "      <td>2021-04-20</td>\n",
       "      <td>4</td>\n",
       "      <td>6</td>\n",
       "      <td>0</td>\n",
       "      <td>199</td>\n",
       "    </tr>\n",
       "    <tr>\n",
       "      <th>3</th>\n",
       "      <td>1</td>\n",
       "      <td>Кира</td>\n",
       "      <td>22</td>\n",
       "      <td>Тюмень</td>\n",
       "      <td>ultra</td>\n",
       "      <td>2694.78</td>\n",
       "      <td>18.51</td>\n",
       "      <td>2021-08-11</td>\n",
       "      <td>8</td>\n",
       "      <td>6</td>\n",
       "      <td>0</td>\n",
       "      <td>199</td>\n",
       "    </tr>\n",
       "    <tr>\n",
       "      <th>4</th>\n",
       "      <td>1</td>\n",
       "      <td>Кира</td>\n",
       "      <td>22</td>\n",
       "      <td>Тюмень</td>\n",
       "      <td>ultra</td>\n",
       "      <td>4028.69</td>\n",
       "      <td>26.27</td>\n",
       "      <td>2021-08-28</td>\n",
       "      <td>8</td>\n",
       "      <td>6</td>\n",
       "      <td>0</td>\n",
       "      <td>199</td>\n",
       "    </tr>\n",
       "    <tr>\n",
       "      <th>...</th>\n",
       "      <td>...</td>\n",
       "      <td>...</td>\n",
       "      <td>...</td>\n",
       "      <td>...</td>\n",
       "      <td>...</td>\n",
       "      <td>...</td>\n",
       "      <td>...</td>\n",
       "      <td>...</td>\n",
       "      <td>...</td>\n",
       "      <td>...</td>\n",
       "      <td>...</td>\n",
       "      <td>...</td>\n",
       "    </tr>\n",
       "    <tr>\n",
       "      <th>18063</th>\n",
       "      <td>1534</td>\n",
       "      <td>Альберт</td>\n",
       "      <td>25</td>\n",
       "      <td>Краснодар</td>\n",
       "      <td>free</td>\n",
       "      <td>3781.10</td>\n",
       "      <td>19.82</td>\n",
       "      <td>2021-11-04</td>\n",
       "      <td>11</td>\n",
       "      <td>8</td>\n",
       "      <td>50</td>\n",
       "      <td>0</td>\n",
       "    </tr>\n",
       "    <tr>\n",
       "      <th>18064</th>\n",
       "      <td>1534</td>\n",
       "      <td>Альберт</td>\n",
       "      <td>25</td>\n",
       "      <td>Краснодар</td>\n",
       "      <td>free</td>\n",
       "      <td>2840.42</td>\n",
       "      <td>21.41</td>\n",
       "      <td>2021-11-16</td>\n",
       "      <td>11</td>\n",
       "      <td>8</td>\n",
       "      <td>50</td>\n",
       "      <td>0</td>\n",
       "    </tr>\n",
       "    <tr>\n",
       "      <th>18065</th>\n",
       "      <td>1534</td>\n",
       "      <td>Альберт</td>\n",
       "      <td>25</td>\n",
       "      <td>Краснодар</td>\n",
       "      <td>free</td>\n",
       "      <td>3826.19</td>\n",
       "      <td>18.44</td>\n",
       "      <td>2021-11-18</td>\n",
       "      <td>11</td>\n",
       "      <td>8</td>\n",
       "      <td>50</td>\n",
       "      <td>0</td>\n",
       "    </tr>\n",
       "    <tr>\n",
       "      <th>18066</th>\n",
       "      <td>1534</td>\n",
       "      <td>Альберт</td>\n",
       "      <td>25</td>\n",
       "      <td>Краснодар</td>\n",
       "      <td>free</td>\n",
       "      <td>2902.31</td>\n",
       "      <td>16.67</td>\n",
       "      <td>2021-11-27</td>\n",
       "      <td>11</td>\n",
       "      <td>8</td>\n",
       "      <td>50</td>\n",
       "      <td>0</td>\n",
       "    </tr>\n",
       "    <tr>\n",
       "      <th>18067</th>\n",
       "      <td>1534</td>\n",
       "      <td>Альберт</td>\n",
       "      <td>25</td>\n",
       "      <td>Краснодар</td>\n",
       "      <td>free</td>\n",
       "      <td>2371.71</td>\n",
       "      <td>15.89</td>\n",
       "      <td>2021-12-29</td>\n",
       "      <td>12</td>\n",
       "      <td>8</td>\n",
       "      <td>50</td>\n",
       "      <td>0</td>\n",
       "    </tr>\n",
       "  </tbody>\n",
       "</table>\n",
       "<p>18068 rows × 12 columns</p>\n",
       "</div>"
      ],
      "text/plain": [
       "       user_id     name  age       city subscription_type  distance  duration  \\\n",
       "0            1     Кира   22     Тюмень             ultra   4409.92     25.60   \n",
       "1            1     Кира   22     Тюмень             ultra   2617.59     15.82   \n",
       "2            1     Кира   22     Тюмень             ultra    754.16      6.23   \n",
       "3            1     Кира   22     Тюмень             ultra   2694.78     18.51   \n",
       "4            1     Кира   22     Тюмень             ultra   4028.69     26.27   \n",
       "...        ...      ...  ...        ...               ...       ...       ...   \n",
       "18063     1534  Альберт   25  Краснодар              free   3781.10     19.82   \n",
       "18064     1534  Альберт   25  Краснодар              free   2840.42     21.41   \n",
       "18065     1534  Альберт   25  Краснодар              free   3826.19     18.44   \n",
       "18066     1534  Альберт   25  Краснодар              free   2902.31     16.67   \n",
       "18067     1534  Альберт   25  Краснодар              free   2371.71     15.89   \n",
       "\n",
       "            date  month  minute_price  start_ride_price  subscription_fee  \n",
       "0     2021-01-01      1             6                 0               199  \n",
       "1     2021-01-18      1             6                 0               199  \n",
       "2     2021-04-20      4             6                 0               199  \n",
       "3     2021-08-11      8             6                 0               199  \n",
       "4     2021-08-28      8             6                 0               199  \n",
       "...          ...    ...           ...               ...               ...  \n",
       "18063 2021-11-04     11             8                50                 0  \n",
       "18064 2021-11-16     11             8                50                 0  \n",
       "18065 2021-11-18     11             8                50                 0  \n",
       "18066 2021-11-27     11             8                50                 0  \n",
       "18067 2021-12-29     12             8                50                 0  \n",
       "\n",
       "[18068 rows x 12 columns]"
      ]
     },
     "execution_count": 62,
     "metadata": {},
     "output_type": "execute_result"
    }
   ],
   "source": [
    "data = data.merge(subs_data)\n",
    "data"
   ]
  },
  {
   "cell_type": "markdown",
   "id": "f10227f3",
   "metadata": {},
   "source": [
    "Создадим ещё два датафрейма из датафрейма, созданного на этапе 4.1:  \n",
    "- c данными о пользователях без подписки;  \n",
    "- с данными о пользователях с подпиской."
   ]
  },
  {
   "cell_type": "markdown",
   "id": "8f213097",
   "metadata": {},
   "source": [
    "##### Таблица с подписками"
   ]
  },
  {
   "cell_type": "code",
   "execution_count": 63,
   "id": "1b5ebcc7",
   "metadata": {},
   "outputs": [],
   "source": [
    "data_ultra = data.query('`subscription_type`== \"ultra\"')\n",
    "#data_ultra"
   ]
  },
  {
   "cell_type": "markdown",
   "id": "8a033455",
   "metadata": {},
   "source": [
    "##### Таблица без подписок"
   ]
  },
  {
   "cell_type": "code",
   "execution_count": 64,
   "id": "7a3b6c08",
   "metadata": {},
   "outputs": [],
   "source": [
    "data_free = data.query('`subscription_type`== \"free\"')\n",
    "#data_free"
   ]
  },
  {
   "cell_type": "markdown",
   "id": "ee403296",
   "metadata": {},
   "source": [
    "##### Визуализация данных пройденного расстояния с подпиской и без "
   ]
  },
  {
   "cell_type": "code",
   "execution_count": 65,
   "id": "1ac6c278",
   "metadata": {
    "scrolled": true
   },
   "outputs": [
    {
     "data": {
      "image/png": "[encoded data removed]",
      "text/plain": [
       "<Figure size 1080x288 with 2 Axes>"
      ]
     },
     "metadata": {
      "needs_background": "light"
     },
     "output_type": "display_data"
    }
   ],
   "source": [
    "fig, axs = plt.subplots(nrows=1, ncols=2, figsize=(15, 4))\n",
    "data_free['distance'].hist(bins=40, range = (0, 7000), ax=axs[0])\n",
    "plt.title('Расстояние, бесплатный тариф')\n",
    "plt.xlabel('Расстояние, м')\n",
    "plt.ylabel('Количество поездок')\n",
    "data_ultra['distance'].hist(bins=40, range = (0, 7000), ax=axs[1])\n",
    "plt.title('Расстояние, с подпиской')\n",
    "plt.xlabel('Расстояние, м')\n",
    "plt.ylabel('Количество поездок')\n",
    "plt.show()"
   ]
  },
  {
   "cell_type": "markdown",
   "id": "f8f15dd5",
   "metadata": {},
   "source": [
    "Из графиков видно что пользователи без подписки проезжают большие расстояния."
   ]
  },
  {
   "cell_type": "markdown",
   "id": "c6fa021c",
   "metadata": {},
   "source": [
    "##### Визуализация данных времнени поездок с подпиской и без "
   ]
  },
  {
   "cell_type": "code",
   "execution_count": 66,
   "id": "e89f7588",
   "metadata": {
    "scrolled": false
   },
   "outputs": [
    {
     "data": {
      "image/png": "[encoded data removed]",
      "text/plain": [
       "<Figure size 1080x288 with 2 Axes>"
      ]
     },
     "metadata": {
      "needs_background": "light"
     },
     "output_type": "display_data"
    }
   ],
   "source": [
    "fig, axs = plt.subplots(nrows=1, ncols=2, figsize=(15, 4))\n",
    "data_free['duration'].hist(bins=30, range = (0, 35), ax=axs[0])\n",
    "plt.title('Время, бесплатный тариф')\n",
    "plt.xlabel('Время поездки, минуты')\n",
    "plt.ylabel('Количество поездок')\n",
    "data_ultra['duration'].hist(bins=30, range = (0, 35), ax=axs[1])\n",
    "plt.title('Время, с подпиской')\n",
    "plt.xlabel('Время поездки, минуты')\n",
    "plt.ylabel('Количество поездок')\n",
    "plt.show()"
   ]
  },
  {
   "cell_type": "markdown",
   "id": "cd7ab57b",
   "metadata": {},
   "source": [
    "##### Вывод\n",
    "Объединил данные о пользователях, поездках и тарифах в один датафрейм - data.\n",
    "\n",
    "Выделил два датафрейма на основе data:\n",
    "\n",
    "data_free - Информация о пользователях с бесплатным тарифом\n",
    "data_ultra - Информация о пользователях с платным тарифом\n",
    "Визуализировали информацию о расстоянии и времени для каждого из тарифов.\n",
    "\n",
    "Для бесплатного тарифа время поездки составляет от 10 до 30 минут, и проезжают от 2 до 5 км, есть пользователи, которые проехали даже 6, 6.5 км.\n",
    "\n",
    "Платный тариф. В основном время укладывается в промежуток от 10 до 25 минут. Пик расстояния приходится на 3км.\n",
    "\n",
    "Таким образом, можно сделать вывод, что пользователи с бесплатным тарифом в целом совершают более долгие поездки, а также проезжают большее расстояние, чем пользователи на платном тарифе."
   ]
  },
  {
   "cell_type": "markdown",
   "id": "402d620f",
   "metadata": {},
   "source": [
    "#### Шаг 5. Подсчёт выручки"
   ]
  },
  {
   "cell_type": "markdown",
   "id": "89ce8aa9",
   "metadata": {},
   "source": [
    "##### Подсчёт выручки"
   ]
  },
  {
   "cell_type": "code",
   "execution_count": 67,
   "id": "7ce4b430",
   "metadata": {
    "scrolled": true
   },
   "outputs": [],
   "source": [
    "# округлим значения до следующего целого числа.\n",
    "data['duration'] = np.ceil(data['duration'])"
   ]
  },
  {
   "cell_type": "code",
   "execution_count": 68,
   "id": "f4b2bb80",
   "metadata": {},
   "outputs": [],
   "source": [
    "# Создадим сводную талицу с объединенными данными.\n",
    "agg_data = pd.pivot_table(data, index = ['month', 'user_id'],\n",
    "                         values = ['distance', 'duration', 'name', 'subscription_type'],\n",
    "                         aggfunc = {'distance' : sum,\n",
    "                                   'duration' : sum,\n",
    "                                   'name' : len,\n",
    "                                   'subscription_type' : min})"
   ]
  },
  {
   "cell_type": "code",
   "execution_count": 69,
   "id": "4e187dc4",
   "metadata": {},
   "outputs": [],
   "source": [
    "agg_data.rename(columns = {'name' : 'count_use'}, inplace=True)"
   ]
  },
  {
   "cell_type": "code",
   "execution_count": 70,
   "id": "5c0d646f",
   "metadata": {},
   "outputs": [
    {
     "data": {
      "text/html": [
       "<div>\n",
       "<style scoped>\n",
       "    .dataframe tbody tr th:only-of-type {\n",
       "        vertical-align: middle;\n",
       "    }\n",
       "\n",
       "    .dataframe tbody tr th {\n",
       "        vertical-align: top;\n",
       "    }\n",
       "\n",
       "    .dataframe thead th {\n",
       "        text-align: right;\n",
       "    }\n",
       "</style>\n",
       "<table border=\"1\" class=\"dataframe\">\n",
       "  <thead>\n",
       "    <tr style=\"text-align: right;\">\n",
       "      <th></th>\n",
       "      <th></th>\n",
       "      <th>distance</th>\n",
       "      <th>duration</th>\n",
       "      <th>count_use</th>\n",
       "      <th>subscription_type</th>\n",
       "    </tr>\n",
       "    <tr>\n",
       "      <th>month</th>\n",
       "      <th>user_id</th>\n",
       "      <th></th>\n",
       "      <th></th>\n",
       "      <th></th>\n",
       "      <th></th>\n",
       "    </tr>\n",
       "  </thead>\n",
       "  <tbody>\n",
       "    <tr>\n",
       "      <th rowspan=\"10\" valign=\"top\">1</th>\n",
       "      <th>1</th>\n",
       "      <td>7027.51</td>\n",
       "      <td>42.00</td>\n",
       "      <td>2</td>\n",
       "      <td>ultra</td>\n",
       "    </tr>\n",
       "    <tr>\n",
       "      <th>1061</th>\n",
       "      <td>12637.25</td>\n",
       "      <td>43.00</td>\n",
       "      <td>3</td>\n",
       "      <td>free</td>\n",
       "    </tr>\n",
       "    <tr>\n",
       "      <th>1063</th>\n",
       "      <td>3276.36</td>\n",
       "      <td>10.00</td>\n",
       "      <td>1</td>\n",
       "      <td>free</td>\n",
       "    </tr>\n",
       "    <tr>\n",
       "      <th>1064</th>\n",
       "      <td>5297.32</td>\n",
       "      <td>15.00</td>\n",
       "      <td>1</td>\n",
       "      <td>free</td>\n",
       "    </tr>\n",
       "    <tr>\n",
       "      <th>1065</th>\n",
       "      <td>14547.10</td>\n",
       "      <td>99.00</td>\n",
       "      <td>4</td>\n",
       "      <td>free</td>\n",
       "    </tr>\n",
       "    <tr>\n",
       "      <th>1066</th>\n",
       "      <td>2809.06</td>\n",
       "      <td>19.00</td>\n",
       "      <td>1</td>\n",
       "      <td>free</td>\n",
       "    </tr>\n",
       "    <tr>\n",
       "      <th>1067</th>\n",
       "      <td>3864.90</td>\n",
       "      <td>22.00</td>\n",
       "      <td>1</td>\n",
       "      <td>free</td>\n",
       "    </tr>\n",
       "    <tr>\n",
       "      <th>1069</th>\n",
       "      <td>7007.08</td>\n",
       "      <td>53.00</td>\n",
       "      <td>3</td>\n",
       "      <td>free</td>\n",
       "    </tr>\n",
       "    <tr>\n",
       "      <th>1071</th>\n",
       "      <td>3635.09</td>\n",
       "      <td>15.00</td>\n",
       "      <td>1</td>\n",
       "      <td>free</td>\n",
       "    </tr>\n",
       "    <tr>\n",
       "      <th>1072</th>\n",
       "      <td>2498.62</td>\n",
       "      <td>11.00</td>\n",
       "      <td>1</td>\n",
       "      <td>free</td>\n",
       "    </tr>\n",
       "  </tbody>\n",
       "</table>\n",
       "</div>"
      ],
      "text/plain": [
       "               distance  duration  count_use subscription_type\n",
       "month user_id                                                 \n",
       "1     1         7027.51     42.00          2             ultra\n",
       "      1061     12637.25     43.00          3              free\n",
       "      1063      3276.36     10.00          1              free\n",
       "      1064      5297.32     15.00          1              free\n",
       "      1065     14547.10     99.00          4              free\n",
       "      1066      2809.06     19.00          1              free\n",
       "      1067      3864.90     22.00          1              free\n",
       "      1069      7007.08     53.00          3              free\n",
       "      1071      3635.09     15.00          1              free\n",
       "      1072      2498.62     11.00          1              free"
      ]
     },
     "execution_count": 70,
     "metadata": {},
     "output_type": "execute_result"
    }
   ],
   "source": [
    "# выведем значения отсортированые по месяцу\n",
    "agg_data.sort_values(by='month').head(10)"
   ]
  },
  {
   "cell_type": "code",
   "execution_count": 71,
   "id": "e9ee115d",
   "metadata": {},
   "outputs": [
    {
     "data": {
      "text/html": [
       "<div>\n",
       "<style scoped>\n",
       "    .dataframe tbody tr th:only-of-type {\n",
       "        vertical-align: middle;\n",
       "    }\n",
       "\n",
       "    .dataframe tbody tr th {\n",
       "        vertical-align: top;\n",
       "    }\n",
       "\n",
       "    .dataframe thead th {\n",
       "        text-align: right;\n",
       "    }\n",
       "</style>\n",
       "<table border=\"1\" class=\"dataframe\">\n",
       "  <thead>\n",
       "    <tr style=\"text-align: right;\">\n",
       "      <th></th>\n",
       "      <th></th>\n",
       "      <th>distance</th>\n",
       "      <th>duration</th>\n",
       "      <th>count_use</th>\n",
       "      <th>subscription_type</th>\n",
       "    </tr>\n",
       "    <tr>\n",
       "      <th>month</th>\n",
       "      <th>user_id</th>\n",
       "      <th></th>\n",
       "      <th></th>\n",
       "      <th></th>\n",
       "      <th></th>\n",
       "    </tr>\n",
       "  </thead>\n",
       "  <tbody>\n",
       "    <tr>\n",
       "      <th>1</th>\n",
       "      <th>1</th>\n",
       "      <td>7027.51</td>\n",
       "      <td>42.00</td>\n",
       "      <td>2</td>\n",
       "      <td>ultra</td>\n",
       "    </tr>\n",
       "    <tr>\n",
       "      <th>4</th>\n",
       "      <th>1</th>\n",
       "      <td>754.16</td>\n",
       "      <td>7.00</td>\n",
       "      <td>1</td>\n",
       "      <td>ultra</td>\n",
       "    </tr>\n",
       "    <tr>\n",
       "      <th>8</th>\n",
       "      <th>1</th>\n",
       "      <td>6723.47</td>\n",
       "      <td>46.00</td>\n",
       "      <td>2</td>\n",
       "      <td>ultra</td>\n",
       "    </tr>\n",
       "    <tr>\n",
       "      <th>10</th>\n",
       "      <th>1</th>\n",
       "      <td>5809.91</td>\n",
       "      <td>32.00</td>\n",
       "      <td>2</td>\n",
       "      <td>ultra</td>\n",
       "    </tr>\n",
       "    <tr>\n",
       "      <th>11</th>\n",
       "      <th>1</th>\n",
       "      <td>7003.50</td>\n",
       "      <td>56.00</td>\n",
       "      <td>3</td>\n",
       "      <td>ultra</td>\n",
       "    </tr>\n",
       "    <tr>\n",
       "      <th>12</th>\n",
       "      <th>1</th>\n",
       "      <td>6751.63</td>\n",
       "      <td>28.00</td>\n",
       "      <td>2</td>\n",
       "      <td>ultra</td>\n",
       "    </tr>\n",
       "  </tbody>\n",
       "</table>\n",
       "</div>"
      ],
      "text/plain": [
       "               distance  duration  count_use subscription_type\n",
       "month user_id                                                 \n",
       "1     1         7027.51     42.00          2             ultra\n",
       "4     1          754.16      7.00          1             ultra\n",
       "8     1         6723.47     46.00          2             ultra\n",
       "10    1         5809.91     32.00          2             ultra\n",
       "11    1         7003.50     56.00          3             ultra\n",
       "12    1         6751.63     28.00          2             ultra"
      ]
     },
     "execution_count": 71,
     "metadata": {},
     "output_type": "execute_result"
    }
   ],
   "source": [
    "# Проверим все ли верно сработало, взглянув на user_id == 1\n",
    "agg_data.query('user_id == 1')"
   ]
  },
  {
   "cell_type": "markdown",
   "id": "6265f635",
   "metadata": {},
   "source": [
    "Из среза видно что, юзер с номером 1 ездил в январе, апреле, августе, октябре, ноябре и всегда был пользователем платной подписки. Продолжительность его поездок в среднем была от 14 до 22 минут. В среднем он проезжал около 6500м/месяц."
   ]
  },
  {
   "cell_type": "code",
   "execution_count": 72,
   "id": "76fd79f1",
   "metadata": {},
   "outputs": [],
   "source": [
    "# создадим функцию которая подсчитает выручку помесячно.\n",
    "def monthly_revenue(row):\n",
    "    if row['subscription_type'] == 'ultra':\n",
    "        return 199 + row['duration'] * 6\n",
    "    elif row['subscription_type'] == 'free':\n",
    "        return row['count_use'] * 50 + row['duration'] * 8\n",
    "    else:\n",
    "        'unknown_subscription'"
   ]
  },
  {
   "cell_type": "code",
   "execution_count": 73,
   "id": "1dfe2b46",
   "metadata": {},
   "outputs": [],
   "source": [
    "agg_data['revenue_per_mnth'] = agg_data.apply(monthly_revenue, axis=1)"
   ]
  },
  {
   "cell_type": "code",
   "execution_count": 74,
   "id": "c7d4df2d",
   "metadata": {},
   "outputs": [
    {
     "data": {
      "text/html": [
       "<div>\n",
       "<style scoped>\n",
       "    .dataframe tbody tr th:only-of-type {\n",
       "        vertical-align: middle;\n",
       "    }\n",
       "\n",
       "    .dataframe tbody tr th {\n",
       "        vertical-align: top;\n",
       "    }\n",
       "\n",
       "    .dataframe thead th {\n",
       "        text-align: right;\n",
       "    }\n",
       "</style>\n",
       "<table border=\"1\" class=\"dataframe\">\n",
       "  <thead>\n",
       "    <tr style=\"text-align: right;\">\n",
       "      <th></th>\n",
       "      <th></th>\n",
       "      <th>distance</th>\n",
       "      <th>duration</th>\n",
       "      <th>count_use</th>\n",
       "      <th>subscription_type</th>\n",
       "      <th>revenue_per_mnth</th>\n",
       "    </tr>\n",
       "    <tr>\n",
       "      <th>month</th>\n",
       "      <th>user_id</th>\n",
       "      <th></th>\n",
       "      <th></th>\n",
       "      <th></th>\n",
       "      <th></th>\n",
       "      <th></th>\n",
       "    </tr>\n",
       "  </thead>\n",
       "  <tbody>\n",
       "    <tr>\n",
       "      <th rowspan=\"5\" valign=\"top\">1</th>\n",
       "      <th>1</th>\n",
       "      <td>7027.51</td>\n",
       "      <td>42.00</td>\n",
       "      <td>2</td>\n",
       "      <td>ultra</td>\n",
       "      <td>451.00</td>\n",
       "    </tr>\n",
       "    <tr>\n",
       "      <th>3</th>\n",
       "      <td>3061.78</td>\n",
       "      <td>13.00</td>\n",
       "      <td>1</td>\n",
       "      <td>ultra</td>\n",
       "      <td>277.00</td>\n",
       "    </tr>\n",
       "    <tr>\n",
       "      <th>5</th>\n",
       "      <td>3914.65</td>\n",
       "      <td>13.00</td>\n",
       "      <td>1</td>\n",
       "      <td>ultra</td>\n",
       "      <td>277.00</td>\n",
       "    </tr>\n",
       "    <tr>\n",
       "      <th>7</th>\n",
       "      <td>6478.08</td>\n",
       "      <td>28.00</td>\n",
       "      <td>2</td>\n",
       "      <td>ultra</td>\n",
       "      <td>367.00</td>\n",
       "    </tr>\n",
       "    <tr>\n",
       "      <th>12</th>\n",
       "      <td>3577.15</td>\n",
       "      <td>33.00</td>\n",
       "      <td>1</td>\n",
       "      <td>ultra</td>\n",
       "      <td>397.00</td>\n",
       "    </tr>\n",
       "  </tbody>\n",
       "</table>\n",
       "</div>"
      ],
      "text/plain": [
       "               distance  duration  count_use subscription_type  \\\n",
       "month user_id                                                    \n",
       "1     1         7027.51     42.00          2             ultra   \n",
       "      3         3061.78     13.00          1             ultra   \n",
       "      5         3914.65     13.00          1             ultra   \n",
       "      7         6478.08     28.00          2             ultra   \n",
       "      12        3577.15     33.00          1             ultra   \n",
       "\n",
       "               revenue_per_mnth  \n",
       "month user_id                    \n",
       "1     1                  451.00  \n",
       "      3                  277.00  \n",
       "      5                  277.00  \n",
       "      7                  367.00  \n",
       "      12                 397.00  "
      ]
     },
     "metadata": {},
     "output_type": "display_data"
    }
   ],
   "source": [
    "display(agg_data.head(5))"
   ]
  },
  {
   "cell_type": "code",
   "execution_count": 75,
   "id": "76f68ba1",
   "metadata": {},
   "outputs": [
    {
     "data": {
      "text/html": [
       "<div>\n",
       "<style scoped>\n",
       "    .dataframe tbody tr th:only-of-type {\n",
       "        vertical-align: middle;\n",
       "    }\n",
       "\n",
       "    .dataframe tbody tr th {\n",
       "        vertical-align: top;\n",
       "    }\n",
       "\n",
       "    .dataframe thead th {\n",
       "        text-align: right;\n",
       "    }\n",
       "</style>\n",
       "<table border=\"1\" class=\"dataframe\">\n",
       "  <thead>\n",
       "    <tr style=\"text-align: right;\">\n",
       "      <th></th>\n",
       "      <th></th>\n",
       "      <th>distance</th>\n",
       "      <th>duration</th>\n",
       "      <th>count_use</th>\n",
       "      <th>subscription_type</th>\n",
       "      <th>revenue_per_mnth</th>\n",
       "    </tr>\n",
       "    <tr>\n",
       "      <th>month</th>\n",
       "      <th>user_id</th>\n",
       "      <th></th>\n",
       "      <th></th>\n",
       "      <th></th>\n",
       "      <th></th>\n",
       "      <th></th>\n",
       "    </tr>\n",
       "  </thead>\n",
       "  <tbody>\n",
       "    <tr>\n",
       "      <th>1</th>\n",
       "      <th>1</th>\n",
       "      <td>7027.51</td>\n",
       "      <td>42.00</td>\n",
       "      <td>2</td>\n",
       "      <td>ultra</td>\n",
       "      <td>451.00</td>\n",
       "    </tr>\n",
       "    <tr>\n",
       "      <th>4</th>\n",
       "      <th>1</th>\n",
       "      <td>754.16</td>\n",
       "      <td>7.00</td>\n",
       "      <td>1</td>\n",
       "      <td>ultra</td>\n",
       "      <td>241.00</td>\n",
       "    </tr>\n",
       "    <tr>\n",
       "      <th>8</th>\n",
       "      <th>1</th>\n",
       "      <td>6723.47</td>\n",
       "      <td>46.00</td>\n",
       "      <td>2</td>\n",
       "      <td>ultra</td>\n",
       "      <td>475.00</td>\n",
       "    </tr>\n",
       "    <tr>\n",
       "      <th>10</th>\n",
       "      <th>1</th>\n",
       "      <td>5809.91</td>\n",
       "      <td>32.00</td>\n",
       "      <td>2</td>\n",
       "      <td>ultra</td>\n",
       "      <td>391.00</td>\n",
       "    </tr>\n",
       "    <tr>\n",
       "      <th>11</th>\n",
       "      <th>1</th>\n",
       "      <td>7003.50</td>\n",
       "      <td>56.00</td>\n",
       "      <td>3</td>\n",
       "      <td>ultra</td>\n",
       "      <td>535.00</td>\n",
       "    </tr>\n",
       "    <tr>\n",
       "      <th>12</th>\n",
       "      <th>1</th>\n",
       "      <td>6751.63</td>\n",
       "      <td>28.00</td>\n",
       "      <td>2</td>\n",
       "      <td>ultra</td>\n",
       "      <td>367.00</td>\n",
       "    </tr>\n",
       "  </tbody>\n",
       "</table>\n",
       "</div>"
      ],
      "text/plain": [
       "               distance  duration  count_use subscription_type  \\\n",
       "month user_id                                                    \n",
       "1     1         7027.51     42.00          2             ultra   \n",
       "4     1          754.16      7.00          1             ultra   \n",
       "8     1         6723.47     46.00          2             ultra   \n",
       "10    1         5809.91     32.00          2             ultra   \n",
       "11    1         7003.50     56.00          3             ultra   \n",
       "12    1         6751.63     28.00          2             ultra   \n",
       "\n",
       "               revenue_per_mnth  \n",
       "month user_id                    \n",
       "1     1                  451.00  \n",
       "4     1                  241.00  \n",
       "8     1                  475.00  \n",
       "10    1                  391.00  \n",
       "11    1                  535.00  \n",
       "12    1                  367.00  "
      ]
     },
     "execution_count": 75,
     "metadata": {},
     "output_type": "execute_result"
    }
   ],
   "source": [
    "# Проверим все ли верно сработало, взглянув на user_id == 1\n",
    "agg_data.query('user_id == 1')"
   ]
  },
  {
   "cell_type": "markdown",
   "id": "d9fc1d7c",
   "metadata": {},
   "source": [
    "###### Вывод\n",
    "- Создал датафрейм с агрегированными данными о поездках на основе датафрейма с объединёнными данными из шага 4. Нашел суммарное расстояние, количество поездок и суммарное время для каждого пользователя за каждый месяц.  \n",
    "- Добавил столбец с помесячной выручкой, которую принёс каждый пользователь."
   ]
  },
  {
   "cell_type": "markdown",
   "id": "41545ac0",
   "metadata": {},
   "source": [
    "#### Шаг 6. Проверка гипотез"
   ]
  },
  {
   "cell_type": "markdown",
   "id": "2d2ca761",
   "metadata": {},
   "source": [
    "##### Проверим, тратят ли пользователи с подпиской больше времени на поездки."
   ]
  },
  {
   "cell_type": "markdown",
   "id": "9a80322a",
   "metadata": {},
   "source": [
    "Если да, то пользователи с подпиской могут быть «выгоднее» для компании.  \n",
    "Проверим гипотезу:  \n",
    "Пользователи с подпиской тратят больше времени на поездки, чем пользователи на бесплатном тарифе. \n",
    "- H0: Время (duration) пользователей на подписке ultra = время (duration) пользователей без подписки.\n",
    "- H1: Время (duration) пользователей на подписке ultra > время (duration) пользователей без подписки.  \n",
    "alpha = 0.05"
   ]
  },
  {
   "cell_type": "code",
   "execution_count": 76,
   "id": "62afddd4",
   "metadata": {},
   "outputs": [
    {
     "name": "stdout",
     "output_type": "stream",
     "text": [
      "1.2804098316645618e-34\n",
      "Отвергаем нулевую гипотезу\n"
     ]
    }
   ],
   "source": [
    "ultra = data_ultra['duration'] \n",
    "\n",
    "free = data_free['duration']\n",
    "\n",
    "results = st.ttest_ind(ultra, \n",
    "                       free,\n",
    "                       alternative = 'greater')\n",
    "\n",
    "alpha = .05\n",
    "\n",
    "print(results.pvalue)\n",
    "\n",
    "if results.pvalue < alpha:\n",
    "    print('Отвергаем нулевую гипотезу')\n",
    "else:\n",
    "    print('Не удалось отвергнуть нулевую гипотезу')"
   ]
  },
  {
   "cell_type": "code",
   "execution_count": 77,
   "id": "e417c2d5",
   "metadata": {
    "scrolled": true
   },
   "outputs": [
    {
     "data": {
      "image/png": "[encoded data removed]",
      "text/plain": [
       "<Figure size 432x288 with 1 Axes>"
      ]
     },
     "metadata": {
      "needs_background": "light"
     },
     "output_type": "display_data"
    }
   ],
   "source": [
    "ax = sns.barplot(x = 'month',\n",
    "            y = 'duration',\n",
    "            hue = \"subscription_type\",\n",
    "            data = data,\n",
    "            palette = ['green', 'blue'])\n",
    "ax.set_title('Распределение продолжительности поездок по видам подписок и месяцам')\n",
    "ax.set(xlabel='Номер месяца', ylabel='Продолжительность поездок');"
   ]
  },
  {
   "cell_type": "markdown",
   "id": "9f650317",
   "metadata": {},
   "source": [
    "###### Вывод"
   ]
  },
  {
   "cell_type": "markdown",
   "id": "03ecd564",
   "metadata": {},
   "source": [
    "Проведя исследование отвергли гипотезу о том, что время поездки пользователей на тарифе ultra равно времени поездки пользователей на тарифе free."
   ]
  },
  {
   "cell_type": "markdown",
   "id": "a89ff45a",
   "metadata": {},
   "source": [
    "##### Проверим гипотезу, что среднее расстояние, которое проезжают пользователи с подпиской за одну поездку, не превышает 3130 метров. "
   ]
  },
  {
   "cell_type": "markdown",
   "id": "746c9863",
   "metadata": {},
   "source": [
    "- H 0: Расстояние (distance) пользователей на подписке ultra = 3130 метров\n",
    "- H 1: Расстояние (distance) пользователей на подписке ultra < 3130 метров  \n",
    "alpha = 0.05"
   ]
  },
  {
   "cell_type": "code",
   "execution_count": 78,
   "id": "847eb380",
   "metadata": {
    "scrolled": true
   },
   "outputs": [
    {
     "name": "stdout",
     "output_type": "stream",
     "text": [
      "0.9195368847849785\n",
      "Не удалось отвергнуть нулевую гипотезу\n"
     ]
    }
   ],
   "source": [
    "distance_ultra = data_ultra['distance']\n",
    "\n",
    "interested_value = 3130.0\n",
    "\n",
    "alpha = .05\n",
    "\n",
    "results = st.ttest_1samp(\n",
    "    distance_ultra, \n",
    "    interested_value,\n",
    "    alternative='greater')\n",
    "    \n",
    "print(results.pvalue)\n",
    "\n",
    "if (results.pvalue < alpha):\n",
    "    print('Отвергаем нулевую гипотезу')\n",
    "else:\n",
    "    print('Не удалось отвергнуть нулевую гипотезу')"
   ]
  },
  {
   "cell_type": "markdown",
   "id": "6d79234a",
   "metadata": {},
   "source": [
    "###### Вывод\n",
    "Не получилось отвергнуть гипотезу о том, что среднее расстояние поездок с использованием подписки 'ultra' (меньше или) равно 3130 метров."
   ]
  },
  {
   "cell_type": "markdown",
   "id": "ee959606",
   "metadata": {},
   "source": [
    "##### Проверим гипотезу о том, будет ли помесячная выручка от пользователей с подпиской по месяцам выше, чем выручка от пользователей без подписки."
   ]
  },
  {
   "cell_type": "markdown",
   "id": "fc821b54",
   "metadata": {},
   "source": [
    "- H 0: Выручка (revenue_per_mnth) пользователей на подписке ultra = выручка (revenue_per_mnth) пользователей без подписки.\n",
    "- H 1: Выручка (revenue_per_mnth) пользователей на подписке ultra > выручка (revenue_per_mnth) пользователей без подписки.  \n",
    "alpha = 0.05"
   ]
  },
  {
   "cell_type": "code",
   "execution_count": 79,
   "id": "455ae461",
   "metadata": {},
   "outputs": [
    {
     "name": "stdout",
     "output_type": "stream",
     "text": [
      "1.8850394384715216e-31\n",
      "Отвергаем нулевую гипотезу\n"
     ]
    }
   ],
   "source": [
    "ultra_per_month = agg_data.loc[agg_data.subscription_type == 'ultra', 'revenue_per_mnth'] \n",
    "\n",
    "free_per_month = agg_data.loc[agg_data.subscription_type == 'free', 'revenue_per_mnth'] \n",
    "\n",
    "\n",
    "results = st.ttest_ind(ultra_per_month, \n",
    "                       free_per_month,\n",
    "                       alternative = 'greater')\n",
    "\n",
    "alpha = .05\n",
    "\n",
    "print(results.pvalue)\n",
    "\n",
    "if results.pvalue < alpha:\n",
    "    print('Отвергаем нулевую гипотезу')\n",
    "else:\n",
    "    print('Не удалось отвергнуть нулевую гипотезу')"
   ]
  },
  {
   "cell_type": "markdown",
   "id": "2625840d",
   "metadata": {},
   "source": [
    "###### Вывод\n",
    "Проверив гипотезу, мы можем утверждать, что выручка с пользователей на подписке ultra превышает выручку пользователей без подписки."
   ]
  },
  {
   "cell_type": "markdown",
   "id": "f49d5266",
   "metadata": {},
   "source": [
    "##### "
   ]
  },
  {
   "cell_type": "markdown",
   "id": "1556bb4e",
   "metadata": {},
   "source": [
    "Техническая команда сервиса обновила сервера, с которыми взаимодействует мобильное приложение. Она надеется, что из-за этого количество обращений в техподдержку значимо снизилось. Некоторый файл содержит для каждого пользователя данные о количестве обращений до обновления и после него."
   ]
  },
  {
   "cell_type": "markdown",
   "id": "12a42f76",
   "metadata": {},
   "source": [
    "Ответ:\n",
    "\n",
    "Будем использовать гипотезу о равенстве средних для зависимых (парных) выборок.\n",
    "Гипотезы будут сформулированы так:\n",
    "\n",
    "- H0 : μ1 = μ2\n",
    "- H1 : μ1 != μ2\n",
    "где μ1 и μ2 - средние значения количество обращений в техподдержку до и после изменения.\n",
    "\n",
    "Метод, который нужно использовать при сравнении: scipy.stats.ttest_rel()"
   ]
  },
  {
   "cell_type": "markdown",
   "id": "61213c5e",
   "metadata": {},
   "source": [
    "#### Шаг 7. Распределения"
   ]
  },
  {
   "cell_type": "markdown",
   "id": "69df2841",
   "metadata": {},
   "source": [
    "##### Задача 1"
   ]
  },
  {
   "cell_type": "markdown",
   "id": "c21429b6",
   "metadata": {},
   "source": [
    "Требуется выполнить план по продлению подписки 100 клиентами путем рассылки промокодов. Ранее вероятность продления была 10%. Требуется обеспечить выполнение плана с вероятностью неуспеха не более 5%. Построить график и ответить на вопрос. Сколько нужно разослать промокодов?"
   ]
  },
  {
   "cell_type": "code",
   "execution_count": 80,
   "id": "4f7b4541",
   "metadata": {},
   "outputs": [],
   "source": [
    "def cnsbe(n, p, x):\n",
    "    # Расшифровка названия функции:\n",
    "    # cnsbe - calculation of the number of successful Bernoulli experiments \n",
    "    # by approximating the binomial distribution by the normal\n",
    "    # (расчет количества успешных экспериментов Бернулли \n",
    "    # путем аппроксимации биномиального распределения нормальным)\n",
    "    \n",
    "    # Параметры биноминального распределения:\n",
    "    # n - количество экспериментов\n",
    "    # p - вероятность успеха\n",
    "    \n",
    "    # x - вероятность расчитываемого значения\n",
    "    \n",
    "    # Расчет параметров нормального распределения\n",
    "    mu = n * p\n",
    "    sigma = (n * p * (1 - p))**.5\n",
    "    # Расчет нормального распределения\n",
    "    distr = st.norm(mu, sigma)\n",
    "    \n",
    "    # Расчет значения для заданной вероятности x\n",
    "    result = distr.ppf(x)\n",
    "    \n",
    "    # Построение графика\n",
    "    arange = np.arange(\n",
    "        (mu - 4 * sigma), \n",
    "        (mu + 4 * sigma), \n",
    "        1\n",
    "    )\n",
    "    plt.plot(arange, st.norm.pdf(arange, mu, sigma), 'b-')\n",
    "    plt.axvline(x=result, color='red')\n",
    "    plt.show()\n",
    "    \n",
    "    return result"
   ]
  },
  {
   "cell_type": "code",
   "execution_count": 81,
   "id": "10631ffe",
   "metadata": {},
   "outputs": [
    {
     "data": {
      "image/png": "[encoded data removed]",
      "text/plain": [
       "<Figure size 432x288 with 1 Axes>"
      ]
     },
     "metadata": {
      "needs_background": "light"
     },
     "output_type": "display_data"
    },
    {
     "data": {
      "text/plain": [
       "100.02841955223582"
      ]
     },
     "execution_count": 81,
     "metadata": {},
     "output_type": "execute_result"
    }
   ],
   "source": [
    "cnsbe(1169, .1, .05)"
   ]
  },
  {
   "cell_type": "markdown",
   "id": "27b044c9",
   "metadata": {},
   "source": [
    "Требуется разослать 1169 промокодов, которые приводят к продлению подписки с вероятностью 10%, чтобы 100 клиентов продлили подписку с вероятностью неуспеха не более 5%."
   ]
  },
  {
   "cell_type": "markdown",
   "id": "25b3dad1",
   "metadata": {},
   "source": [
    "Альтернативное решение"
   ]
  },
  {
   "cell_type": "code",
   "execution_count": 82,
   "id": "a1060b29",
   "metadata": {},
   "outputs": [
    {
     "data": {
      "image/png": "[encoded data removed]",
      "text/plain": [
       "<Figure size 432x288 with 1 Axes>"
      ]
     },
     "metadata": {
      "needs_background": "light"
     },
     "output_type": "display_data"
    },
    {
     "name": "stdout",
     "output_type": "stream",
     "text": [
      "Требуется произвести 142 действия для получения 10 успешных результатов с вероятностью 95.0% при вероятности успеха 10.0%.\n"
     ]
    }
   ],
   "source": [
    "# Функция поиска количества всех попыток экспериментов Бернули n\n",
    "# которые приводят к желаемому количеству успешных попыток kn\n",
    "# с определенной вероятностью kp при вероятносте успеха p\n",
    "def search_binom_n(kn, kp, p):\n",
    "    # kn - требуемое количество успешных попыток\n",
    "    # p  - известная вероятность успешных попыток\n",
    "    # kp - с какой вероятностью нужно получить kn\n",
    "    kp = 1 - kp\n",
    "    \n",
    "    # Общее количество попыток n должно быть не менее \n",
    "    # количества успешных попыток kn\n",
    "    n = kn\n",
    "    # Тригер успеха\n",
    "    result = False\n",
    "    \n",
    "    # Повторять цикл, пока количество всех попыток n не станет достаточным \n",
    "    # для получения требуемого количества успешных попыток kn с вероятностью kp\n",
    "    while result == False:\n",
    "        # Вероятности\n",
    "        distr = []\n",
    "        # Значения\n",
    "        k_nums = []\n",
    "        \n",
    "        # Построение биноминального распределения\n",
    "        for k in range(0, n + 1):\n",
    "            choose = factorial(n) / (factorial(k) * factorial(n - k))\n",
    "            prob = choose * p**k * (1 - p)**(n - k)\n",
    "            distr.append(prob)\n",
    "            k_nums.append(k)\n",
    "        \n",
    "        # Проверка параметров распределения\n",
    "        # на соответствие условиям\n",
    "        p_sum = 0\n",
    "        j = 0\n",
    "        # Сложение вероятностей полученного биноминального распределения\n",
    "        # до получения значения \n",
    "        for i in distr:\n",
    "            p_sum += i\n",
    "            j += 1\n",
    "            # Если сумма сложенных вероятностей равна \n",
    "            # ожидаемой вероятности pk получения pn, \n",
    "            # то завершить цикл сложения\n",
    "            if p_sum >= kp: break\n",
    "        \n",
    "        # Если значением k при вероятности kp меньше kn,\n",
    "        # то увеличить n и продолжить расчеты\n",
    "        if k_nums[j] < kn:\n",
    "            n += 1\n",
    "        # Если найдено такое n, которое дает результат kn \n",
    "        # с вероятностью kp, то завершить расчеты \n",
    "        else:\n",
    "            result = True\n",
    "            plt.bar(k_nums, distr);\n",
    "            plt.show()\n",
    "            break\n",
    "    \n",
    "    return n\n",
    "\n",
    "k = 10\n",
    "kp = .95\n",
    "p = .1\n",
    "print(f'Требуется произвести {search_binom_n(k, kp, p)} \\\n",
    "действия для получения {k} успешных результатов с вероятностью \\\n",
    "{kp*100}% при вероятности успеха {p*100}%.')"
   ]
  },
  {
   "cell_type": "markdown",
   "id": "e3f3bfd6",
   "metadata": {},
   "source": [
    "С помощью созданной функции получилось произвести расчеты для выполнения плана в 10 раз меньше. Для 10 продлений подписки с вероятностью 95%, требуется разослать 142 промокода, которые приводят к продлению подписки с вероятностью 10%. Исходя из полученного результата можно предположить, что при увеличении количества плановых продлений в 10 раз, также увеличится количество разосланных промокодов приблизительно в 10 раз. Если это так, то требуется разослать 1420 промокодов."
   ]
  },
  {
   "cell_type": "markdown",
   "id": "b246dfd8",
   "metadata": {},
   "source": [
    "##### Задача 2"
   ]
  },
  {
   "cell_type": "markdown",
   "id": "c1838641",
   "metadata": {},
   "source": [
    "Планируется разослать клиентам 1 млн. уведомлений, которые клиенты открывают с вероятностью 40%. Требуется с помощью аппроксимации построить график распределения и оценить вероятность того, что не более 399.5 тыс. клиентов откроют уведомления."
   ]
  },
  {
   "cell_type": "code",
   "execution_count": 83,
   "id": "d810e6cf",
   "metadata": {},
   "outputs": [],
   "source": [
    "# Функция расчета вероятности проведения успешных экспериментов Бернули\n",
    "# путем аппроксимации биномиального распределения нормальным\n",
    "def cpsbe(n, p, x):\n",
    "    # Расшифровка названия функции:\n",
    "    # cpsbe - calculation of the probability of successful Bernoulli experiments\n",
    "    # by approximating the binomial distribution by the normal\n",
    "    # (расчет вероятности проведения успешных экспериментов Бернули \n",
    "    # путем аппроксимации биномиального распределения нормальным)\n",
    "    \n",
    "    # Параметры биноминального распределения:\n",
    "    # n - количество экспериментов\n",
    "    # p - вероятность успеха\n",
    "    \n",
    "    # x - заданное значение, для которого расчитывается вероятность\n",
    "    \n",
    "    # Расчет параметров нормального распределения\n",
    "    mu = n * p\n",
    "    sigma = (n * p * (1 - p))**.5\n",
    "    # Расчет нормального распределения\n",
    "    distr = st.norm(mu, sigma)\n",
    "    \n",
    "    # Расчет вероятности для заданного значения x\n",
    "    result = distr.cdf(x)\n",
    "    \n",
    "    # Построение графика\n",
    "    arange = np.arange(\n",
    "        (mu - 4 * sigma), \n",
    "        (mu + 4 * sigma), \n",
    "        1\n",
    "    )\n",
    "    plt.plot(arange, st.norm.pdf(arange, mu, sigma), 'b-')\n",
    "    plt.axvline(x=x, color='red')\n",
    "    plt.show()\n",
    "    \n",
    "    return result"
   ]
  },
  {
   "cell_type": "code",
   "execution_count": 84,
   "id": "36a91521",
   "metadata": {},
   "outputs": [
    {
     "data": {
      "image/png": "[encoded data removed]",
      "text/plain": [
       "<Figure size 432x288 with 1 Axes>"
      ]
     },
     "metadata": {
      "needs_background": "light"
     },
     "output_type": "display_data"
    },
    {
     "data": {
      "text/plain": [
       "0.15371708296369768"
      ]
     },
     "execution_count": 84,
     "metadata": {},
     "output_type": "execute_result"
    }
   ],
   "source": [
    "cpsbe(1000000, .4, 399500)"
   ]
  },
  {
   "cell_type": "markdown",
   "id": "c1b65153",
   "metadata": {},
   "source": [
    "399.5 тыс. клиентов откроют уведомления с вероятностью 15.37%, если разослать 1 млн. уведомлений, которые открывают клиенты с вероятностью 40%."
   ]
  },
  {
   "cell_type": "markdown",
   "id": "6e426232",
   "metadata": {},
   "source": [
    "#### Выводы проекта"
   ]
  },
  {
   "cell_type": "markdown",
   "id": "ae39e293",
   "metadata": {},
   "source": [
    "Основная цель проекта достигнута. Проанализированы данные сервиса аренды самокатов GoFast и проверены некоторые гипотезы, которые могут помочь бизнесу вырасти."
   ]
  },
  {
   "cell_type": "markdown",
   "id": "c705e07b",
   "metadata": {},
   "source": [
    "##### Описание исходных данных"
   ]
  },
  {
   "cell_type": "markdown",
   "id": "f0226d17",
   "metadata": {},
   "source": [
    "В исходных данных есть информация о пользователях, их поездках и подписках, сгруппированных в три файла.\n",
    "\n",
    "Пользователи — ‘users_go.csv’:\n",
    "\n",
    "- ‘user_id’ — уникальный идентификатор пользователя;\n",
    "- ‘name’ — имя пользователя;\n",
    "- ‘age’ — возраст;\n",
    "- ‘city’ — город;\n",
    "- ‘subscription_type’ — тип подписки (free, ultra). \n",
    "\n",
    "Поездки — ‘rides_go.csv’:\n",
    "\n",
    "- ‘user_id’ — уникальный идентификатор пользователя;\n",
    "- ‘distance’ — расстояние, которое пользователь проехал в текущей сессии (в метрах);\n",
    "- ‘duration’ — продолжительность сессии (в минутах) — время с того момента, как пользователь нажал кнопку «Начать поездку» до момента, как он нажал кнопку «Завершить поездку»;\n",
    "- ‘date’ — дата совершения поездки.  \n",
    "\n",
    "Подписки — ‘subscriptions_go.csv’:\n",
    "\n",
    "- ‘subscription_type’ — тип подписки;\n",
    "- ‘minute_price’ — стоимость одной минуты поездки по данной подписке;\n",
    "- ‘start_ride_price’ — стоимость начала поездки;\n",
    "- ‘subscription_fee’ — стоимость ежемесячного платёж."
   ]
  },
  {
   "cell_type": "markdown",
   "id": "fd9dfc00",
   "metadata": {},
   "source": [
    "##### Выполненная работа"
   ]
  },
  {
   "cell_type": "markdown",
   "id": "dabee303",
   "metadata": {},
   "source": [
    "В ходе проекта были проделаны следующие шаги:\n",
    "\n",
    "Загрузка данных.\n",
    "Предобработка данных.  \n",
    "\n",
    "- Добавление столбцов.\n",
    "- Обработка дубликатов.\n",
    "- Проверка результатов предобработки данных.  \n",
    "\n",
    "Исследовательский анализ данных:  \n",
    "\n",
    "- Частота встречаемости городов.\n",
    "- Соотношение пользователей с подпиской и без нее.\n",
    "- Возраст пользователей.\n",
    "- Расстояние, которое пользователь преодолел за одну поездку.\n",
    "- Продолжительность поездок.\n",
    "- Сделаны промежуточные выводы исследовательского анализа.  \n",
    "\n",
    "Объединение данных.  \n",
    "\n",
    "- Объединение данных о пользователях, поездках и подписках в один датафрейм методом merge().\n",
    "- Создание двух датафреймов с пользователями, имеющими подписку и без нее, на основе общего датафрейма.\n",
    "- Визуализация данных из датафреймов, разделенных на пользователей с подпиской и без.  \n",
    "\n",
    "Подсчёт выручки.  \n",
    "\n",
    "- Создание датафрейма, агрегированного по пользователям, на основе ‘data’\n",
    "- Добавление столбца в агрегированный датафрейм с помесечной выручкой по каждому пользователю  \n",
    "\n",
    "Проверка гипотез:  \n",
    "\n",
    "- Тратят ли пользователи с подпиской больше времени на поездки?\n",
    "- Расстояние, которое проезжают пользователи с подпиской за одну поездку, не превышает 3130 метров?\n",
    "- Помесчячная выручка от пользователей с подпиской по месяцам выше, чем выручка от пользователей без подписки? Сделать выводы.\n",
    "- Каким тестом проверить гипотезу о снижении количества пользовательских обращений после обновления сервиса, с которым взаимодействует мобильное приложение?  \n",
    "\n",
    "Распределения:  \n",
    "\n",
    "- Задача №1.\n",
    "- Задача №2.\n"
   ]
  },
  {
   "cell_type": "markdown",
   "id": "9d9dd91f",
   "metadata": {},
   "source": [
    "##### Выводы"
   ]
  },
  {
   "cell_type": "markdown",
   "id": "bb3034b1",
   "metadata": {},
   "source": [
    "Все исходные данные во всех файлах не содержали пропусков, значительных выбросов, а также дубликатов, кроме тех, которые были обнаружены в файле ‘users_go.csv’. \n",
    "\n",
    "В ходе исследовательского анализа данных было выявлено:\n",
    "\n",
    "- Пользователей с подпиской «free» всего 835, что составляет 54.43% от общего количества и на 136 больше, чем с подпиской «ultra».\n",
    "- Услугами сервиса аренды самокатов пользуются люди от 12 до 43 лет. Максимальное количество пользователей в возрасте 25 лет, этот же возраст является медианным.\n",
    "- Большая часть всех пользователей используют подписку «free». Всего их 835, что составляет 54.43% от общего количества и на 136 больше, чем с подпиской «ultra».\n",
    "- Максимальное количество в 219 поездок совершено в Пятигорске. Минимальное количество в 168 поездок совершено в Москве.\n",
    "- За одну поездку пользователи преодолевают от 1 до 7211 метров. Медиана всех значений равна 3134 метров. Наблюдаются два пика. Малый пик около 700 метров, большой пик около 3200 метров. Между пиками значения нормально распределены.\n",
    "- Продолжительность поездок нормально распределена от 0 до 41 минуты. Продолжительность в 18 минут является как наиболее распространенной так и медианным значением. Наблюдается выброс размером менее 100 поездок с продолжительностью в 1 минуту.  \n",
    "\n",
    "В результате группировки данных выявлено:\n",
    "\n",
    "- Поездок с исползьзованием подписки ‘free’ на 5068 больше, чем с использованием подписки ‘ultra’, и составляет 11568.\n",
    "- Возрастные показатели пользователей с разным типом подписки в целом схожи, за исключением максимального возраста, который на 5 лет больше у пользователей с подпиской ‘free’.\n",
    "- Дистанция поездок при использовании подписки ‘free’ более разнообразна. Так максимальная дистанция больше на 1511 метров, а минимальная на 243 метра меньше, чем при использовании подписки ‘ultra’. Об этом же свидетельствует и стандартное отклонение, которое при использовании подписки ‘free’ больше на 409 метров, чем при использовании подписки ‘ultra’. Средняя дистанция при использовании подписки ‘free’ короче. Это следует из того, что среднее значениее на 70 метров, а медиана на 34 метра, меньше, чем при использовании ‘ultra’. При использовании обоих подписок наблюдается два пика. Первый небольшой пик на меньших дистанциях и второй основной пик на больших дистанциях. Так меньший пик ‘ultra’ находится в районе 1000 метров, а основной в районе 3100 метров с небольшой коррекцией около 4000 метров. Меншьй пик ‘free’ в районе 700 метров, а основной 2500-3500 метров. В целом пики ‘ultra’ более выраженные и имеют меньший разрбос.\n",
    "- Продолжительность поездок при использовании подписки ‘free’ немного меньше по всем показателям, чем при использовании ‘ultra’. Например, минимальное время меньше на 3.26 минут, а максимальное меньше на 5.88 минут. В обоих случаях количество поездок относительно нормально распределено в зависимости от их продолжительности. Пик количества поездок приходится на 17-18 минут. При использовании подписки ‘free’ наблюдается пик в около 100 поездок с продолжительностью около 1 минуты.\n",
    "- Сезонность использования разного типа подписки схожа за исключением медианы, которая у подписчиков ‘ultra’ приходится на июнь, а у подписчиков ‘free’ на июль. При использовании обоих типов подписок наблюдаются спады пользовательской активности в феврале и ноябре. Максимум поездок с подпиской ‘ultra’ в мае (597 поездок, это 3.3% от всех поездок). Максимумы поездок с подпиской ‘free’ в январе (1001 поездка, это 5.54% от всех поездок), сентябре (1002 поездки) и декабре (1003 поездки). При использовании подписки ‘free’ нет выраженной сезонности, кроме спдов в феврале и ноябре. При использовании подписки ‘ultra’ наблюдается более выраженная сезонность. Количество поездок растет с февраля по май, а затем медленно снижается до ноября.\n",
    "- Во всех городах доминирует подписка ‘free’. Пятигорск является лидером по использованию этиго типа подписки (1672 поездок). Ростов-на-Дону является лидером по использованию подписки ‘ultra’ (885 поездок).  \n",
    "\n",
    "Не получилось отвергнуть ни одну из выдвинутых нулевых гипотез. Например, гипотезу о том, что средняя продолжительность поездок с подпиской ‘ultra’ равна (или больше) средней продолжительности с подпиской ‘free’. Или гипотезу о том, что среднее расстояние поездки с использованием подписки ‘ultra’ равно (или менее) 3130 метрам. Или гипотезу о том, что средняя выручка от поездок с использованием подписки ‘ultra’ равна (или больше) средней выручке с ипользованием подписки ‘free’.\n",
    "\n",
    "В задачах на распределение подсчитано:\n",
    "\n",
    "- Требуется разослать 1169 промокодов, которые приводят к продлению подписки с вероятностью 10%, чтобы 100 клиентов продлили подписку с вероятностью неуспеха не более 5%.\n",
    "- 399.5 тыс. клиентов откроют уведомления с вероятностью 15.37%, если разослать 1 млн. уведомлений, которые открывают клиенты с вероятностью 40%."
   ]
  }
 ],
 "metadata": {
  "ExecuteTimeLog": [
   {
    "duration": 48,
    "start_time": "2023-12-17T11:14:29.488Z"
   },
   {
    "duration": 1364,
    "start_time": "2023-12-17T11:14:34.311Z"
   },
   {
    "duration": 194,
    "start_time": "2023-12-17T11:14:37.067Z"
   },
   {
    "duration": 11,
    "start_time": "2023-12-17T11:15:00.546Z"
   },
   {
    "duration": 11,
    "start_time": "2023-12-17T11:15:05.667Z"
   },
   {
    "duration": 16,
    "start_time": "2023-12-17T11:16:03.590Z"
   },
   {
    "duration": 24,
    "start_time": "2023-12-17T11:16:28.664Z"
   },
   {
    "duration": 10,
    "start_time": "2023-12-17T11:19:34.882Z"
   },
   {
    "duration": 8,
    "start_time": "2023-12-17T11:20:42.535Z"
   },
   {
    "duration": 8,
    "start_time": "2023-12-17T11:21:00.033Z"
   },
   {
    "duration": 6,
    "start_time": "2023-12-17T11:22:02.283Z"
   },
   {
    "duration": 9,
    "start_time": "2023-12-17T11:25:29.823Z"
   },
   {
    "duration": 8,
    "start_time": "2023-12-17T11:26:26.423Z"
   },
   {
    "duration": 7,
    "start_time": "2023-12-17T11:27:01.323Z"
   },
   {
    "duration": 7,
    "start_time": "2023-12-17T11:27:07.386Z"
   },
   {
    "duration": 1181,
    "start_time": "2023-12-17T11:27:54.884Z"
   },
   {
    "duration": 66,
    "start_time": "2023-12-17T11:27:56.067Z"
   },
   {
    "duration": 22,
    "start_time": "2023-12-17T11:27:56.134Z"
   },
   {
    "duration": 10,
    "start_time": "2023-12-17T11:27:56.159Z"
   },
   {
    "duration": 8,
    "start_time": "2023-12-17T11:27:56.171Z"
   },
   {
    "duration": 12,
    "start_time": "2023-12-17T11:27:56.180Z"
   },
   {
    "duration": 8,
    "start_time": "2023-12-17T11:28:32.737Z"
   },
   {
    "duration": 7,
    "start_time": "2023-12-17T11:29:49.783Z"
   },
   {
    "duration": 9,
    "start_time": "2023-12-17T13:27:30.604Z"
   },
   {
    "duration": 5,
    "start_time": "2023-12-17T13:28:31.612Z"
   },
   {
    "duration": 4,
    "start_time": "2023-12-17T13:29:06.681Z"
   },
   {
    "duration": 4,
    "start_time": "2023-12-17T13:29:23.244Z"
   },
   {
    "duration": 4,
    "start_time": "2023-12-17T13:29:52.812Z"
   },
   {
    "duration": 8,
    "start_time": "2023-12-17T13:32:32.173Z"
   },
   {
    "duration": 1132,
    "start_time": "2023-12-17T13:33:28.937Z"
   },
   {
    "duration": 68,
    "start_time": "2023-12-17T13:33:30.071Z"
   },
   {
    "duration": 50,
    "start_time": "2023-12-17T13:33:30.141Z"
   },
   {
    "duration": 20,
    "start_time": "2023-12-17T13:33:30.193Z"
   },
   {
    "duration": 51,
    "start_time": "2023-12-17T13:33:30.214Z"
   },
   {
    "duration": 30,
    "start_time": "2023-12-17T13:33:30.266Z"
   },
   {
    "duration": 158,
    "start_time": "2023-12-17T13:33:30.297Z"
   },
   {
    "duration": 310,
    "start_time": "2023-12-17T13:33:30.457Z"
   },
   {
    "duration": 353,
    "start_time": "2023-12-17T13:33:30.769Z"
   },
   {
    "duration": 8,
    "start_time": "2023-12-17T13:33:44.293Z"
   },
   {
    "duration": 13,
    "start_time": "2023-12-17T16:34:39.293Z"
   },
   {
    "duration": 7,
    "start_time": "2023-12-17T16:35:45.999Z"
   },
   {
    "duration": 20,
    "start_time": "2023-12-17T16:36:18.866Z"
   },
   {
    "duration": 11,
    "start_time": "2023-12-17T16:36:23.469Z"
   },
   {
    "duration": 21,
    "start_time": "2023-12-17T16:36:41.196Z"
   },
   {
    "duration": 14,
    "start_time": "2023-12-17T16:36:48.123Z"
   },
   {
    "duration": 9,
    "start_time": "2023-12-17T16:37:05.691Z"
   },
   {
    "duration": 8,
    "start_time": "2023-12-17T16:38:04.599Z"
   },
   {
    "duration": 6,
    "start_time": "2023-12-17T16:39:26.708Z"
   },
   {
    "duration": 5,
    "start_time": "2023-12-17T16:40:48.800Z"
   },
   {
    "duration": 7,
    "start_time": "2023-12-17T16:41:36.106Z"
   },
   {
    "duration": 7,
    "start_time": "2023-12-17T16:41:57.630Z"
   },
   {
    "duration": 5,
    "start_time": "2023-12-17T16:42:21.903Z"
   },
   {
    "duration": 12,
    "start_time": "2023-12-17T16:42:35.300Z"
   },
   {
    "duration": 2,
    "start_time": "2023-12-17T16:42:51.466Z"
   },
   {
    "duration": 7,
    "start_time": "2023-12-17T16:44:41.384Z"
   },
   {
    "duration": 5,
    "start_time": "2023-12-17T16:45:36.612Z"
   },
   {
    "duration": 5,
    "start_time": "2023-12-17T16:46:02.134Z"
   },
   {
    "duration": 7,
    "start_time": "2023-12-17T16:46:45.683Z"
   },
   {
    "duration": 2,
    "start_time": "2023-12-17T16:46:57.408Z"
   },
   {
    "duration": 6,
    "start_time": "2023-12-17T16:48:21.023Z"
   },
   {
    "duration": 5,
    "start_time": "2023-12-17T16:49:02.329Z"
   },
   {
    "duration": 28,
    "start_time": "2023-12-17T17:17:21.406Z"
   },
   {
    "duration": 26,
    "start_time": "2023-12-17T17:17:50.727Z"
   },
   {
    "duration": 29,
    "start_time": "2023-12-17T17:18:49.264Z"
   },
   {
    "duration": 38,
    "start_time": "2023-12-17T17:19:39.743Z"
   },
   {
    "duration": 26,
    "start_time": "2023-12-17T17:20:25.251Z"
   },
   {
    "duration": 29,
    "start_time": "2023-12-17T17:20:51.573Z"
   },
   {
    "duration": 3,
    "start_time": "2023-12-17T17:21:23.818Z"
   },
   {
    "duration": 176,
    "start_time": "2023-12-17T17:23:06.375Z"
   },
   {
    "duration": 3,
    "start_time": "2023-12-17T17:28:05.608Z"
   },
   {
    "duration": 5,
    "start_time": "2023-12-17T17:28:18.369Z"
   },
   {
    "duration": 143,
    "start_time": "2023-12-17T17:29:39.838Z"
   },
   {
    "duration": 200,
    "start_time": "2023-12-17T17:29:54.763Z"
   },
   {
    "duration": 114,
    "start_time": "2023-12-17T17:30:02.683Z"
   },
   {
    "duration": 134,
    "start_time": "2023-12-17T17:30:08.258Z"
   },
   {
    "duration": 134,
    "start_time": "2023-12-17T17:31:23.994Z"
   },
   {
    "duration": 102,
    "start_time": "2023-12-17T17:45:05.941Z"
   },
   {
    "duration": 141,
    "start_time": "2023-12-17T17:45:13.053Z"
   },
   {
    "duration": 158,
    "start_time": "2023-12-17T17:45:47.838Z"
   },
   {
    "duration": 155,
    "start_time": "2023-12-17T17:46:40.552Z"
   },
   {
    "duration": 8,
    "start_time": "2023-12-17T17:46:51.103Z"
   },
   {
    "duration": 6,
    "start_time": "2023-12-17T17:46:56.893Z"
   },
   {
    "duration": 7,
    "start_time": "2023-12-17T17:48:40.468Z"
   },
   {
    "duration": 12,
    "start_time": "2023-12-17T17:49:27.948Z"
   },
   {
    "duration": 8,
    "start_time": "2023-12-17T17:49:44.960Z"
   },
   {
    "duration": 8,
    "start_time": "2023-12-17T17:50:10.700Z"
   },
   {
    "duration": 9,
    "start_time": "2023-12-17T17:52:23.350Z"
   },
   {
    "duration": 1160,
    "start_time": "2023-12-17T17:53:35.799Z"
   },
   {
    "duration": 29,
    "start_time": "2023-12-17T17:53:36.961Z"
   },
   {
    "duration": 11,
    "start_time": "2023-12-17T17:53:36.991Z"
   },
   {
    "duration": 34,
    "start_time": "2023-12-17T17:53:37.004Z"
   },
   {
    "duration": 8,
    "start_time": "2023-12-17T17:53:37.039Z"
   },
   {
    "duration": 107,
    "start_time": "2023-12-17T17:53:37.048Z"
   },
   {
    "duration": 0,
    "start_time": "2023-12-17T17:53:37.156Z"
   },
   {
    "duration": 0,
    "start_time": "2023-12-17T17:53:37.158Z"
   },
   {
    "duration": 0,
    "start_time": "2023-12-17T17:53:37.159Z"
   },
   {
    "duration": 0,
    "start_time": "2023-12-17T17:53:37.160Z"
   },
   {
    "duration": 0,
    "start_time": "2023-12-17T17:53:37.161Z"
   },
   {
    "duration": 0,
    "start_time": "2023-12-17T17:53:37.162Z"
   },
   {
    "duration": 0,
    "start_time": "2023-12-17T17:53:37.163Z"
   },
   {
    "duration": 0,
    "start_time": "2023-12-17T17:53:37.164Z"
   },
   {
    "duration": 0,
    "start_time": "2023-12-17T17:53:37.165Z"
   },
   {
    "duration": 0,
    "start_time": "2023-12-17T17:53:37.166Z"
   },
   {
    "duration": 0,
    "start_time": "2023-12-17T17:53:37.168Z"
   },
   {
    "duration": 9,
    "start_time": "2023-12-17T17:54:03.804Z"
   },
   {
    "duration": 9,
    "start_time": "2023-12-17T17:54:19.369Z"
   },
   {
    "duration": 9,
    "start_time": "2023-12-17T17:54:26.809Z"
   },
   {
    "duration": 9,
    "start_time": "2023-12-17T17:54:39.995Z"
   },
   {
    "duration": 8,
    "start_time": "2023-12-17T17:55:15.224Z"
   },
   {
    "duration": 21,
    "start_time": "2023-12-17T17:55:20.782Z"
   },
   {
    "duration": 1151,
    "start_time": "2023-12-17T17:56:42.835Z"
   },
   {
    "duration": 29,
    "start_time": "2023-12-17T17:56:43.988Z"
   },
   {
    "duration": 11,
    "start_time": "2023-12-17T17:56:44.018Z"
   },
   {
    "duration": 35,
    "start_time": "2023-12-17T17:56:44.031Z"
   },
   {
    "duration": 8,
    "start_time": "2023-12-17T17:56:44.067Z"
   },
   {
    "duration": 23,
    "start_time": "2023-12-17T17:56:44.076Z"
   },
   {
    "duration": 47,
    "start_time": "2023-12-17T17:56:44.100Z"
   },
   {
    "duration": 6,
    "start_time": "2023-12-17T17:56:44.149Z"
   },
   {
    "duration": 46,
    "start_time": "2023-12-17T17:56:44.156Z"
   },
   {
    "duration": 2,
    "start_time": "2023-12-17T17:56:44.205Z"
   },
   {
    "duration": 152,
    "start_time": "2023-12-17T17:56:44.209Z"
   },
   {
    "duration": 139,
    "start_time": "2023-12-17T17:56:44.363Z"
   },
   {
    "duration": 5,
    "start_time": "2023-12-17T17:56:44.503Z"
   },
   {
    "duration": 21,
    "start_time": "2023-12-17T17:56:44.509Z"
   },
   {
    "duration": 7,
    "start_time": "2023-12-17T17:56:44.531Z"
   },
   {
    "duration": 96,
    "start_time": "2023-12-17T17:56:44.539Z"
   },
   {
    "duration": 0,
    "start_time": "2023-12-17T17:56:44.637Z"
   },
   {
    "duration": 7,
    "start_time": "2023-12-17T17:58:00.912Z"
   },
   {
    "duration": 17,
    "start_time": "2023-12-17T17:58:05.300Z"
   },
   {
    "duration": 20,
    "start_time": "2023-12-17T17:58:11.144Z"
   },
   {
    "duration": 11,
    "start_time": "2023-12-17T17:58:18.235Z"
   },
   {
    "duration": 44,
    "start_time": "2023-12-18T16:29:36.258Z"
   },
   {
    "duration": 1387,
    "start_time": "2023-12-18T16:30:00.136Z"
   },
   {
    "duration": 79,
    "start_time": "2023-12-18T16:30:01.526Z"
   },
   {
    "duration": 12,
    "start_time": "2023-12-18T16:30:01.607Z"
   },
   {
    "duration": 93,
    "start_time": "2023-12-18T16:30:01.621Z"
   },
   {
    "duration": 8,
    "start_time": "2023-12-18T16:30:01.715Z"
   },
   {
    "duration": 55,
    "start_time": "2023-12-18T16:30:01.725Z"
   },
   {
    "duration": 139,
    "start_time": "2023-12-18T16:30:01.782Z"
   },
   {
    "duration": 7,
    "start_time": "2023-12-18T16:30:01.922Z"
   },
   {
    "duration": 59,
    "start_time": "2023-12-18T16:30:01.930Z"
   },
   {
    "duration": 60,
    "start_time": "2023-12-18T16:30:01.992Z"
   },
   {
    "duration": 185,
    "start_time": "2023-12-18T16:30:02.054Z"
   },
   {
    "duration": 132,
    "start_time": "2023-12-18T16:30:02.240Z"
   },
   {
    "duration": 4,
    "start_time": "2023-12-18T16:30:02.374Z"
   },
   {
    "duration": 92,
    "start_time": "2023-12-18T16:30:02.380Z"
   },
   {
    "duration": 36,
    "start_time": "2023-12-18T16:30:02.474Z"
   },
   {
    "duration": 14,
    "start_time": "2023-12-18T16:30:02.512Z"
   },
   {
    "duration": 34,
    "start_time": "2023-12-18T16:30:02.527Z"
   },
   {
    "duration": 120,
    "start_time": "2023-12-18T16:30:02.563Z"
   },
   {
    "duration": 7,
    "start_time": "2023-12-18T16:43:42.735Z"
   },
   {
    "duration": 6,
    "start_time": "2023-12-18T16:43:58.144Z"
   },
   {
    "duration": 12,
    "start_time": "2023-12-18T16:44:17.191Z"
   },
   {
    "duration": 6,
    "start_time": "2023-12-18T16:51:40.201Z"
   },
   {
    "duration": 6,
    "start_time": "2023-12-18T16:59:43.641Z"
   },
   {
    "duration": 4,
    "start_time": "2023-12-18T17:00:40.230Z"
   },
   {
    "duration": 90,
    "start_time": "2023-12-18T17:16:06.036Z"
   },
   {
    "duration": 5,
    "start_time": "2023-12-18T17:16:19.644Z"
   },
   {
    "duration": 7,
    "start_time": "2023-12-18T17:17:00.730Z"
   },
   {
    "duration": 4,
    "start_time": "2023-12-18T17:17:13.060Z"
   },
   {
    "duration": 5,
    "start_time": "2023-12-18T17:19:23.186Z"
   },
   {
    "duration": 5,
    "start_time": "2023-12-18T17:19:27.184Z"
   },
   {
    "duration": 6,
    "start_time": "2023-12-18T17:24:21.610Z"
   },
   {
    "duration": 11,
    "start_time": "2023-12-18T17:24:28.944Z"
   },
   {
    "duration": 9,
    "start_time": "2023-12-18T17:24:44.660Z"
   },
   {
    "duration": 6,
    "start_time": "2023-12-18T17:24:48.153Z"
   },
   {
    "duration": 5,
    "start_time": "2023-12-18T17:25:18.573Z"
   },
   {
    "duration": 11,
    "start_time": "2023-12-18T17:27:47.550Z"
   },
   {
    "duration": 4,
    "start_time": "2023-12-18T17:27:56.553Z"
   },
   {
    "duration": 4,
    "start_time": "2023-12-18T17:32:13.596Z"
   },
   {
    "duration": 11,
    "start_time": "2023-12-18T17:32:21.506Z"
   },
   {
    "duration": 15,
    "start_time": "2023-12-18T17:32:45.033Z"
   },
   {
    "duration": 12,
    "start_time": "2023-12-18T17:32:56.201Z"
   },
   {
    "duration": 8,
    "start_time": "2023-12-18T17:33:50.168Z"
   },
   {
    "duration": 4,
    "start_time": "2023-12-18T17:33:54.998Z"
   },
   {
    "duration": 11,
    "start_time": "2023-12-18T17:35:15.100Z"
   },
   {
    "duration": 2,
    "start_time": "2023-12-18T17:36:54.274Z"
   },
   {
    "duration": 4,
    "start_time": "2023-12-18T17:37:14.676Z"
   },
   {
    "duration": 3,
    "start_time": "2023-12-18T17:44:27.219Z"
   },
   {
    "duration": 12,
    "start_time": "2023-12-18T17:44:40.685Z"
   },
   {
    "duration": 9,
    "start_time": "2023-12-18T17:46:25.312Z"
   },
   {
    "duration": 1104,
    "start_time": "2023-12-18T17:46:51.483Z"
   },
   {
    "duration": 27,
    "start_time": "2023-12-18T17:46:52.589Z"
   },
   {
    "duration": 10,
    "start_time": "2023-12-18T17:46:52.618Z"
   },
   {
    "duration": 25,
    "start_time": "2023-12-18T17:46:52.630Z"
   },
   {
    "duration": 7,
    "start_time": "2023-12-18T17:46:52.656Z"
   },
   {
    "duration": 11,
    "start_time": "2023-12-18T17:46:52.664Z"
   },
   {
    "duration": 20,
    "start_time": "2023-12-18T17:46:52.676Z"
   },
   {
    "duration": 6,
    "start_time": "2023-12-18T17:46:52.697Z"
   },
   {
    "duration": 25,
    "start_time": "2023-12-18T17:46:52.704Z"
   },
   {
    "duration": 3,
    "start_time": "2023-12-18T17:46:52.732Z"
   },
   {
    "duration": 147,
    "start_time": "2023-12-18T17:46:52.736Z"
   },
   {
    "duration": 141,
    "start_time": "2023-12-18T17:46:52.884Z"
   },
   {
    "duration": 5,
    "start_time": "2023-12-18T17:46:53.027Z"
   },
   {
    "duration": 7,
    "start_time": "2023-12-18T17:46:53.033Z"
   },
   {
    "duration": 11,
    "start_time": "2023-12-18T17:46:53.041Z"
   },
   {
    "duration": 13,
    "start_time": "2023-12-18T17:46:53.053Z"
   },
   {
    "duration": 10,
    "start_time": "2023-12-18T17:46:53.068Z"
   },
   {
    "duration": 92,
    "start_time": "2023-12-18T17:46:53.079Z"
   },
   {
    "duration": 11,
    "start_time": "2023-12-18T17:46:53.172Z"
   },
   {
    "duration": 32,
    "start_time": "2023-12-18T17:46:53.184Z"
   },
   {
    "duration": 5,
    "start_time": "2023-12-18T17:46:53.217Z"
   },
   {
    "duration": 10,
    "start_time": "2023-12-18T17:46:53.223Z"
   },
   {
    "duration": 39,
    "start_time": "2023-12-18T17:46:53.234Z"
   },
   {
    "duration": 4,
    "start_time": "2023-12-18T17:46:53.275Z"
   },
   {
    "duration": 5,
    "start_time": "2023-12-18T17:46:53.281Z"
   },
   {
    "duration": 6,
    "start_time": "2023-12-18T17:46:53.287Z"
   },
   {
    "duration": 7,
    "start_time": "2023-12-18T17:46:53.294Z"
   },
   {
    "duration": 12,
    "start_time": "2023-12-18T17:46:53.303Z"
   },
   {
    "duration": 3,
    "start_time": "2023-12-18T17:46:53.316Z"
   },
   {
    "duration": 6,
    "start_time": "2023-12-18T17:46:53.320Z"
   },
   {
    "duration": 2,
    "start_time": "2023-12-18T17:46:53.327Z"
   },
   {
    "duration": 22,
    "start_time": "2023-12-18T17:46:53.331Z"
   },
   {
    "duration": 9,
    "start_time": "2023-12-18T17:46:53.354Z"
   },
   {
    "duration": 5,
    "start_time": "2023-12-18T17:48:09.666Z"
   },
   {
    "duration": 1126,
    "start_time": "2023-12-18T17:48:24.483Z"
   },
   {
    "duration": 31,
    "start_time": "2023-12-18T17:48:25.612Z"
   },
   {
    "duration": 15,
    "start_time": "2023-12-18T17:48:25.645Z"
   },
   {
    "duration": 34,
    "start_time": "2023-12-18T17:48:25.662Z"
   },
   {
    "duration": 8,
    "start_time": "2023-12-18T17:48:25.698Z"
   },
   {
    "duration": 8,
    "start_time": "2023-12-18T17:48:25.707Z"
   },
   {
    "duration": 18,
    "start_time": "2023-12-18T17:48:25.716Z"
   },
   {
    "duration": 7,
    "start_time": "2023-12-18T17:48:25.735Z"
   },
   {
    "duration": 39,
    "start_time": "2023-12-18T17:48:25.744Z"
   },
   {
    "duration": 4,
    "start_time": "2023-12-18T17:48:25.786Z"
   },
   {
    "duration": 146,
    "start_time": "2023-12-18T17:48:25.792Z"
   },
   {
    "duration": 131,
    "start_time": "2023-12-18T17:48:25.940Z"
   },
   {
    "duration": 6,
    "start_time": "2023-12-18T17:48:26.073Z"
   },
   {
    "duration": 28,
    "start_time": "2023-12-18T17:48:26.080Z"
   },
   {
    "duration": 22,
    "start_time": "2023-12-18T17:48:26.109Z"
   },
   {
    "duration": 23,
    "start_time": "2023-12-18T17:48:26.133Z"
   },
   {
    "duration": 27,
    "start_time": "2023-12-18T17:48:26.157Z"
   },
   {
    "duration": 92,
    "start_time": "2023-12-18T17:48:26.185Z"
   },
   {
    "duration": 13,
    "start_time": "2023-12-18T17:48:26.279Z"
   },
   {
    "duration": 39,
    "start_time": "2023-12-18T17:48:26.293Z"
   },
   {
    "duration": 19,
    "start_time": "2023-12-18T17:48:26.334Z"
   },
   {
    "duration": 19,
    "start_time": "2023-12-18T17:48:26.355Z"
   },
   {
    "duration": 16,
    "start_time": "2023-12-18T17:48:26.375Z"
   },
   {
    "duration": 10,
    "start_time": "2023-12-18T17:48:26.392Z"
   },
   {
    "duration": 24,
    "start_time": "2023-12-18T17:48:26.404Z"
   },
   {
    "duration": 19,
    "start_time": "2023-12-18T17:48:26.429Z"
   },
   {
    "duration": 7,
    "start_time": "2023-12-18T17:48:26.449Z"
   },
   {
    "duration": 44,
    "start_time": "2023-12-18T17:48:26.460Z"
   },
   {
    "duration": 5,
    "start_time": "2023-12-18T17:48:26.505Z"
   },
   {
    "duration": 14,
    "start_time": "2023-12-18T17:48:26.511Z"
   },
   {
    "duration": 3,
    "start_time": "2023-12-18T17:48:26.526Z"
   },
   {
    "duration": 19,
    "start_time": "2023-12-18T17:48:26.531Z"
   },
   {
    "duration": 5,
    "start_time": "2023-12-18T17:48:26.551Z"
   },
   {
    "duration": 12,
    "start_time": "2023-12-18T17:49:46.580Z"
   },
   {
    "duration": 1091,
    "start_time": "2023-12-18T17:49:55.012Z"
   },
   {
    "duration": 28,
    "start_time": "2023-12-18T17:49:56.105Z"
   },
   {
    "duration": 11,
    "start_time": "2023-12-18T17:49:56.134Z"
   },
   {
    "duration": 35,
    "start_time": "2023-12-18T17:49:56.147Z"
   },
   {
    "duration": 7,
    "start_time": "2023-12-18T17:49:56.183Z"
   },
   {
    "duration": 10,
    "start_time": "2023-12-18T17:49:56.191Z"
   },
   {
    "duration": 22,
    "start_time": "2023-12-18T17:49:56.202Z"
   },
   {
    "duration": 5,
    "start_time": "2023-12-18T17:49:56.226Z"
   },
   {
    "duration": 22,
    "start_time": "2023-12-18T17:49:56.232Z"
   },
   {
    "duration": 3,
    "start_time": "2023-12-18T17:49:56.256Z"
   },
   {
    "duration": 160,
    "start_time": "2023-12-18T17:49:56.260Z"
   },
   {
    "duration": 147,
    "start_time": "2023-12-18T17:49:56.421Z"
   },
   {
    "duration": 5,
    "start_time": "2023-12-18T17:49:56.570Z"
   },
   {
    "duration": 20,
    "start_time": "2023-12-18T17:49:56.576Z"
   },
   {
    "duration": 7,
    "start_time": "2023-12-18T17:49:56.597Z"
   },
   {
    "duration": 10,
    "start_time": "2023-12-18T17:49:56.605Z"
   },
   {
    "duration": 4,
    "start_time": "2023-12-18T17:49:56.616Z"
   },
   {
    "duration": 82,
    "start_time": "2023-12-18T17:49:56.621Z"
   },
   {
    "duration": 13,
    "start_time": "2023-12-18T17:49:56.705Z"
   },
   {
    "duration": 6,
    "start_time": "2023-12-18T17:49:56.719Z"
   },
   {
    "duration": 5,
    "start_time": "2023-12-18T17:49:56.726Z"
   },
   {
    "duration": 23,
    "start_time": "2023-12-18T17:49:56.732Z"
   },
   {
    "duration": 16,
    "start_time": "2023-12-18T17:49:56.756Z"
   },
   {
    "duration": 4,
    "start_time": "2023-12-18T17:49:56.773Z"
   },
   {
    "duration": 7,
    "start_time": "2023-12-18T17:49:56.778Z"
   },
   {
    "duration": 4,
    "start_time": "2023-12-18T17:49:56.786Z"
   },
   {
    "duration": 4,
    "start_time": "2023-12-18T17:49:56.791Z"
   },
   {
    "duration": 12,
    "start_time": "2023-12-18T17:49:56.797Z"
   },
   {
    "duration": 14,
    "start_time": "2023-12-18T17:49:56.810Z"
   },
   {
    "duration": 5,
    "start_time": "2023-12-18T17:49:56.825Z"
   },
   {
    "duration": 21,
    "start_time": "2023-12-18T17:49:56.831Z"
   },
   {
    "duration": 12,
    "start_time": "2023-12-18T17:49:56.853Z"
   },
   {
    "duration": 4,
    "start_time": "2023-12-18T17:49:56.866Z"
   },
   {
    "duration": 16,
    "start_time": "2023-12-18T17:52:44.542Z"
   },
   {
    "duration": 6,
    "start_time": "2023-12-18T17:52:48.246Z"
   },
   {
    "duration": 378,
    "start_time": "2023-12-18T17:54:19.900Z"
   },
   {
    "duration": 327,
    "start_time": "2023-12-18T17:54:43.619Z"
   },
   {
    "duration": 11,
    "start_time": "2023-12-18T17:54:51.336Z"
   },
   {
    "duration": 6,
    "start_time": "2023-12-18T17:54:54.401Z"
   },
   {
    "duration": 12,
    "start_time": "2023-12-18T17:56:14.895Z"
   },
   {
    "duration": 12,
    "start_time": "2023-12-18T17:59:15.795Z"
   },
   {
    "duration": 5,
    "start_time": "2023-12-18T17:59:19.989Z"
   },
   {
    "duration": 5,
    "start_time": "2023-12-18T17:59:22.199Z"
   },
   {
    "duration": 9,
    "start_time": "2023-12-18T17:59:45.900Z"
   },
   {
    "duration": 12,
    "start_time": "2023-12-18T18:01:30.610Z"
   },
   {
    "duration": 4,
    "start_time": "2023-12-18T18:02:28.630Z"
   },
   {
    "duration": 7,
    "start_time": "2023-12-18T18:02:31.139Z"
   },
   {
    "duration": 9,
    "start_time": "2023-12-18T18:03:23.894Z"
   },
   {
    "duration": 2,
    "start_time": "2023-12-18T18:03:28.567Z"
   },
   {
    "duration": 3,
    "start_time": "2023-12-18T18:08:43.216Z"
   },
   {
    "duration": 1355,
    "start_time": "2023-12-20T15:41:10.100Z"
   },
   {
    "duration": 73,
    "start_time": "2023-12-20T15:41:11.457Z"
   },
   {
    "duration": 12,
    "start_time": "2023-12-20T15:41:11.532Z"
   },
   {
    "duration": 66,
    "start_time": "2023-12-20T15:41:11.546Z"
   },
   {
    "duration": 9,
    "start_time": "2023-12-20T15:41:11.614Z"
   },
   {
    "duration": 9,
    "start_time": "2023-12-20T15:41:11.625Z"
   },
   {
    "duration": 55,
    "start_time": "2023-12-20T15:41:11.636Z"
   },
   {
    "duration": 8,
    "start_time": "2023-12-20T15:41:11.693Z"
   },
   {
    "duration": 27,
    "start_time": "2023-12-20T15:41:11.703Z"
   },
   {
    "duration": 4,
    "start_time": "2023-12-20T15:41:11.734Z"
   },
   {
    "duration": 156,
    "start_time": "2023-12-20T15:41:11.740Z"
   },
   {
    "duration": 152,
    "start_time": "2023-12-20T15:41:11.898Z"
   },
   {
    "duration": 14,
    "start_time": "2023-12-20T15:41:12.052Z"
   },
   {
    "duration": 8,
    "start_time": "2023-12-20T15:41:12.068Z"
   },
   {
    "duration": 4,
    "start_time": "2023-12-20T15:41:12.077Z"
   },
   {
    "duration": 13,
    "start_time": "2023-12-20T15:41:12.082Z"
   },
   {
    "duration": 3,
    "start_time": "2023-12-20T15:41:12.096Z"
   },
   {
    "duration": 96,
    "start_time": "2023-12-20T15:41:12.100Z"
   },
   {
    "duration": 15,
    "start_time": "2023-12-20T15:41:12.198Z"
   },
   {
    "duration": 6,
    "start_time": "2023-12-20T15:41:12.214Z"
   },
   {
    "duration": 7,
    "start_time": "2023-12-20T15:41:12.222Z"
   },
   {
    "duration": 36,
    "start_time": "2023-12-20T15:41:12.230Z"
   },
   {
    "duration": 8,
    "start_time": "2023-12-20T15:41:12.268Z"
   },
   {
    "duration": 4,
    "start_time": "2023-12-20T15:41:12.277Z"
   },
   {
    "duration": 7,
    "start_time": "2023-12-20T15:41:12.282Z"
   },
   {
    "duration": 5,
    "start_time": "2023-12-20T15:41:12.290Z"
   },
   {
    "duration": 4,
    "start_time": "2023-12-20T15:41:12.296Z"
   },
   {
    "duration": 12,
    "start_time": "2023-12-20T15:41:12.303Z"
   },
   {
    "duration": 5,
    "start_time": "2023-12-20T15:41:12.316Z"
   },
   {
    "duration": 44,
    "start_time": "2023-12-20T15:41:12.323Z"
   },
   {
    "duration": 5,
    "start_time": "2023-12-20T15:41:12.369Z"
   },
   {
    "duration": 6,
    "start_time": "2023-12-20T15:41:12.375Z"
   },
   {
    "duration": 6,
    "start_time": "2023-12-20T15:41:12.383Z"
   },
   {
    "duration": 5,
    "start_time": "2023-12-20T15:43:18.116Z"
   },
   {
    "duration": 4,
    "start_time": "2023-12-20T15:43:38.981Z"
   },
   {
    "duration": 6,
    "start_time": "2023-12-20T15:44:32.922Z"
   },
   {
    "duration": 4,
    "start_time": "2023-12-20T15:44:54.272Z"
   },
   {
    "duration": 4,
    "start_time": "2023-12-20T15:45:14.527Z"
   },
   {
    "duration": 89,
    "start_time": "2023-12-20T15:48:29.639Z"
   },
   {
    "duration": 87,
    "start_time": "2023-12-20T15:48:45.534Z"
   },
   {
    "duration": 86,
    "start_time": "2023-12-20T15:48:59.882Z"
   },
   {
    "duration": 83,
    "start_time": "2023-12-20T15:50:10.808Z"
   },
   {
    "duration": 151,
    "start_time": "2023-12-20T15:50:24.953Z"
   },
   {
    "duration": 88,
    "start_time": "2023-12-20T15:50:34.725Z"
   },
   {
    "duration": 65,
    "start_time": "2023-12-20T15:50:38.756Z"
   },
   {
    "duration": 84,
    "start_time": "2023-12-20T15:50:46.212Z"
   },
   {
    "duration": 82,
    "start_time": "2023-12-20T15:51:01.347Z"
   },
   {
    "duration": 5,
    "start_time": "2023-12-20T15:51:16.407Z"
   },
   {
    "duration": 7,
    "start_time": "2023-12-20T16:07:32.818Z"
   },
   {
    "duration": 7,
    "start_time": "2023-12-20T16:28:57.107Z"
   },
   {
    "duration": 6,
    "start_time": "2023-12-20T16:29:10.909Z"
   },
   {
    "duration": 5,
    "start_time": "2023-12-20T16:29:47.147Z"
   },
   {
    "duration": 6,
    "start_time": "2023-12-20T16:30:19.193Z"
   },
   {
    "duration": 7,
    "start_time": "2023-12-20T16:30:26.669Z"
   },
   {
    "duration": 4,
    "start_time": "2023-12-20T16:34:22.795Z"
   },
   {
    "duration": 5,
    "start_time": "2023-12-20T16:34:29.915Z"
   },
   {
    "duration": 5,
    "start_time": "2023-12-20T16:36:57.949Z"
   },
   {
    "duration": 4,
    "start_time": "2023-12-20T16:37:17.905Z"
   },
   {
    "duration": 4,
    "start_time": "2023-12-20T16:38:05.870Z"
   },
   {
    "duration": 4,
    "start_time": "2023-12-20T16:38:08.282Z"
   },
   {
    "duration": 98,
    "start_time": "2023-12-20T16:38:21.098Z"
   },
   {
    "duration": 89,
    "start_time": "2023-12-20T16:38:57.741Z"
   },
   {
    "duration": 4,
    "start_time": "2023-12-20T16:39:07.128Z"
   },
   {
    "duration": 4,
    "start_time": "2023-12-20T16:39:09.098Z"
   },
   {
    "duration": 140,
    "start_time": "2023-12-20T16:40:04.427Z"
   },
   {
    "duration": 6,
    "start_time": "2023-12-20T16:52:30.228Z"
   },
   {
    "duration": 5,
    "start_time": "2023-12-20T16:52:47.179Z"
   },
   {
    "duration": 8,
    "start_time": "2023-12-20T16:53:20.335Z"
   },
   {
    "duration": 6,
    "start_time": "2023-12-20T16:53:31.153Z"
   },
   {
    "duration": 82,
    "start_time": "2023-12-20T16:57:32.291Z"
   },
   {
    "duration": 9,
    "start_time": "2023-12-20T17:00:37.358Z"
   },
   {
    "duration": 162,
    "start_time": "2023-12-20T17:00:45.029Z"
   },
   {
    "duration": 4,
    "start_time": "2023-12-20T17:01:22.990Z"
   },
   {
    "duration": 13,
    "start_time": "2023-12-20T17:07:01.234Z"
   },
   {
    "duration": 5,
    "start_time": "2023-12-20T17:28:49.942Z"
   },
   {
    "duration": 4,
    "start_time": "2023-12-20T17:29:09.267Z"
   },
   {
    "duration": 11,
    "start_time": "2023-12-20T17:29:42.376Z"
   },
   {
    "duration": 6,
    "start_time": "2023-12-20T17:30:03.224Z"
   },
   {
    "duration": 4,
    "start_time": "2023-12-20T17:30:07.320Z"
   },
   {
    "duration": 4,
    "start_time": "2023-12-20T17:30:09.319Z"
   },
   {
    "duration": 1220,
    "start_time": "2023-12-20T17:31:02.826Z"
   },
   {
    "duration": 28,
    "start_time": "2023-12-20T17:31:04.048Z"
   },
   {
    "duration": 12,
    "start_time": "2023-12-20T17:31:04.077Z"
   },
   {
    "duration": 33,
    "start_time": "2023-12-20T17:31:04.092Z"
   },
   {
    "duration": 15,
    "start_time": "2023-12-20T17:31:04.127Z"
   },
   {
    "duration": 12,
    "start_time": "2023-12-20T17:31:04.144Z"
   },
   {
    "duration": 17,
    "start_time": "2023-12-20T17:31:04.158Z"
   },
   {
    "duration": 7,
    "start_time": "2023-12-20T17:31:04.177Z"
   },
   {
    "duration": 28,
    "start_time": "2023-12-20T17:31:04.185Z"
   },
   {
    "duration": 4,
    "start_time": "2023-12-20T17:31:04.216Z"
   },
   {
    "duration": 170,
    "start_time": "2023-12-20T17:31:04.221Z"
   },
   {
    "duration": 5,
    "start_time": "2023-12-20T17:31:04.393Z"
   },
   {
    "duration": 7,
    "start_time": "2023-12-20T17:31:04.400Z"
   },
   {
    "duration": 5,
    "start_time": "2023-12-20T17:31:04.408Z"
   },
   {
    "duration": 164,
    "start_time": "2023-12-20T17:31:04.414Z"
   },
   {
    "duration": 5,
    "start_time": "2023-12-20T17:31:04.580Z"
   },
   {
    "duration": 4,
    "start_time": "2023-12-20T17:31:04.586Z"
   },
   {
    "duration": 4,
    "start_time": "2023-12-20T17:31:04.592Z"
   },
   {
    "duration": 13,
    "start_time": "2023-12-20T17:31:04.597Z"
   },
   {
    "duration": 2,
    "start_time": "2023-12-20T17:31:04.612Z"
   },
   {
    "duration": 109,
    "start_time": "2023-12-20T17:31:04.616Z"
   },
   {
    "duration": 6,
    "start_time": "2023-12-20T17:31:04.726Z"
   },
   {
    "duration": 13,
    "start_time": "2023-12-20T17:31:04.733Z"
   },
   {
    "duration": 24,
    "start_time": "2023-12-20T17:31:04.748Z"
   },
   {
    "duration": 5,
    "start_time": "2023-12-20T17:31:04.773Z"
   },
   {
    "duration": 7,
    "start_time": "2023-12-20T17:31:04.779Z"
   },
   {
    "duration": 6,
    "start_time": "2023-12-20T17:31:04.787Z"
   },
   {
    "duration": 23,
    "start_time": "2023-12-20T17:31:04.796Z"
   },
   {
    "duration": 6,
    "start_time": "2023-12-20T17:31:04.820Z"
   },
   {
    "duration": 8,
    "start_time": "2023-12-20T17:31:04.827Z"
   },
   {
    "duration": 10,
    "start_time": "2023-12-20T17:31:04.837Z"
   },
   {
    "duration": 19,
    "start_time": "2023-12-20T17:31:04.848Z"
   },
   {
    "duration": 23,
    "start_time": "2023-12-20T17:31:04.868Z"
   },
   {
    "duration": 13,
    "start_time": "2023-12-20T17:31:04.892Z"
   },
   {
    "duration": 12,
    "start_time": "2023-12-20T17:31:04.907Z"
   },
   {
    "duration": 9,
    "start_time": "2023-12-20T17:31:04.920Z"
   },
   {
    "duration": 6,
    "start_time": "2023-12-20T17:31:04.931Z"
   },
   {
    "duration": 4,
    "start_time": "2023-12-20T17:31:04.939Z"
   },
   {
    "duration": 20,
    "start_time": "2023-12-20T17:31:04.944Z"
   },
   {
    "duration": 8,
    "start_time": "2023-12-20T17:31:04.965Z"
   },
   {
    "duration": 7,
    "start_time": "2023-12-20T17:31:04.974Z"
   },
   {
    "duration": 146,
    "start_time": "2023-12-20T17:31:04.983Z"
   },
   {
    "duration": 5,
    "start_time": "2023-12-20T17:31:05.130Z"
   },
   {
    "duration": 99,
    "start_time": "2023-12-20T17:31:05.137Z"
   },
   {
    "duration": 6,
    "start_time": "2023-12-20T17:31:05.237Z"
   },
   {
    "duration": 10,
    "start_time": "2023-12-20T17:31:05.244Z"
   },
   {
    "duration": 151,
    "start_time": "2023-12-20T17:31:05.265Z"
   },
   {
    "duration": 5,
    "start_time": "2023-12-20T17:31:05.417Z"
   },
   {
    "duration": 10,
    "start_time": "2023-12-20T17:31:05.423Z"
   },
   {
    "duration": 4,
    "start_time": "2023-12-20T17:31:05.435Z"
   },
   {
    "duration": 69,
    "start_time": "2023-12-20T17:31:05.440Z"
   },
   {
    "duration": 5,
    "start_time": "2023-12-20T17:31:12.306Z"
   },
   {
    "duration": 120,
    "start_time": "2023-12-20T17:34:46.564Z"
   },
   {
    "duration": 5,
    "start_time": "2023-12-20T17:34:51.438Z"
   },
   {
    "duration": 3,
    "start_time": "2023-12-20T17:36:36.877Z"
   },
   {
    "duration": 69,
    "start_time": "2023-12-20T17:36:49.461Z"
   },
   {
    "duration": 293,
    "start_time": "2023-12-20T17:37:02.164Z"
   },
   {
    "duration": 10,
    "start_time": "2023-12-20T17:37:13.805Z"
   },
   {
    "duration": 5,
    "start_time": "2023-12-20T17:37:16.020Z"
   },
   {
    "duration": 4,
    "start_time": "2023-12-20T17:37:17.981Z"
   },
   {
    "duration": 7,
    "start_time": "2023-12-20T17:42:06.543Z"
   },
   {
    "duration": 7,
    "start_time": "2023-12-20T17:42:20.423Z"
   },
   {
    "duration": 1261,
    "start_time": "2023-12-20T17:42:34.880Z"
   },
   {
    "duration": 28,
    "start_time": "2023-12-20T17:42:36.143Z"
   },
   {
    "duration": 11,
    "start_time": "2023-12-20T17:42:36.172Z"
   },
   {
    "duration": 34,
    "start_time": "2023-12-20T17:42:36.185Z"
   },
   {
    "duration": 9,
    "start_time": "2023-12-20T17:42:36.221Z"
   },
   {
    "duration": 9,
    "start_time": "2023-12-20T17:42:36.231Z"
   },
   {
    "duration": 21,
    "start_time": "2023-12-20T17:42:36.241Z"
   },
   {
    "duration": 6,
    "start_time": "2023-12-20T17:42:36.264Z"
   },
   {
    "duration": 36,
    "start_time": "2023-12-20T17:42:36.272Z"
   },
   {
    "duration": 3,
    "start_time": "2023-12-20T17:42:36.311Z"
   },
   {
    "duration": 161,
    "start_time": "2023-12-20T17:42:36.316Z"
   },
   {
    "duration": 4,
    "start_time": "2023-12-20T17:42:36.478Z"
   },
   {
    "duration": 9,
    "start_time": "2023-12-20T17:42:36.483Z"
   },
   {
    "duration": 7,
    "start_time": "2023-12-20T17:42:36.493Z"
   },
   {
    "duration": 164,
    "start_time": "2023-12-20T17:42:36.501Z"
   },
   {
    "duration": 5,
    "start_time": "2023-12-20T17:42:36.666Z"
   },
   {
    "duration": 5,
    "start_time": "2023-12-20T17:42:36.672Z"
   },
   {
    "duration": 3,
    "start_time": "2023-12-20T17:42:36.679Z"
   },
   {
    "duration": 9,
    "start_time": "2023-12-20T17:42:36.683Z"
   },
   {
    "duration": 2,
    "start_time": "2023-12-20T17:42:36.694Z"
   },
   {
    "duration": 115,
    "start_time": "2023-12-20T17:42:36.698Z"
   },
   {
    "duration": 6,
    "start_time": "2023-12-20T17:42:36.814Z"
   },
   {
    "duration": 7,
    "start_time": "2023-12-20T17:42:36.821Z"
   },
   {
    "duration": 18,
    "start_time": "2023-12-20T17:42:36.830Z"
   },
   {
    "duration": 17,
    "start_time": "2023-12-20T17:42:36.850Z"
   },
   {
    "duration": 12,
    "start_time": "2023-12-20T17:42:36.869Z"
   },
   {
    "duration": 5,
    "start_time": "2023-12-20T17:42:36.882Z"
   },
   {
    "duration": 7,
    "start_time": "2023-12-20T17:42:36.890Z"
   },
   {
    "duration": 9,
    "start_time": "2023-12-20T17:42:36.898Z"
   },
   {
    "duration": 8,
    "start_time": "2023-12-20T17:42:36.908Z"
   },
   {
    "duration": 5,
    "start_time": "2023-12-20T17:42:36.917Z"
   },
   {
    "duration": 5,
    "start_time": "2023-12-20T17:42:36.923Z"
   },
   {
    "duration": 46,
    "start_time": "2023-12-20T17:42:36.930Z"
   },
   {
    "duration": 5,
    "start_time": "2023-12-20T17:42:36.978Z"
   },
   {
    "duration": 15,
    "start_time": "2023-12-20T17:42:36.984Z"
   },
   {
    "duration": 12,
    "start_time": "2023-12-20T17:42:37.001Z"
   },
   {
    "duration": 9,
    "start_time": "2023-12-20T17:42:37.014Z"
   },
   {
    "duration": 3,
    "start_time": "2023-12-20T17:42:37.025Z"
   },
   {
    "duration": 6,
    "start_time": "2023-12-20T17:42:37.030Z"
   },
   {
    "duration": 7,
    "start_time": "2023-12-20T17:42:37.038Z"
   },
   {
    "duration": 7,
    "start_time": "2023-12-20T17:42:37.065Z"
   },
   {
    "duration": 145,
    "start_time": "2023-12-20T17:42:37.074Z"
   },
   {
    "duration": 6,
    "start_time": "2023-12-20T17:42:37.221Z"
   },
   {
    "duration": 107,
    "start_time": "2023-12-20T17:42:37.229Z"
   },
   {
    "duration": 6,
    "start_time": "2023-12-20T17:42:37.337Z"
   },
   {
    "duration": 22,
    "start_time": "2023-12-20T17:42:37.344Z"
   },
   {
    "duration": 151,
    "start_time": "2023-12-20T17:42:37.367Z"
   },
   {
    "duration": 4,
    "start_time": "2023-12-20T17:42:37.520Z"
   },
   {
    "duration": 16,
    "start_time": "2023-12-20T17:42:37.527Z"
   },
   {
    "duration": 6,
    "start_time": "2023-12-20T17:42:37.545Z"
   },
   {
    "duration": 6,
    "start_time": "2023-12-20T17:42:37.565Z"
   },
   {
    "duration": 7,
    "start_time": "2023-12-20T17:42:51.416Z"
   },
   {
    "duration": 7,
    "start_time": "2023-12-20T17:43:28.861Z"
   },
   {
    "duration": 5,
    "start_time": "2023-12-20T17:58:22.770Z"
   },
   {
    "duration": 6,
    "start_time": "2023-12-20T17:58:33.938Z"
   },
   {
    "duration": 5,
    "start_time": "2023-12-20T17:58:55.214Z"
   },
   {
    "duration": 2,
    "start_time": "2023-12-20T18:01:42.180Z"
   },
   {
    "duration": 105,
    "start_time": "2023-12-20T18:09:10.038Z"
   },
   {
    "duration": 112,
    "start_time": "2023-12-20T18:09:32.039Z"
   },
   {
    "duration": 78,
    "start_time": "2023-12-20T18:10:00.673Z"
   },
   {
    "duration": 161,
    "start_time": "2023-12-20T18:10:06.445Z"
   },
   {
    "duration": 14,
    "start_time": "2023-12-20T18:13:33.610Z"
   },
   {
    "duration": 5,
    "start_time": "2023-12-20T18:14:33.657Z"
   },
   {
    "duration": 7,
    "start_time": "2023-12-20T18:14:46.677Z"
   },
   {
    "duration": 7,
    "start_time": "2023-12-20T18:14:57.717Z"
   },
   {
    "duration": 13,
    "start_time": "2023-12-20T18:15:10.145Z"
   },
   {
    "duration": 8,
    "start_time": "2023-12-20T18:15:38.456Z"
   },
   {
    "duration": 7,
    "start_time": "2023-12-20T18:23:25.704Z"
   },
   {
    "duration": 7,
    "start_time": "2023-12-20T18:42:10.167Z"
   },
   {
    "duration": 4,
    "start_time": "2023-12-20T18:42:43.942Z"
   },
   {
    "duration": 6,
    "start_time": "2023-12-20T18:42:50.756Z"
   },
   {
    "duration": 13,
    "start_time": "2023-12-20T18:44:58.536Z"
   },
   {
    "duration": 9,
    "start_time": "2023-12-20T18:51:01.061Z"
   },
   {
    "duration": 66,
    "start_time": "2023-12-20T18:51:34.440Z"
   },
   {
    "duration": 8,
    "start_time": "2023-12-20T18:51:40.839Z"
   },
   {
    "duration": 8,
    "start_time": "2023-12-20T18:51:57.628Z"
   },
   {
    "duration": 1398,
    "start_time": "2023-12-21T16:42:57.907Z"
   },
   {
    "duration": 87,
    "start_time": "2023-12-21T16:42:59.306Z"
   },
   {
    "duration": 10,
    "start_time": "2023-12-21T16:42:59.395Z"
   },
   {
    "duration": 66,
    "start_time": "2023-12-21T16:42:59.407Z"
   },
   {
    "duration": 7,
    "start_time": "2023-12-21T16:42:59.474Z"
   },
   {
    "duration": 8,
    "start_time": "2023-12-21T16:42:59.483Z"
   },
   {
    "duration": 53,
    "start_time": "2023-12-21T16:42:59.492Z"
   },
   {
    "duration": 6,
    "start_time": "2023-12-21T16:42:59.547Z"
   },
   {
    "duration": 21,
    "start_time": "2023-12-21T16:42:59.555Z"
   },
   {
    "duration": 3,
    "start_time": "2023-12-21T16:42:59.578Z"
   },
   {
    "duration": 137,
    "start_time": "2023-12-21T16:42:59.583Z"
   },
   {
    "duration": 4,
    "start_time": "2023-12-21T16:42:59.722Z"
   },
   {
    "duration": 4,
    "start_time": "2023-12-21T16:42:59.727Z"
   },
   {
    "duration": 5,
    "start_time": "2023-12-21T16:42:59.732Z"
   },
   {
    "duration": 156,
    "start_time": "2023-12-21T16:42:59.738Z"
   },
   {
    "duration": 5,
    "start_time": "2023-12-21T16:42:59.896Z"
   },
   {
    "duration": 9,
    "start_time": "2023-12-21T16:42:59.902Z"
   },
   {
    "duration": 9,
    "start_time": "2023-12-21T16:42:59.912Z"
   },
   {
    "duration": 11,
    "start_time": "2023-12-21T16:42:59.922Z"
   },
   {
    "duration": 5,
    "start_time": "2023-12-21T16:42:59.934Z"
   },
   {
    "duration": 84,
    "start_time": "2023-12-21T16:42:59.940Z"
   },
   {
    "duration": 5,
    "start_time": "2023-12-21T16:43:00.026Z"
   },
   {
    "duration": 34,
    "start_time": "2023-12-21T16:43:00.033Z"
   },
   {
    "duration": 50,
    "start_time": "2023-12-21T16:43:00.069Z"
   },
   {
    "duration": 6,
    "start_time": "2023-12-21T16:43:00.121Z"
   },
   {
    "duration": 22,
    "start_time": "2023-12-21T16:43:00.129Z"
   },
   {
    "duration": 12,
    "start_time": "2023-12-21T16:43:00.153Z"
   },
   {
    "duration": 18,
    "start_time": "2023-12-21T16:43:00.170Z"
   },
   {
    "duration": 24,
    "start_time": "2023-12-21T16:43:00.189Z"
   },
   {
    "duration": 21,
    "start_time": "2023-12-21T16:43:00.215Z"
   },
   {
    "duration": 18,
    "start_time": "2023-12-21T16:43:00.238Z"
   },
   {
    "duration": 12,
    "start_time": "2023-12-21T16:43:00.257Z"
   },
   {
    "duration": 36,
    "start_time": "2023-12-21T16:43:00.270Z"
   },
   {
    "duration": 3,
    "start_time": "2023-12-21T16:43:00.308Z"
   },
   {
    "duration": 23,
    "start_time": "2023-12-21T16:43:00.312Z"
   },
   {
    "duration": 23,
    "start_time": "2023-12-21T16:43:00.337Z"
   },
   {
    "duration": 29,
    "start_time": "2023-12-21T16:43:00.361Z"
   },
   {
    "duration": 26,
    "start_time": "2023-12-21T16:43:00.392Z"
   },
   {
    "duration": 35,
    "start_time": "2023-12-21T16:43:00.420Z"
   },
   {
    "duration": 36,
    "start_time": "2023-12-21T16:43:00.456Z"
   },
   {
    "duration": 17,
    "start_time": "2023-12-21T16:43:00.494Z"
   },
   {
    "duration": 160,
    "start_time": "2023-12-21T16:43:00.513Z"
   },
   {
    "duration": 8,
    "start_time": "2023-12-21T16:43:00.675Z"
   },
   {
    "duration": 133,
    "start_time": "2023-12-21T16:43:00.685Z"
   },
   {
    "duration": 5,
    "start_time": "2023-12-21T16:43:00.820Z"
   },
   {
    "duration": 26,
    "start_time": "2023-12-21T16:43:00.827Z"
   },
   {
    "duration": 147,
    "start_time": "2023-12-21T16:43:00.854Z"
   },
   {
    "duration": 4,
    "start_time": "2023-12-21T16:43:01.002Z"
   },
   {
    "duration": 29,
    "start_time": "2023-12-21T16:43:01.008Z"
   },
   {
    "duration": 28,
    "start_time": "2023-12-21T16:43:01.038Z"
   },
   {
    "duration": 42,
    "start_time": "2023-12-21T16:43:01.067Z"
   },
   {
    "duration": 32,
    "start_time": "2023-12-21T16:43:01.110Z"
   },
   {
    "duration": 136,
    "start_time": "2023-12-21T16:43:01.144Z"
   },
   {
    "duration": 11,
    "start_time": "2023-12-21T16:43:01.281Z"
   },
   {
    "duration": 14,
    "start_time": "2023-12-21T16:43:01.293Z"
   },
   {
    "duration": 46,
    "start_time": "2023-12-21T16:43:01.308Z"
   },
   {
    "duration": 31,
    "start_time": "2023-12-21T16:43:01.356Z"
   },
   {
    "duration": 20,
    "start_time": "2023-12-21T16:43:01.388Z"
   },
   {
    "duration": 17,
    "start_time": "2023-12-21T16:43:01.409Z"
   },
   {
    "duration": 151,
    "start_time": "2023-12-21T17:15:53.279Z"
   },
   {
    "duration": 93,
    "start_time": "2023-12-21T17:16:27.654Z"
   },
   {
    "duration": 5,
    "start_time": "2023-12-21T17:17:04.450Z"
   },
   {
    "duration": 95,
    "start_time": "2023-12-21T17:17:51.097Z"
   },
   {
    "duration": 18,
    "start_time": "2023-12-21T17:47:57.741Z"
   },
   {
    "duration": 30,
    "start_time": "2023-12-21T17:48:04.870Z"
   },
   {
    "duration": 113,
    "start_time": "2023-12-21T17:58:19.982Z"
   },
   {
    "duration": 25,
    "start_time": "2023-12-21T17:58:34.837Z"
   },
   {
    "duration": 18,
    "start_time": "2023-12-21T17:58:44.304Z"
   },
   {
    "duration": 1154,
    "start_time": "2023-12-21T17:59:26.888Z"
   },
   {
    "duration": 29,
    "start_time": "2023-12-21T17:59:28.044Z"
   },
   {
    "duration": 10,
    "start_time": "2023-12-21T17:59:28.074Z"
   },
   {
    "duration": 27,
    "start_time": "2023-12-21T17:59:28.085Z"
   },
   {
    "duration": 7,
    "start_time": "2023-12-21T17:59:28.113Z"
   },
   {
    "duration": 7,
    "start_time": "2023-12-21T17:59:28.121Z"
   },
   {
    "duration": 21,
    "start_time": "2023-12-21T17:59:28.129Z"
   },
   {
    "duration": 5,
    "start_time": "2023-12-21T17:59:28.152Z"
   },
   {
    "duration": 24,
    "start_time": "2023-12-21T17:59:28.158Z"
   },
   {
    "duration": 3,
    "start_time": "2023-12-21T17:59:28.185Z"
   },
   {
    "duration": 153,
    "start_time": "2023-12-21T17:59:28.190Z"
   },
   {
    "duration": 4,
    "start_time": "2023-12-21T17:59:28.345Z"
   },
   {
    "duration": 12,
    "start_time": "2023-12-21T17:59:28.351Z"
   },
   {
    "duration": 20,
    "start_time": "2023-12-21T17:59:28.365Z"
   },
   {
    "duration": 137,
    "start_time": "2023-12-21T17:59:28.386Z"
   },
   {
    "duration": 5,
    "start_time": "2023-12-21T17:59:28.525Z"
   },
   {
    "duration": 19,
    "start_time": "2023-12-21T17:59:28.531Z"
   },
   {
    "duration": 23,
    "start_time": "2023-12-21T17:59:28.552Z"
   },
   {
    "duration": 25,
    "start_time": "2023-12-21T17:59:28.576Z"
   },
   {
    "duration": 12,
    "start_time": "2023-12-21T17:59:28.602Z"
   },
   {
    "duration": 96,
    "start_time": "2023-12-21T17:59:28.615Z"
   },
   {
    "duration": 5,
    "start_time": "2023-12-21T17:59:28.712Z"
   },
   {
    "duration": 7,
    "start_time": "2023-12-21T17:59:28.718Z"
   },
   {
    "duration": 12,
    "start_time": "2023-12-21T17:59:28.726Z"
   },
   {
    "duration": 4,
    "start_time": "2023-12-21T17:59:28.739Z"
   },
   {
    "duration": 6,
    "start_time": "2023-12-21T17:59:28.744Z"
   },
   {
    "duration": 32,
    "start_time": "2023-12-21T17:59:28.751Z"
   },
   {
    "duration": 18,
    "start_time": "2023-12-21T17:59:28.786Z"
   },
   {
    "duration": 8,
    "start_time": "2023-12-21T17:59:28.805Z"
   },
   {
    "duration": 6,
    "start_time": "2023-12-21T17:59:28.814Z"
   },
   {
    "duration": 6,
    "start_time": "2023-12-21T17:59:28.822Z"
   },
   {
    "duration": 5,
    "start_time": "2023-12-21T17:59:28.829Z"
   },
   {
    "duration": 25,
    "start_time": "2023-12-21T17:59:28.835Z"
   },
   {
    "duration": 9,
    "start_time": "2023-12-21T17:59:28.861Z"
   },
   {
    "duration": 4,
    "start_time": "2023-12-21T17:59:28.871Z"
   },
   {
    "duration": 9,
    "start_time": "2023-12-21T17:59:28.876Z"
   },
   {
    "duration": 5,
    "start_time": "2023-12-21T17:59:28.886Z"
   },
   {
    "duration": 3,
    "start_time": "2023-12-21T17:59:28.892Z"
   },
   {
    "duration": 6,
    "start_time": "2023-12-21T17:59:28.896Z"
   },
   {
    "duration": 10,
    "start_time": "2023-12-21T17:59:28.904Z"
   },
   {
    "duration": 17,
    "start_time": "2023-12-21T17:59:28.915Z"
   },
   {
    "duration": 133,
    "start_time": "2023-12-21T17:59:28.934Z"
   },
   {
    "duration": 5,
    "start_time": "2023-12-21T17:59:29.068Z"
   },
   {
    "duration": 88,
    "start_time": "2023-12-21T17:59:29.074Z"
   },
   {
    "duration": 19,
    "start_time": "2023-12-21T17:59:29.164Z"
   },
   {
    "duration": 27,
    "start_time": "2023-12-21T17:59:29.184Z"
   },
   {
    "duration": 141,
    "start_time": "2023-12-21T17:59:29.212Z"
   },
   {
    "duration": 4,
    "start_time": "2023-12-21T17:59:29.354Z"
   },
   {
    "duration": 14,
    "start_time": "2023-12-21T17:59:29.359Z"
   },
   {
    "duration": 6,
    "start_time": "2023-12-21T17:59:29.382Z"
   },
   {
    "duration": 5,
    "start_time": "2023-12-21T17:59:29.390Z"
   },
   {
    "duration": 5,
    "start_time": "2023-12-21T17:59:29.397Z"
   },
   {
    "duration": 111,
    "start_time": "2023-12-21T17:59:29.404Z"
   },
   {
    "duration": 13,
    "start_time": "2023-12-21T17:59:29.516Z"
   },
   {
    "duration": 8,
    "start_time": "2023-12-21T17:59:29.530Z"
   },
   {
    "duration": 10,
    "start_time": "2023-12-21T17:59:29.539Z"
   },
   {
    "duration": 11,
    "start_time": "2023-12-21T17:59:29.550Z"
   },
   {
    "duration": 25,
    "start_time": "2023-12-21T17:59:29.562Z"
   },
   {
    "duration": 8,
    "start_time": "2023-12-21T17:59:29.589Z"
   },
   {
    "duration": 169,
    "start_time": "2023-12-21T17:59:29.599Z"
   },
   {
    "duration": 117,
    "start_time": "2023-12-21T17:59:29.770Z"
   },
   {
    "duration": 0,
    "start_time": "2023-12-21T17:59:29.888Z"
   },
   {
    "duration": 16,
    "start_time": "2023-12-21T17:59:40.922Z"
   },
   {
    "duration": 11,
    "start_time": "2023-12-21T17:59:42.802Z"
   },
   {
    "duration": 9,
    "start_time": "2023-12-21T17:59:50.934Z"
   },
   {
    "duration": 12,
    "start_time": "2023-12-21T17:59:55.439Z"
   },
   {
    "duration": 21,
    "start_time": "2023-12-21T18:00:16.904Z"
   },
   {
    "duration": 22,
    "start_time": "2023-12-21T18:01:26.553Z"
   },
   {
    "duration": 1513,
    "start_time": "2023-12-22T16:44:13.175Z"
   },
   {
    "duration": 78,
    "start_time": "2023-12-22T16:44:14.691Z"
   },
   {
    "duration": 12,
    "start_time": "2023-12-22T16:44:14.770Z"
   },
   {
    "duration": 74,
    "start_time": "2023-12-22T16:44:14.784Z"
   },
   {
    "duration": 8,
    "start_time": "2023-12-22T16:44:14.860Z"
   },
   {
    "duration": 28,
    "start_time": "2023-12-22T16:44:14.869Z"
   },
   {
    "duration": 87,
    "start_time": "2023-12-22T16:44:14.898Z"
   },
   {
    "duration": 7,
    "start_time": "2023-12-22T16:44:14.986Z"
   },
   {
    "duration": 62,
    "start_time": "2023-12-22T16:44:14.994Z"
   },
   {
    "duration": 32,
    "start_time": "2023-12-22T16:44:15.059Z"
   },
   {
    "duration": 200,
    "start_time": "2023-12-22T16:44:15.092Z"
   },
   {
    "duration": 4,
    "start_time": "2023-12-22T16:44:15.294Z"
   },
   {
    "duration": 8,
    "start_time": "2023-12-22T16:44:15.299Z"
   },
   {
    "duration": 6,
    "start_time": "2023-12-22T16:44:15.308Z"
   },
   {
    "duration": 167,
    "start_time": "2023-12-22T16:44:15.316Z"
   },
   {
    "duration": 5,
    "start_time": "2023-12-22T16:44:15.485Z"
   },
   {
    "duration": 40,
    "start_time": "2023-12-22T16:44:15.491Z"
   },
   {
    "duration": 23,
    "start_time": "2023-12-22T16:44:15.532Z"
   },
   {
    "duration": 26,
    "start_time": "2023-12-22T16:44:15.556Z"
   },
   {
    "duration": 23,
    "start_time": "2023-12-22T16:44:15.584Z"
   },
   {
    "duration": 91,
    "start_time": "2023-12-22T16:44:15.608Z"
   },
   {
    "duration": 5,
    "start_time": "2023-12-22T16:44:15.701Z"
   },
   {
    "duration": 19,
    "start_time": "2023-12-22T16:44:15.707Z"
   },
   {
    "duration": 43,
    "start_time": "2023-12-22T16:44:15.728Z"
   },
   {
    "duration": 6,
    "start_time": "2023-12-22T16:44:15.772Z"
   },
   {
    "duration": 20,
    "start_time": "2023-12-22T16:44:15.779Z"
   },
   {
    "duration": 12,
    "start_time": "2023-12-22T16:44:15.801Z"
   },
   {
    "duration": 8,
    "start_time": "2023-12-22T16:44:15.817Z"
   },
   {
    "duration": 5,
    "start_time": "2023-12-22T16:44:15.826Z"
   },
   {
    "duration": 7,
    "start_time": "2023-12-22T16:44:15.832Z"
   },
   {
    "duration": 19,
    "start_time": "2023-12-22T16:44:15.840Z"
   },
   {
    "duration": 6,
    "start_time": "2023-12-22T16:44:15.860Z"
   },
   {
    "duration": 24,
    "start_time": "2023-12-22T16:44:15.867Z"
   },
   {
    "duration": 4,
    "start_time": "2023-12-22T16:44:15.893Z"
   },
   {
    "duration": 5,
    "start_time": "2023-12-22T16:44:15.899Z"
   },
   {
    "duration": 6,
    "start_time": "2023-12-22T16:44:15.905Z"
   },
   {
    "duration": 9,
    "start_time": "2023-12-22T16:44:15.912Z"
   },
   {
    "duration": 4,
    "start_time": "2023-12-22T16:44:15.923Z"
   },
   {
    "duration": 13,
    "start_time": "2023-12-22T16:44:15.928Z"
   },
   {
    "duration": 16,
    "start_time": "2023-12-22T16:44:15.942Z"
   },
   {
    "duration": 38,
    "start_time": "2023-12-22T16:44:15.960Z"
   },
   {
    "duration": 174,
    "start_time": "2023-12-22T16:44:16.000Z"
   },
   {
    "duration": 5,
    "start_time": "2023-12-22T16:44:16.176Z"
   },
   {
    "duration": 105,
    "start_time": "2023-12-22T16:44:16.188Z"
   },
   {
    "duration": 5,
    "start_time": "2023-12-22T16:44:16.295Z"
   },
   {
    "duration": 32,
    "start_time": "2023-12-22T16:44:16.301Z"
   },
   {
    "duration": 162,
    "start_time": "2023-12-22T16:44:16.334Z"
   },
   {
    "duration": 5,
    "start_time": "2023-12-22T16:44:16.497Z"
   },
   {
    "duration": 12,
    "start_time": "2023-12-22T16:44:16.503Z"
   },
   {
    "duration": 16,
    "start_time": "2023-12-22T16:44:16.517Z"
   },
   {
    "duration": 5,
    "start_time": "2023-12-22T16:44:16.534Z"
   },
   {
    "duration": 6,
    "start_time": "2023-12-22T16:44:16.541Z"
   },
   {
    "duration": 139,
    "start_time": "2023-12-22T16:44:16.549Z"
   },
   {
    "duration": 14,
    "start_time": "2023-12-22T16:44:16.689Z"
   },
   {
    "duration": 11,
    "start_time": "2023-12-22T16:44:16.705Z"
   },
   {
    "duration": 9,
    "start_time": "2023-12-22T16:44:16.718Z"
   },
   {
    "duration": 18,
    "start_time": "2023-12-22T16:44:16.729Z"
   },
   {
    "duration": 41,
    "start_time": "2023-12-22T16:44:16.748Z"
   },
   {
    "duration": 9,
    "start_time": "2023-12-22T16:44:16.790Z"
   },
   {
    "duration": 199,
    "start_time": "2023-12-22T16:44:16.800Z"
   },
   {
    "duration": 9,
    "start_time": "2023-12-22T16:44:17.001Z"
   },
   {
    "duration": 106,
    "start_time": "2023-12-22T16:44:17.011Z"
   },
   {
    "duration": 132,
    "start_time": "2023-12-22T17:04:08.807Z"
   },
   {
    "duration": 981,
    "start_time": "2023-12-22T17:04:29.108Z"
   },
   {
    "duration": 924,
    "start_time": "2023-12-22T17:04:31.943Z"
   },
   {
    "duration": 26,
    "start_time": "2023-12-22T17:04:54.340Z"
   },
   {
    "duration": 1315,
    "start_time": "2023-12-22T17:05:01.193Z"
   },
   {
    "duration": 32,
    "start_time": "2023-12-22T17:05:02.509Z"
   },
   {
    "duration": 20,
    "start_time": "2023-12-22T17:05:02.542Z"
   },
   {
    "duration": 101,
    "start_time": "2023-12-22T17:05:02.564Z"
   },
   {
    "duration": 8,
    "start_time": "2023-12-22T17:05:02.667Z"
   },
   {
    "duration": 30,
    "start_time": "2023-12-22T17:05:02.677Z"
   },
   {
    "duration": 45,
    "start_time": "2023-12-22T17:05:02.709Z"
   },
   {
    "duration": 100,
    "start_time": "2023-12-22T17:05:02.756Z"
   },
   {
    "duration": 43,
    "start_time": "2023-12-22T17:05:02.857Z"
   },
   {
    "duration": 3,
    "start_time": "2023-12-22T17:05:02.903Z"
   },
   {
    "duration": 202,
    "start_time": "2023-12-22T17:05:02.907Z"
   },
   {
    "duration": 4,
    "start_time": "2023-12-22T17:05:03.111Z"
   },
   {
    "duration": 80,
    "start_time": "2023-12-22T17:05:03.116Z"
   },
   {
    "duration": 96,
    "start_time": "2023-12-22T17:05:03.198Z"
   },
   {
    "duration": 187,
    "start_time": "2023-12-22T17:05:03.296Z"
   },
   {
    "duration": 6,
    "start_time": "2023-12-22T17:05:03.485Z"
   },
   {
    "duration": 44,
    "start_time": "2023-12-22T17:05:03.493Z"
   },
   {
    "duration": 9,
    "start_time": "2023-12-22T17:05:03.539Z"
   },
   {
    "duration": 15,
    "start_time": "2023-12-22T17:05:03.549Z"
   },
   {
    "duration": 5,
    "start_time": "2023-12-22T17:05:03.566Z"
   },
   {
    "duration": 107,
    "start_time": "2023-12-22T17:05:03.573Z"
   },
   {
    "duration": 7,
    "start_time": "2023-12-22T17:05:03.682Z"
   },
   {
    "duration": 36,
    "start_time": "2023-12-22T17:05:03.691Z"
   },
   {
    "duration": 58,
    "start_time": "2023-12-22T17:05:03.728Z"
   },
   {
    "duration": 12,
    "start_time": "2023-12-22T17:05:03.789Z"
   },
   {
    "duration": 43,
    "start_time": "2023-12-22T17:05:03.802Z"
   },
   {
    "duration": 22,
    "start_time": "2023-12-22T17:05:03.846Z"
   },
   {
    "duration": 45,
    "start_time": "2023-12-22T17:05:03.871Z"
   },
   {
    "duration": 60,
    "start_time": "2023-12-22T17:05:03.917Z"
   },
   {
    "duration": 44,
    "start_time": "2023-12-22T17:05:03.978Z"
   },
   {
    "duration": 31,
    "start_time": "2023-12-22T17:05:04.023Z"
   },
   {
    "duration": 50,
    "start_time": "2023-12-22T17:05:04.056Z"
   },
   {
    "duration": 29,
    "start_time": "2023-12-22T17:05:04.108Z"
   },
   {
    "duration": 18,
    "start_time": "2023-12-22T17:05:04.139Z"
   },
   {
    "duration": 10,
    "start_time": "2023-12-22T17:05:04.158Z"
   },
   {
    "duration": 17,
    "start_time": "2023-12-22T17:05:04.170Z"
   },
   {
    "duration": 34,
    "start_time": "2023-12-22T17:05:04.188Z"
   },
   {
    "duration": 71,
    "start_time": "2023-12-22T17:05:04.224Z"
   },
   {
    "duration": 45,
    "start_time": "2023-12-22T17:05:04.297Z"
   },
   {
    "duration": 19,
    "start_time": "2023-12-22T17:05:04.344Z"
   },
   {
    "duration": 13,
    "start_time": "2023-12-22T17:05:04.364Z"
   },
   {
    "duration": 167,
    "start_time": "2023-12-22T17:05:04.378Z"
   },
   {
    "duration": 5,
    "start_time": "2023-12-22T17:05:04.547Z"
   },
   {
    "duration": 103,
    "start_time": "2023-12-22T17:05:04.553Z"
   },
   {
    "duration": 5,
    "start_time": "2023-12-22T17:05:04.658Z"
   },
   {
    "duration": 35,
    "start_time": "2023-12-22T17:05:04.664Z"
   },
   {
    "duration": 162,
    "start_time": "2023-12-22T17:05:04.701Z"
   },
   {
    "duration": 4,
    "start_time": "2023-12-22T17:05:04.864Z"
   },
   {
    "duration": 19,
    "start_time": "2023-12-22T17:05:04.869Z"
   },
   {
    "duration": 13,
    "start_time": "2023-12-22T17:05:04.889Z"
   },
   {
    "duration": 12,
    "start_time": "2023-12-22T17:05:04.904Z"
   },
   {
    "duration": 7,
    "start_time": "2023-12-22T17:05:04.918Z"
   },
   {
    "duration": 121,
    "start_time": "2023-12-22T17:05:04.927Z"
   },
   {
    "duration": 14,
    "start_time": "2023-12-22T17:05:05.050Z"
   },
   {
    "duration": 58,
    "start_time": "2023-12-22T17:05:05.065Z"
   },
   {
    "duration": 69,
    "start_time": "2023-12-22T17:05:05.125Z"
   },
   {
    "duration": 38,
    "start_time": "2023-12-22T17:05:05.196Z"
   },
   {
    "duration": 9,
    "start_time": "2023-12-22T17:05:05.236Z"
   },
   {
    "duration": 22,
    "start_time": "2023-12-22T17:05:05.247Z"
   },
   {
    "duration": 176,
    "start_time": "2023-12-22T17:05:05.271Z"
   },
   {
    "duration": 10,
    "start_time": "2023-12-22T17:05:05.449Z"
   },
   {
    "duration": 57,
    "start_time": "2023-12-22T17:05:05.461Z"
   },
   {
    "duration": 145,
    "start_time": "2023-12-22T17:05:05.519Z"
   },
   {
    "duration": 27,
    "start_time": "2023-12-22T17:06:00.778Z"
   },
   {
    "duration": 8,
    "start_time": "2023-12-22T17:06:56.019Z"
   },
   {
    "duration": 896,
    "start_time": "2023-12-22T17:07:42.443Z"
   },
   {
    "duration": 874,
    "start_time": "2023-12-22T17:08:34.415Z"
   },
   {
    "duration": 894,
    "start_time": "2023-12-22T17:09:10.706Z"
   },
   {
    "duration": 7,
    "start_time": "2023-12-22T17:09:37.512Z"
   },
   {
    "duration": 80,
    "start_time": "2023-12-22T17:13:33.131Z"
   },
   {
    "duration": 6,
    "start_time": "2023-12-22T17:13:45.007Z"
   },
   {
    "duration": 18,
    "start_time": "2023-12-22T17:14:00.337Z"
   },
   {
    "duration": 18,
    "start_time": "2023-12-22T17:14:50.932Z"
   },
   {
    "duration": 18,
    "start_time": "2023-12-22T17:14:59.954Z"
   },
   {
    "duration": 13,
    "start_time": "2023-12-22T17:17:04.977Z"
   },
   {
    "duration": 192,
    "start_time": "2023-12-22T17:41:22.250Z"
   },
   {
    "duration": 183,
    "start_time": "2023-12-22T17:42:51.562Z"
   },
   {
    "duration": 181,
    "start_time": "2023-12-22T17:43:36.403Z"
   },
   {
    "duration": 189,
    "start_time": "2023-12-22T17:44:06.372Z"
   },
   {
    "duration": 314,
    "start_time": "2023-12-22T17:45:23.605Z"
   },
   {
    "duration": 295,
    "start_time": "2023-12-22T17:51:39.878Z"
   },
   {
    "duration": 371,
    "start_time": "2023-12-22T17:52:13.297Z"
   },
   {
    "duration": 330,
    "start_time": "2023-12-22T17:53:39.230Z"
   },
   {
    "duration": 345,
    "start_time": "2023-12-22T18:01:06.801Z"
   },
   {
    "duration": 365,
    "start_time": "2023-12-22T18:01:33.254Z"
   },
   {
    "duration": 326,
    "start_time": "2023-12-22T18:01:38.934Z"
   },
   {
    "duration": 403,
    "start_time": "2023-12-22T18:13:19.443Z"
   },
   {
    "duration": 303,
    "start_time": "2023-12-22T18:13:41.441Z"
   },
   {
    "duration": 302,
    "start_time": "2023-12-22T18:13:50.781Z"
   },
   {
    "duration": 1476,
    "start_time": "2023-12-23T10:14:17.138Z"
   },
   {
    "duration": 79,
    "start_time": "2023-12-23T10:14:18.617Z"
   },
   {
    "duration": 15,
    "start_time": "2023-12-23T10:14:18.697Z"
   },
   {
    "duration": 97,
    "start_time": "2023-12-23T10:14:18.715Z"
   },
   {
    "duration": 12,
    "start_time": "2023-12-23T10:14:18.813Z"
   },
   {
    "duration": 26,
    "start_time": "2023-12-23T10:14:18.827Z"
   },
   {
    "duration": 59,
    "start_time": "2023-12-23T10:14:18.856Z"
   },
   {
    "duration": 11,
    "start_time": "2023-12-23T10:14:18.917Z"
   },
   {
    "duration": 65,
    "start_time": "2023-12-23T10:14:18.929Z"
   },
   {
    "duration": 4,
    "start_time": "2023-12-23T10:14:18.997Z"
   },
   {
    "duration": 174,
    "start_time": "2023-12-23T10:14:19.002Z"
   },
   {
    "duration": 5,
    "start_time": "2023-12-23T10:14:19.178Z"
   },
   {
    "duration": 7,
    "start_time": "2023-12-23T10:14:19.184Z"
   },
   {
    "duration": 18,
    "start_time": "2023-12-23T10:14:19.192Z"
   },
   {
    "duration": 174,
    "start_time": "2023-12-23T10:14:19.212Z"
   },
   {
    "duration": 7,
    "start_time": "2023-12-23T10:14:19.388Z"
   },
   {
    "duration": 31,
    "start_time": "2023-12-23T10:14:19.397Z"
   },
   {
    "duration": 20,
    "start_time": "2023-12-23T10:14:19.430Z"
   },
   {
    "duration": 49,
    "start_time": "2023-12-23T10:14:19.453Z"
   },
   {
    "duration": 37,
    "start_time": "2023-12-23T10:14:19.503Z"
   },
   {
    "duration": 106,
    "start_time": "2023-12-23T10:14:19.541Z"
   },
   {
    "duration": 6,
    "start_time": "2023-12-23T10:14:19.649Z"
   },
   {
    "duration": 21,
    "start_time": "2023-12-23T10:14:19.656Z"
   },
   {
    "duration": 34,
    "start_time": "2023-12-23T10:14:19.678Z"
   },
   {
    "duration": 15,
    "start_time": "2023-12-23T10:14:19.713Z"
   },
   {
    "duration": 28,
    "start_time": "2023-12-23T10:14:19.729Z"
   },
   {
    "duration": 16,
    "start_time": "2023-12-23T10:14:19.759Z"
   },
   {
    "duration": 20,
    "start_time": "2023-12-23T10:14:19.780Z"
   },
   {
    "duration": 20,
    "start_time": "2023-12-23T10:14:19.801Z"
   },
   {
    "duration": 19,
    "start_time": "2023-12-23T10:14:19.823Z"
   },
   {
    "duration": 30,
    "start_time": "2023-12-23T10:14:19.844Z"
   },
   {
    "duration": 22,
    "start_time": "2023-12-23T10:14:19.876Z"
   },
   {
    "duration": 36,
    "start_time": "2023-12-23T10:14:19.899Z"
   },
   {
    "duration": 28,
    "start_time": "2023-12-23T10:14:19.936Z"
   },
   {
    "duration": 17,
    "start_time": "2023-12-23T10:14:19.966Z"
   },
   {
    "duration": 43,
    "start_time": "2023-12-23T10:14:19.984Z"
   },
   {
    "duration": 31,
    "start_time": "2023-12-23T10:14:20.028Z"
   },
   {
    "duration": 10,
    "start_time": "2023-12-23T10:14:20.061Z"
   },
   {
    "duration": 28,
    "start_time": "2023-12-23T10:14:20.073Z"
   },
   {
    "duration": 23,
    "start_time": "2023-12-23T10:14:20.103Z"
   },
   {
    "duration": 38,
    "start_time": "2023-12-23T10:14:20.128Z"
   },
   {
    "duration": 159,
    "start_time": "2023-12-23T10:14:20.167Z"
   },
   {
    "duration": 4,
    "start_time": "2023-12-23T10:14:20.328Z"
   },
   {
    "duration": 101,
    "start_time": "2023-12-23T10:14:20.334Z"
   },
   {
    "duration": 5,
    "start_time": "2023-12-23T10:14:20.436Z"
   },
   {
    "duration": 31,
    "start_time": "2023-12-23T10:14:20.442Z"
   },
   {
    "duration": 165,
    "start_time": "2023-12-23T10:14:20.474Z"
   },
   {
    "duration": 5,
    "start_time": "2023-12-23T10:14:20.642Z"
   },
   {
    "duration": 21,
    "start_time": "2023-12-23T10:14:20.648Z"
   },
   {
    "duration": 13,
    "start_time": "2023-12-23T10:14:20.672Z"
   },
   {
    "duration": 20,
    "start_time": "2023-12-23T10:14:20.687Z"
   },
   {
    "duration": 23,
    "start_time": "2023-12-23T10:14:20.708Z"
   },
   {
    "duration": 124,
    "start_time": "2023-12-23T10:14:20.733Z"
   },
   {
    "duration": 16,
    "start_time": "2023-12-23T10:14:20.858Z"
   },
   {
    "duration": 13,
    "start_time": "2023-12-23T10:14:20.875Z"
   },
   {
    "duration": 17,
    "start_time": "2023-12-23T10:14:20.889Z"
   },
   {
    "duration": 18,
    "start_time": "2023-12-23T10:14:20.908Z"
   },
   {
    "duration": 15,
    "start_time": "2023-12-23T10:14:20.928Z"
   },
   {
    "duration": 23,
    "start_time": "2023-12-23T10:14:20.945Z"
   },
   {
    "duration": 171,
    "start_time": "2023-12-23T10:14:20.969Z"
   },
   {
    "duration": 8,
    "start_time": "2023-12-23T10:14:21.142Z"
   },
   {
    "duration": 20,
    "start_time": "2023-12-23T10:14:21.152Z"
   },
   {
    "duration": 23,
    "start_time": "2023-12-23T10:14:21.174Z"
   },
   {
    "duration": 20,
    "start_time": "2023-12-23T10:14:21.199Z"
   },
   {
    "duration": 328,
    "start_time": "2023-12-23T10:14:21.220Z"
   },
   {
    "duration": 316,
    "start_time": "2023-12-23T10:14:21.549Z"
   },
   {
    "duration": 1544,
    "start_time": "2023-12-24T11:46:08.548Z"
   },
   {
    "duration": 83,
    "start_time": "2023-12-24T11:46:10.094Z"
   },
   {
    "duration": 11,
    "start_time": "2023-12-24T11:46:10.179Z"
   },
   {
    "duration": 79,
    "start_time": "2023-12-24T11:46:10.192Z"
   },
   {
    "duration": 9,
    "start_time": "2023-12-24T11:46:10.272Z"
   },
   {
    "duration": 43,
    "start_time": "2023-12-24T11:46:10.282Z"
   },
   {
    "duration": 61,
    "start_time": "2023-12-24T11:46:10.327Z"
   },
   {
    "duration": 7,
    "start_time": "2023-12-24T11:46:10.390Z"
   },
   {
    "duration": 42,
    "start_time": "2023-12-24T11:46:10.398Z"
   },
   {
    "duration": 42,
    "start_time": "2023-12-24T11:46:10.443Z"
   },
   {
    "duration": 163,
    "start_time": "2023-12-24T11:46:10.487Z"
   },
   {
    "duration": 4,
    "start_time": "2023-12-24T11:46:10.652Z"
   },
   {
    "duration": 30,
    "start_time": "2023-12-24T11:46:10.657Z"
   },
   {
    "duration": 20,
    "start_time": "2023-12-24T11:46:10.689Z"
   },
   {
    "duration": 191,
    "start_time": "2023-12-24T11:46:10.710Z"
   },
   {
    "duration": 6,
    "start_time": "2023-12-24T11:46:10.902Z"
   },
   {
    "duration": 19,
    "start_time": "2023-12-24T11:46:10.909Z"
   },
   {
    "duration": 7,
    "start_time": "2023-12-24T11:46:10.930Z"
   },
   {
    "duration": 27,
    "start_time": "2023-12-24T11:46:10.938Z"
   },
   {
    "duration": 28,
    "start_time": "2023-12-24T11:46:10.966Z"
   },
   {
    "duration": 124,
    "start_time": "2023-12-24T11:46:10.996Z"
   },
   {
    "duration": 6,
    "start_time": "2023-12-24T11:46:11.121Z"
   },
   {
    "duration": 7,
    "start_time": "2023-12-24T11:46:11.128Z"
   },
   {
    "duration": 29,
    "start_time": "2023-12-24T11:46:11.137Z"
   },
   {
    "duration": 6,
    "start_time": "2023-12-24T11:46:11.167Z"
   },
   {
    "duration": 8,
    "start_time": "2023-12-24T11:46:11.174Z"
   },
   {
    "duration": 6,
    "start_time": "2023-12-24T11:46:11.183Z"
   },
   {
    "duration": 9,
    "start_time": "2023-12-24T11:46:11.192Z"
   },
   {
    "duration": 12,
    "start_time": "2023-12-24T11:46:11.202Z"
   },
   {
    "duration": 7,
    "start_time": "2023-12-24T11:46:11.216Z"
   },
   {
    "duration": 5,
    "start_time": "2023-12-24T11:46:11.224Z"
   },
   {
    "duration": 8,
    "start_time": "2023-12-24T11:46:11.230Z"
   },
   {
    "duration": 35,
    "start_time": "2023-12-24T11:46:11.240Z"
   },
   {
    "duration": 4,
    "start_time": "2023-12-24T11:46:11.276Z"
   },
   {
    "duration": 4,
    "start_time": "2023-12-24T11:46:11.282Z"
   },
   {
    "duration": 28,
    "start_time": "2023-12-24T11:46:11.288Z"
   },
   {
    "duration": 6,
    "start_time": "2023-12-24T11:46:11.317Z"
   },
   {
    "duration": 4,
    "start_time": "2023-12-24T11:46:11.324Z"
   },
   {
    "duration": 6,
    "start_time": "2023-12-24T11:46:11.329Z"
   },
   {
    "duration": 13,
    "start_time": "2023-12-24T11:46:11.337Z"
   },
   {
    "duration": 14,
    "start_time": "2023-12-24T11:46:11.352Z"
   },
   {
    "duration": 157,
    "start_time": "2023-12-24T11:46:11.367Z"
   },
   {
    "duration": 6,
    "start_time": "2023-12-24T11:46:11.526Z"
   },
   {
    "duration": 100,
    "start_time": "2023-12-24T11:46:11.533Z"
   },
   {
    "duration": 5,
    "start_time": "2023-12-24T11:46:11.635Z"
   },
   {
    "duration": 12,
    "start_time": "2023-12-24T11:46:11.641Z"
   },
   {
    "duration": 160,
    "start_time": "2023-12-24T11:46:11.655Z"
   },
   {
    "duration": 5,
    "start_time": "2023-12-24T11:46:11.816Z"
   },
   {
    "duration": 8,
    "start_time": "2023-12-24T11:46:11.822Z"
   },
   {
    "duration": 7,
    "start_time": "2023-12-24T11:46:11.832Z"
   },
   {
    "duration": 5,
    "start_time": "2023-12-24T11:46:11.865Z"
   },
   {
    "duration": 3,
    "start_time": "2023-12-24T11:46:11.871Z"
   },
   {
    "duration": 122,
    "start_time": "2023-12-24T11:46:11.876Z"
   },
   {
    "duration": 13,
    "start_time": "2023-12-24T11:46:12.000Z"
   },
   {
    "duration": 11,
    "start_time": "2023-12-24T11:46:12.015Z"
   },
   {
    "duration": 7,
    "start_time": "2023-12-24T11:46:12.028Z"
   },
   {
    "duration": 35,
    "start_time": "2023-12-24T11:46:12.036Z"
   },
   {
    "duration": 8,
    "start_time": "2023-12-24T11:46:12.073Z"
   },
   {
    "duration": 10,
    "start_time": "2023-12-24T11:46:12.083Z"
   },
   {
    "duration": 186,
    "start_time": "2023-12-24T11:46:12.094Z"
   },
   {
    "duration": 9,
    "start_time": "2023-12-24T11:46:12.282Z"
   },
   {
    "duration": 9,
    "start_time": "2023-12-24T11:46:12.292Z"
   },
   {
    "duration": 6,
    "start_time": "2023-12-24T11:46:12.303Z"
   },
   {
    "duration": 6,
    "start_time": "2023-12-24T11:46:12.311Z"
   },
   {
    "duration": 366,
    "start_time": "2023-12-24T11:46:12.318Z"
   },
   {
    "duration": 312,
    "start_time": "2023-12-24T11:46:12.686Z"
   },
   {
    "duration": 25,
    "start_time": "2023-12-24T11:53:07.511Z"
   },
   {
    "duration": 121,
    "start_time": "2023-12-24T12:02:57.868Z"
   },
   {
    "duration": 832,
    "start_time": "2023-12-24T12:03:11.753Z"
   },
   {
    "duration": 14,
    "start_time": "2023-12-24T12:03:32.730Z"
   },
   {
    "duration": 122,
    "start_time": "2023-12-24T12:21:59.903Z"
   },
   {
    "duration": 79,
    "start_time": "2023-12-24T12:22:29.618Z"
   },
   {
    "duration": 8,
    "start_time": "2023-12-24T12:22:34.912Z"
   },
   {
    "duration": 94,
    "start_time": "2023-12-24T12:23:11.287Z"
   },
   {
    "duration": 83,
    "start_time": "2023-12-24T12:23:19.604Z"
   },
   {
    "duration": 9,
    "start_time": "2023-12-24T12:23:25.720Z"
   },
   {
    "duration": 833,
    "start_time": "2023-12-24T12:23:31.624Z"
   },
   {
    "duration": 12,
    "start_time": "2023-12-24T12:23:34.180Z"
   },
   {
    "duration": 13,
    "start_time": "2023-12-24T12:28:02.302Z"
   },
   {
    "duration": 3,
    "start_time": "2023-12-24T12:29:56.744Z"
   },
   {
    "duration": 13,
    "start_time": "2023-12-24T12:30:06.332Z"
   },
   {
    "duration": 10,
    "start_time": "2023-12-24T12:30:58.691Z"
   },
   {
    "duration": 3,
    "start_time": "2023-12-24T12:32:06.281Z"
   },
   {
    "duration": 9,
    "start_time": "2023-12-24T12:32:10.630Z"
   },
   {
    "duration": 11,
    "start_time": "2023-12-24T12:39:37.652Z"
   },
   {
    "duration": 10,
    "start_time": "2023-12-24T12:52:39.546Z"
   },
   {
    "duration": 11,
    "start_time": "2023-12-24T12:55:04.901Z"
   },
   {
    "duration": 3,
    "start_time": "2023-12-24T14:18:27.359Z"
   },
   {
    "duration": 46,
    "start_time": "2023-12-24T14:29:26.456Z"
   },
   {
    "duration": 15,
    "start_time": "2023-12-24T14:29:45.684Z"
   },
   {
    "duration": 51,
    "start_time": "2023-12-24T14:31:21.412Z"
   },
   {
    "duration": 15,
    "start_time": "2023-12-24T14:31:23.220Z"
   },
   {
    "duration": 1217,
    "start_time": "2023-12-24T14:31:34.321Z"
   },
   {
    "duration": 28,
    "start_time": "2023-12-24T14:31:35.540Z"
   },
   {
    "duration": 10,
    "start_time": "2023-12-24T14:31:35.570Z"
   },
   {
    "duration": 28,
    "start_time": "2023-12-24T14:31:35.582Z"
   },
   {
    "duration": 8,
    "start_time": "2023-12-24T14:31:35.612Z"
   },
   {
    "duration": 9,
    "start_time": "2023-12-24T14:31:35.621Z"
   },
   {
    "duration": 16,
    "start_time": "2023-12-24T14:31:35.631Z"
   },
   {
    "duration": 6,
    "start_time": "2023-12-24T14:31:35.649Z"
   },
   {
    "duration": 28,
    "start_time": "2023-12-24T14:31:35.656Z"
   },
   {
    "duration": 2,
    "start_time": "2023-12-24T14:31:35.686Z"
   },
   {
    "duration": 169,
    "start_time": "2023-12-24T14:31:35.690Z"
   },
   {
    "duration": 6,
    "start_time": "2023-12-24T14:31:35.860Z"
   },
   {
    "duration": 5,
    "start_time": "2023-12-24T14:31:35.867Z"
   },
   {
    "duration": 8,
    "start_time": "2023-12-24T14:31:35.873Z"
   },
   {
    "duration": 161,
    "start_time": "2023-12-24T14:31:35.882Z"
   },
   {
    "duration": 5,
    "start_time": "2023-12-24T14:31:36.045Z"
   },
   {
    "duration": 6,
    "start_time": "2023-12-24T14:31:36.064Z"
   },
   {
    "duration": 8,
    "start_time": "2023-12-24T14:31:36.071Z"
   },
   {
    "duration": 18,
    "start_time": "2023-12-24T14:31:36.080Z"
   },
   {
    "duration": 2,
    "start_time": "2023-12-24T14:31:36.099Z"
   },
   {
    "duration": 82,
    "start_time": "2023-12-24T14:31:36.102Z"
   },
   {
    "duration": 6,
    "start_time": "2023-12-24T14:31:36.186Z"
   },
   {
    "duration": 35,
    "start_time": "2023-12-24T14:31:36.193Z"
   },
   {
    "duration": 34,
    "start_time": "2023-12-24T14:31:36.229Z"
   },
   {
    "duration": 5,
    "start_time": "2023-12-24T14:31:36.265Z"
   },
   {
    "duration": 13,
    "start_time": "2023-12-24T14:31:36.272Z"
   },
   {
    "duration": 5,
    "start_time": "2023-12-24T14:31:36.286Z"
   },
   {
    "duration": 7,
    "start_time": "2023-12-24T14:31:36.295Z"
   },
   {
    "duration": 4,
    "start_time": "2023-12-24T14:31:36.303Z"
   },
   {
    "duration": 8,
    "start_time": "2023-12-24T14:31:36.309Z"
   },
   {
    "duration": 6,
    "start_time": "2023-12-24T14:31:36.319Z"
   },
   {
    "duration": 9,
    "start_time": "2023-12-24T14:31:36.326Z"
   },
   {
    "duration": 29,
    "start_time": "2023-12-24T14:31:36.337Z"
   },
   {
    "duration": 3,
    "start_time": "2023-12-24T14:31:36.367Z"
   },
   {
    "duration": 7,
    "start_time": "2023-12-24T14:31:36.371Z"
   },
   {
    "duration": 25,
    "start_time": "2023-12-24T14:31:36.379Z"
   },
   {
    "duration": 9,
    "start_time": "2023-12-24T14:31:36.406Z"
   },
   {
    "duration": 14,
    "start_time": "2023-12-24T14:31:36.416Z"
   },
   {
    "duration": 6,
    "start_time": "2023-12-24T14:31:36.432Z"
   },
   {
    "duration": 8,
    "start_time": "2023-12-24T14:31:36.440Z"
   },
   {
    "duration": 8,
    "start_time": "2023-12-24T14:31:36.449Z"
   },
   {
    "duration": 151,
    "start_time": "2023-12-24T14:31:36.458Z"
   },
   {
    "duration": 6,
    "start_time": "2023-12-24T14:31:36.611Z"
   },
   {
    "duration": 95,
    "start_time": "2023-12-24T14:31:36.618Z"
   },
   {
    "duration": 6,
    "start_time": "2023-12-24T14:31:36.715Z"
   },
   {
    "duration": 5,
    "start_time": "2023-12-24T14:31:36.722Z"
   },
   {
    "duration": 156,
    "start_time": "2023-12-24T14:31:36.729Z"
   },
   {
    "duration": 5,
    "start_time": "2023-12-24T14:31:36.887Z"
   },
   {
    "duration": 8,
    "start_time": "2023-12-24T14:31:36.893Z"
   },
   {
    "duration": 7,
    "start_time": "2023-12-24T14:31:36.903Z"
   },
   {
    "duration": 5,
    "start_time": "2023-12-24T14:31:36.912Z"
   },
   {
    "duration": 9,
    "start_time": "2023-12-24T14:31:36.918Z"
   },
   {
    "duration": 130,
    "start_time": "2023-12-24T14:31:36.928Z"
   },
   {
    "duration": 13,
    "start_time": "2023-12-24T14:31:37.065Z"
   },
   {
    "duration": 19,
    "start_time": "2023-12-24T14:31:37.079Z"
   },
   {
    "duration": 7,
    "start_time": "2023-12-24T14:31:37.099Z"
   },
   {
    "duration": 13,
    "start_time": "2023-12-24T14:31:37.107Z"
   },
   {
    "duration": 8,
    "start_time": "2023-12-24T14:31:37.122Z"
   },
   {
    "duration": 14,
    "start_time": "2023-12-24T14:31:37.132Z"
   },
   {
    "duration": 176,
    "start_time": "2023-12-24T14:31:37.166Z"
   },
   {
    "duration": 8,
    "start_time": "2023-12-24T14:31:37.343Z"
   },
   {
    "duration": 21,
    "start_time": "2023-12-24T14:31:37.365Z"
   },
   {
    "duration": 7,
    "start_time": "2023-12-24T14:31:37.387Z"
   },
   {
    "duration": 9,
    "start_time": "2023-12-24T14:31:37.396Z"
   },
   {
    "duration": 345,
    "start_time": "2023-12-24T14:31:37.407Z"
   },
   {
    "duration": 307,
    "start_time": "2023-12-24T14:31:37.754Z"
   },
   {
    "duration": 915,
    "start_time": "2023-12-24T14:31:38.065Z"
   },
   {
    "duration": 3,
    "start_time": "2023-12-24T14:31:38.982Z"
   },
   {
    "duration": 66,
    "start_time": "2023-12-24T14:31:38.987Z"
   },
   {
    "duration": 24,
    "start_time": "2023-12-24T14:31:39.055Z"
   },
   {
    "duration": 17,
    "start_time": "2023-12-24T14:31:39.080Z"
   },
   {
    "duration": 8,
    "start_time": "2023-12-24T14:31:39.099Z"
   },
   {
    "duration": 61,
    "start_time": "2023-12-24T14:31:39.108Z"
   },
   {
    "duration": 15,
    "start_time": "2023-12-24T14:31:39.171Z"
   },
   {
    "duration": 3,
    "start_time": "2023-12-24T14:32:09.898Z"
   },
   {
    "duration": 1296,
    "start_time": "2023-12-24T14:32:17.242Z"
   },
   {
    "duration": 29,
    "start_time": "2023-12-24T14:32:18.540Z"
   },
   {
    "duration": 12,
    "start_time": "2023-12-24T14:32:18.570Z"
   },
   {
    "duration": 29,
    "start_time": "2023-12-24T14:32:18.584Z"
   },
   {
    "duration": 9,
    "start_time": "2023-12-24T14:32:18.615Z"
   },
   {
    "duration": 23,
    "start_time": "2023-12-24T14:32:18.625Z"
   },
   {
    "duration": 24,
    "start_time": "2023-12-24T14:32:18.649Z"
   },
   {
    "duration": 14,
    "start_time": "2023-12-24T14:32:18.675Z"
   },
   {
    "duration": 36,
    "start_time": "2023-12-24T14:32:18.690Z"
   },
   {
    "duration": 3,
    "start_time": "2023-12-24T14:32:18.728Z"
   },
   {
    "duration": 161,
    "start_time": "2023-12-24T14:32:18.732Z"
   },
   {
    "duration": 5,
    "start_time": "2023-12-24T14:32:18.895Z"
   },
   {
    "duration": 7,
    "start_time": "2023-12-24T14:32:18.903Z"
   },
   {
    "duration": 10,
    "start_time": "2023-12-24T14:32:18.912Z"
   },
   {
    "duration": 175,
    "start_time": "2023-12-24T14:32:18.924Z"
   },
   {
    "duration": 5,
    "start_time": "2023-12-24T14:32:19.101Z"
   },
   {
    "duration": 3,
    "start_time": "2023-12-24T14:32:19.107Z"
   },
   {
    "duration": 6,
    "start_time": "2023-12-24T14:32:19.112Z"
   },
   {
    "duration": 8,
    "start_time": "2023-12-24T14:32:19.119Z"
   },
   {
    "duration": 2,
    "start_time": "2023-12-24T14:32:19.129Z"
   },
   {
    "duration": 102,
    "start_time": "2023-12-24T14:32:19.132Z"
   },
   {
    "duration": 5,
    "start_time": "2023-12-24T14:32:19.236Z"
   },
   {
    "duration": 8,
    "start_time": "2023-12-24T14:32:19.243Z"
   },
   {
    "duration": 13,
    "start_time": "2023-12-24T14:32:19.265Z"
   },
   {
    "duration": 5,
    "start_time": "2023-12-24T14:32:19.279Z"
   },
   {
    "duration": 7,
    "start_time": "2023-12-24T14:32:19.285Z"
   },
   {
    "duration": 7,
    "start_time": "2023-12-24T14:32:19.293Z"
   },
   {
    "duration": 6,
    "start_time": "2023-12-24T14:32:19.304Z"
   },
   {
    "duration": 4,
    "start_time": "2023-12-24T14:32:19.312Z"
   },
   {
    "duration": 6,
    "start_time": "2023-12-24T14:32:19.317Z"
   },
   {
    "duration": 6,
    "start_time": "2023-12-24T14:32:19.325Z"
   },
   {
    "duration": 4,
    "start_time": "2023-12-24T14:32:19.364Z"
   },
   {
    "duration": 17,
    "start_time": "2023-12-24T14:32:19.370Z"
   },
   {
    "duration": 4,
    "start_time": "2023-12-24T14:32:19.388Z"
   },
   {
    "duration": 5,
    "start_time": "2023-12-24T14:32:19.394Z"
   },
   {
    "duration": 8,
    "start_time": "2023-12-24T14:32:19.400Z"
   },
   {
    "duration": 6,
    "start_time": "2023-12-24T14:32:19.409Z"
   },
   {
    "duration": 3,
    "start_time": "2023-12-24T14:32:19.416Z"
   },
   {
    "duration": 13,
    "start_time": "2023-12-24T14:32:19.421Z"
   },
   {
    "duration": 7,
    "start_time": "2023-12-24T14:32:19.435Z"
   },
   {
    "duration": 5,
    "start_time": "2023-12-24T14:32:19.465Z"
   },
   {
    "duration": 146,
    "start_time": "2023-12-24T14:32:19.471Z"
   },
   {
    "duration": 5,
    "start_time": "2023-12-24T14:32:19.620Z"
   },
   {
    "duration": 114,
    "start_time": "2023-12-24T14:32:19.627Z"
   },
   {
    "duration": 5,
    "start_time": "2023-12-24T14:32:19.742Z"
   },
   {
    "duration": 18,
    "start_time": "2023-12-24T14:32:19.749Z"
   },
   {
    "duration": 156,
    "start_time": "2023-12-24T14:32:19.769Z"
   },
   {
    "duration": 4,
    "start_time": "2023-12-24T14:32:19.927Z"
   },
   {
    "duration": 12,
    "start_time": "2023-12-24T14:32:19.932Z"
   },
   {
    "duration": 20,
    "start_time": "2023-12-24T14:32:19.945Z"
   },
   {
    "duration": 4,
    "start_time": "2023-12-24T14:32:19.967Z"
   },
   {
    "duration": 10,
    "start_time": "2023-12-24T14:32:19.972Z"
   },
   {
    "duration": 108,
    "start_time": "2023-12-24T14:32:19.984Z"
   },
   {
    "duration": 11,
    "start_time": "2023-12-24T14:32:20.094Z"
   },
   {
    "duration": 17,
    "start_time": "2023-12-24T14:32:20.107Z"
   },
   {
    "duration": 34,
    "start_time": "2023-12-24T14:32:20.125Z"
   },
   {
    "duration": 18,
    "start_time": "2023-12-24T14:32:20.161Z"
   },
   {
    "duration": 9,
    "start_time": "2023-12-24T14:32:20.180Z"
   },
   {
    "duration": 12,
    "start_time": "2023-12-24T14:32:20.190Z"
   },
   {
    "duration": 179,
    "start_time": "2023-12-24T14:32:20.204Z"
   },
   {
    "duration": 9,
    "start_time": "2023-12-24T14:32:20.384Z"
   },
   {
    "duration": 26,
    "start_time": "2023-12-24T14:32:20.394Z"
   },
   {
    "duration": 7,
    "start_time": "2023-12-24T14:32:20.422Z"
   },
   {
    "duration": 12,
    "start_time": "2023-12-24T14:32:20.431Z"
   },
   {
    "duration": 339,
    "start_time": "2023-12-24T14:32:20.444Z"
   },
   {
    "duration": 327,
    "start_time": "2023-12-24T14:32:20.784Z"
   },
   {
    "duration": 804,
    "start_time": "2023-12-24T14:32:21.112Z"
   },
   {
    "duration": 3,
    "start_time": "2023-12-24T14:32:21.918Z"
   },
   {
    "duration": 17,
    "start_time": "2023-12-24T14:32:21.922Z"
   },
   {
    "duration": 32,
    "start_time": "2023-12-24T14:32:21.941Z"
   },
   {
    "duration": 24,
    "start_time": "2023-12-24T14:32:21.975Z"
   },
   {
    "duration": 4,
    "start_time": "2023-12-24T14:32:22.000Z"
   },
   {
    "duration": 50,
    "start_time": "2023-12-24T14:32:22.005Z"
   },
   {
    "duration": 18,
    "start_time": "2023-12-24T14:32:22.057Z"
   },
   {
    "duration": 3,
    "start_time": "2023-12-24T14:33:04.977Z"
   },
   {
    "duration": 1220,
    "start_time": "2023-12-24T14:33:15.835Z"
   },
   {
    "duration": 28,
    "start_time": "2023-12-24T14:33:17.056Z"
   },
   {
    "duration": 11,
    "start_time": "2023-12-24T14:33:17.088Z"
   },
   {
    "duration": 29,
    "start_time": "2023-12-24T14:33:17.101Z"
   },
   {
    "duration": 8,
    "start_time": "2023-12-24T14:33:17.132Z"
   },
   {
    "duration": 15,
    "start_time": "2023-12-24T14:33:17.141Z"
   },
   {
    "duration": 19,
    "start_time": "2023-12-24T14:33:17.157Z"
   },
   {
    "duration": 6,
    "start_time": "2023-12-24T14:33:17.177Z"
   },
   {
    "duration": 29,
    "start_time": "2023-12-24T14:33:17.185Z"
   },
   {
    "duration": 3,
    "start_time": "2023-12-24T14:33:17.216Z"
   },
   {
    "duration": 162,
    "start_time": "2023-12-24T14:33:17.220Z"
   },
   {
    "duration": 5,
    "start_time": "2023-12-24T14:33:17.383Z"
   },
   {
    "duration": 4,
    "start_time": "2023-12-24T14:33:17.389Z"
   },
   {
    "duration": 5,
    "start_time": "2023-12-24T14:33:17.394Z"
   },
   {
    "duration": 158,
    "start_time": "2023-12-24T14:33:17.400Z"
   },
   {
    "duration": 7,
    "start_time": "2023-12-24T14:33:17.560Z"
   },
   {
    "duration": 15,
    "start_time": "2023-12-24T14:33:17.568Z"
   },
   {
    "duration": 24,
    "start_time": "2023-12-24T14:33:17.585Z"
   },
   {
    "duration": 20,
    "start_time": "2023-12-24T14:33:17.611Z"
   },
   {
    "duration": 2,
    "start_time": "2023-12-24T14:33:17.633Z"
   },
   {
    "duration": 97,
    "start_time": "2023-12-24T14:33:17.636Z"
   },
   {
    "duration": 6,
    "start_time": "2023-12-24T14:33:17.734Z"
   },
   {
    "duration": 11,
    "start_time": "2023-12-24T14:33:17.741Z"
   },
   {
    "duration": 13,
    "start_time": "2023-12-24T14:33:17.765Z"
   },
   {
    "duration": 4,
    "start_time": "2023-12-24T14:33:17.780Z"
   },
   {
    "duration": 17,
    "start_time": "2023-12-24T14:33:17.785Z"
   },
   {
    "duration": 6,
    "start_time": "2023-12-24T14:33:17.806Z"
   },
   {
    "duration": 7,
    "start_time": "2023-12-24T14:33:17.813Z"
   },
   {
    "duration": 4,
    "start_time": "2023-12-24T14:33:17.821Z"
   },
   {
    "duration": 5,
    "start_time": "2023-12-24T14:33:17.826Z"
   },
   {
    "duration": 32,
    "start_time": "2023-12-24T14:33:17.833Z"
   },
   {
    "duration": 13,
    "start_time": "2023-12-24T14:33:17.867Z"
   },
   {
    "duration": 14,
    "start_time": "2023-12-24T14:33:17.882Z"
   },
   {
    "duration": 4,
    "start_time": "2023-12-24T14:33:17.897Z"
   },
   {
    "duration": 6,
    "start_time": "2023-12-24T14:33:17.903Z"
   },
   {
    "duration": 8,
    "start_time": "2023-12-24T14:33:17.910Z"
   },
   {
    "duration": 6,
    "start_time": "2023-12-24T14:33:17.919Z"
   },
   {
    "duration": 3,
    "start_time": "2023-12-24T14:33:17.927Z"
   },
   {
    "duration": 6,
    "start_time": "2023-12-24T14:33:17.932Z"
   },
   {
    "duration": 7,
    "start_time": "2023-12-24T14:33:17.968Z"
   },
   {
    "duration": 14,
    "start_time": "2023-12-24T14:33:17.977Z"
   },
   {
    "duration": 144,
    "start_time": "2023-12-24T14:33:17.993Z"
   },
   {
    "duration": 5,
    "start_time": "2023-12-24T14:33:18.139Z"
   },
   {
    "duration": 92,
    "start_time": "2023-12-24T14:33:18.145Z"
   },
   {
    "duration": 5,
    "start_time": "2023-12-24T14:33:18.238Z"
   },
   {
    "duration": 6,
    "start_time": "2023-12-24T14:33:18.245Z"
   },
   {
    "duration": 139,
    "start_time": "2023-12-24T14:33:18.265Z"
   },
   {
    "duration": 4,
    "start_time": "2023-12-24T14:33:18.406Z"
   },
   {
    "duration": 7,
    "start_time": "2023-12-24T14:33:18.411Z"
   },
   {
    "duration": 38,
    "start_time": "2023-12-24T14:33:18.420Z"
   },
   {
    "duration": 39,
    "start_time": "2023-12-24T14:33:18.460Z"
   },
   {
    "duration": 3,
    "start_time": "2023-12-24T14:33:18.501Z"
   },
   {
    "duration": 106,
    "start_time": "2023-12-24T14:33:18.505Z"
   },
   {
    "duration": 13,
    "start_time": "2023-12-24T14:33:18.612Z"
   },
   {
    "duration": 6,
    "start_time": "2023-12-24T14:33:18.626Z"
   },
   {
    "duration": 8,
    "start_time": "2023-12-24T14:33:18.634Z"
   },
   {
    "duration": 31,
    "start_time": "2023-12-24T14:33:18.644Z"
   },
   {
    "duration": 9,
    "start_time": "2023-12-24T14:33:18.676Z"
   },
   {
    "duration": 8,
    "start_time": "2023-12-24T14:33:18.686Z"
   },
   {
    "duration": 206,
    "start_time": "2023-12-24T14:33:18.696Z"
   },
   {
    "duration": 10,
    "start_time": "2023-12-24T14:33:18.904Z"
   },
   {
    "duration": 27,
    "start_time": "2023-12-24T14:33:18.916Z"
   },
   {
    "duration": 23,
    "start_time": "2023-12-24T14:33:18.944Z"
   },
   {
    "duration": 13,
    "start_time": "2023-12-24T14:33:18.969Z"
   },
   {
    "duration": 346,
    "start_time": "2023-12-24T14:33:18.983Z"
   },
   {
    "duration": 314,
    "start_time": "2023-12-24T14:33:19.330Z"
   },
   {
    "duration": 843,
    "start_time": "2023-12-24T14:33:19.645Z"
   },
   {
    "duration": 3,
    "start_time": "2023-12-24T14:33:20.490Z"
   },
   {
    "duration": 11,
    "start_time": "2023-12-24T14:33:20.495Z"
   },
   {
    "duration": 18,
    "start_time": "2023-12-24T14:33:20.508Z"
   },
   {
    "duration": 10,
    "start_time": "2023-12-24T14:33:20.528Z"
   },
   {
    "duration": 4,
    "start_time": "2023-12-24T14:33:20.539Z"
   },
   {
    "duration": 150,
    "start_time": "2023-12-24T14:33:20.544Z"
   },
   {
    "duration": 16,
    "start_time": "2023-12-24T14:33:20.695Z"
   },
   {
    "duration": 3,
    "start_time": "2023-12-24T14:38:20.132Z"
   },
   {
    "duration": 9,
    "start_time": "2023-12-24T14:39:19.693Z"
   },
   {
    "duration": 12,
    "start_time": "2023-12-24T14:39:56.385Z"
   },
   {
    "duration": 12,
    "start_time": "2023-12-24T14:43:21.749Z"
   },
   {
    "duration": 1181,
    "start_time": "2023-12-24T15:44:36.262Z"
   },
   {
    "duration": 29,
    "start_time": "2023-12-24T15:44:37.445Z"
   },
   {
    "duration": 11,
    "start_time": "2023-12-24T15:44:37.475Z"
   },
   {
    "duration": 28,
    "start_time": "2023-12-24T15:44:37.488Z"
   },
   {
    "duration": 9,
    "start_time": "2023-12-24T15:44:37.518Z"
   },
   {
    "duration": 9,
    "start_time": "2023-12-24T15:44:37.529Z"
   },
   {
    "duration": 24,
    "start_time": "2023-12-24T15:44:37.540Z"
   },
   {
    "duration": 9,
    "start_time": "2023-12-24T15:44:37.566Z"
   },
   {
    "duration": 24,
    "start_time": "2023-12-24T15:44:37.576Z"
   },
   {
    "duration": 3,
    "start_time": "2023-12-24T15:44:37.603Z"
   },
   {
    "duration": 165,
    "start_time": "2023-12-24T15:44:37.607Z"
   },
   {
    "duration": 4,
    "start_time": "2023-12-24T15:44:37.774Z"
   },
   {
    "duration": 12,
    "start_time": "2023-12-24T15:44:37.779Z"
   },
   {
    "duration": 11,
    "start_time": "2023-12-24T15:44:37.792Z"
   },
   {
    "duration": 145,
    "start_time": "2023-12-24T15:44:37.805Z"
   },
   {
    "duration": 6,
    "start_time": "2023-12-24T15:44:37.952Z"
   },
   {
    "duration": 3,
    "start_time": "2023-12-24T15:44:37.965Z"
   },
   {
    "duration": 9,
    "start_time": "2023-12-24T15:44:37.969Z"
   },
   {
    "duration": 14,
    "start_time": "2023-12-24T15:44:37.980Z"
   },
   {
    "duration": 2,
    "start_time": "2023-12-24T15:44:37.996Z"
   },
   {
    "duration": 94,
    "start_time": "2023-12-24T15:44:38.000Z"
   },
   {
    "duration": 5,
    "start_time": "2023-12-24T15:44:38.096Z"
   },
   {
    "duration": 33,
    "start_time": "2023-12-24T15:44:38.103Z"
   },
   {
    "duration": 19,
    "start_time": "2023-12-24T15:44:38.137Z"
   },
   {
    "duration": 4,
    "start_time": "2023-12-24T15:44:38.158Z"
   },
   {
    "duration": 10,
    "start_time": "2023-12-24T15:44:38.164Z"
   },
   {
    "duration": 11,
    "start_time": "2023-12-24T15:44:38.175Z"
   },
   {
    "duration": 12,
    "start_time": "2023-12-24T15:44:38.189Z"
   },
   {
    "duration": 4,
    "start_time": "2023-12-24T15:44:38.202Z"
   },
   {
    "duration": 9,
    "start_time": "2023-12-24T15:44:38.207Z"
   },
   {
    "duration": 7,
    "start_time": "2023-12-24T15:44:38.217Z"
   },
   {
    "duration": 7,
    "start_time": "2023-12-24T15:44:38.226Z"
   },
   {
    "duration": 33,
    "start_time": "2023-12-24T15:44:38.234Z"
   },
   {
    "duration": 7,
    "start_time": "2023-12-24T15:44:38.269Z"
   },
   {
    "duration": 4,
    "start_time": "2023-12-24T15:44:38.277Z"
   },
   {
    "duration": 19,
    "start_time": "2023-12-24T15:44:38.282Z"
   },
   {
    "duration": 6,
    "start_time": "2023-12-24T15:44:38.303Z"
   },
   {
    "duration": 3,
    "start_time": "2023-12-24T15:44:38.310Z"
   },
   {
    "duration": 9,
    "start_time": "2023-12-24T15:44:38.315Z"
   },
   {
    "duration": 9,
    "start_time": "2023-12-24T15:44:38.325Z"
   },
   {
    "duration": 9,
    "start_time": "2023-12-24T15:44:38.335Z"
   },
   {
    "duration": 149,
    "start_time": "2023-12-24T15:44:38.345Z"
   },
   {
    "duration": 5,
    "start_time": "2023-12-24T15:44:38.495Z"
   },
   {
    "duration": 105,
    "start_time": "2023-12-24T15:44:38.502Z"
   },
   {
    "duration": 6,
    "start_time": "2023-12-24T15:44:38.608Z"
   },
   {
    "duration": 6,
    "start_time": "2023-12-24T15:44:38.615Z"
   },
   {
    "duration": 158,
    "start_time": "2023-12-24T15:44:38.623Z"
   },
   {
    "duration": 4,
    "start_time": "2023-12-24T15:44:38.783Z"
   },
   {
    "duration": 45,
    "start_time": "2023-12-24T15:44:38.789Z"
   },
   {
    "duration": 7,
    "start_time": "2023-12-24T15:44:38.836Z"
   },
   {
    "duration": 5,
    "start_time": "2023-12-24T15:44:38.845Z"
   },
   {
    "duration": 2,
    "start_time": "2023-12-24T15:44:38.852Z"
   },
   {
    "duration": 114,
    "start_time": "2023-12-24T15:44:38.856Z"
   },
   {
    "duration": 13,
    "start_time": "2023-12-24T15:44:38.971Z"
   },
   {
    "duration": 6,
    "start_time": "2023-12-24T15:44:38.986Z"
   },
   {
    "duration": 6,
    "start_time": "2023-12-24T15:44:38.993Z"
   },
   {
    "duration": 14,
    "start_time": "2023-12-24T15:44:39.000Z"
   },
   {
    "duration": 8,
    "start_time": "2023-12-24T15:44:39.015Z"
   },
   {
    "duration": 8,
    "start_time": "2023-12-24T15:44:39.024Z"
   },
   {
    "duration": 166,
    "start_time": "2023-12-24T15:44:39.065Z"
   },
   {
    "duration": 8,
    "start_time": "2023-12-24T15:44:39.233Z"
   },
   {
    "duration": 38,
    "start_time": "2023-12-24T15:44:39.243Z"
   },
   {
    "duration": 7,
    "start_time": "2023-12-24T15:44:39.283Z"
   },
   {
    "duration": 6,
    "start_time": "2023-12-24T15:44:39.292Z"
   },
   {
    "duration": 330,
    "start_time": "2023-12-24T15:44:39.299Z"
   },
   {
    "duration": 317,
    "start_time": "2023-12-24T15:44:39.630Z"
   },
   {
    "duration": 841,
    "start_time": "2023-12-24T15:44:39.949Z"
   },
   {
    "duration": 3,
    "start_time": "2023-12-24T15:44:40.792Z"
   },
   {
    "duration": 52,
    "start_time": "2023-12-24T15:44:40.796Z"
   },
   {
    "duration": 22,
    "start_time": "2023-12-24T15:44:40.850Z"
   },
   {
    "duration": 11,
    "start_time": "2023-12-24T15:44:40.874Z"
   },
   {
    "duration": 3,
    "start_time": "2023-12-24T15:44:40.886Z"
   },
   {
    "duration": 146,
    "start_time": "2023-12-24T15:44:40.891Z"
   },
   {
    "duration": 8,
    "start_time": "2023-12-24T15:44:41.039Z"
   },
   {
    "duration": 106,
    "start_time": "2023-12-24T15:44:41.049Z"
   },
   {
    "duration": 6,
    "start_time": "2023-12-24T16:49:45.123Z"
   },
   {
    "duration": 809,
    "start_time": "2023-12-24T16:53:13.416Z"
   },
   {
    "duration": 6,
    "start_time": "2023-12-24T17:28:11.090Z"
   },
   {
    "duration": 1194,
    "start_time": "2023-12-24T17:51:08.500Z"
   },
   {
    "duration": 1128,
    "start_time": "2023-12-24T17:53:03.967Z"
   },
   {
    "duration": 1245,
    "start_time": "2023-12-24T17:53:50.358Z"
   },
   {
    "duration": 1235,
    "start_time": "2023-12-24T17:54:32.524Z"
   },
   {
    "duration": 31,
    "start_time": "2023-12-24T17:54:33.762Z"
   },
   {
    "duration": 15,
    "start_time": "2023-12-24T17:54:33.795Z"
   },
   {
    "duration": 30,
    "start_time": "2023-12-24T17:54:33.812Z"
   },
   {
    "duration": 10,
    "start_time": "2023-12-24T17:54:33.843Z"
   },
   {
    "duration": 16,
    "start_time": "2023-12-24T17:54:33.854Z"
   },
   {
    "duration": 16,
    "start_time": "2023-12-24T17:54:33.872Z"
   },
   {
    "duration": 6,
    "start_time": "2023-12-24T17:54:33.890Z"
   },
   {
    "duration": 24,
    "start_time": "2023-12-24T17:54:33.898Z"
   },
   {
    "duration": 3,
    "start_time": "2023-12-24T17:54:33.924Z"
   },
   {
    "duration": 170,
    "start_time": "2023-12-24T17:54:33.929Z"
   },
   {
    "duration": 4,
    "start_time": "2023-12-24T17:54:34.100Z"
   },
   {
    "duration": 5,
    "start_time": "2023-12-24T17:54:34.105Z"
   },
   {
    "duration": 5,
    "start_time": "2023-12-24T17:54:34.111Z"
   },
   {
    "duration": 175,
    "start_time": "2023-12-24T17:54:34.117Z"
   },
   {
    "duration": 6,
    "start_time": "2023-12-24T17:54:34.293Z"
   },
   {
    "duration": 12,
    "start_time": "2023-12-24T17:54:34.300Z"
   },
   {
    "duration": 13,
    "start_time": "2023-12-24T17:54:34.313Z"
   },
   {
    "duration": 59,
    "start_time": "2023-12-24T17:54:34.327Z"
   },
   {
    "duration": 16,
    "start_time": "2023-12-24T17:54:34.387Z"
   },
   {
    "duration": 108,
    "start_time": "2023-12-24T17:54:34.404Z"
   },
   {
    "duration": 6,
    "start_time": "2023-12-24T17:54:34.513Z"
   },
   {
    "duration": 7,
    "start_time": "2023-12-24T17:54:34.520Z"
   },
   {
    "duration": 15,
    "start_time": "2023-12-24T17:54:34.529Z"
   },
   {
    "duration": 21,
    "start_time": "2023-12-24T17:54:34.545Z"
   },
   {
    "duration": 7,
    "start_time": "2023-12-24T17:54:34.568Z"
   },
   {
    "duration": 9,
    "start_time": "2023-12-24T17:54:34.576Z"
   },
   {
    "duration": 27,
    "start_time": "2023-12-24T17:54:34.589Z"
   },
   {
    "duration": 4,
    "start_time": "2023-12-24T17:54:34.618Z"
   },
   {
    "duration": 21,
    "start_time": "2023-12-24T17:54:34.623Z"
   },
   {
    "duration": 23,
    "start_time": "2023-12-24T17:54:34.645Z"
   },
   {
    "duration": 44,
    "start_time": "2023-12-24T17:54:34.670Z"
   },
   {
    "duration": 13,
    "start_time": "2023-12-24T17:54:34.716Z"
   },
   {
    "duration": 3,
    "start_time": "2023-12-24T17:54:34.731Z"
   },
   {
    "duration": 6,
    "start_time": "2023-12-24T17:54:34.735Z"
   },
   {
    "duration": 21,
    "start_time": "2023-12-24T17:54:34.742Z"
   },
   {
    "duration": 10,
    "start_time": "2023-12-24T17:54:34.764Z"
   },
   {
    "duration": 10,
    "start_time": "2023-12-24T17:54:34.776Z"
   },
   {
    "duration": 6,
    "start_time": "2023-12-24T17:54:34.787Z"
   },
   {
    "duration": 7,
    "start_time": "2023-12-24T17:54:34.794Z"
   },
   {
    "duration": 9,
    "start_time": "2023-12-24T17:54:34.802Z"
   },
   {
    "duration": 142,
    "start_time": "2023-12-24T17:54:34.812Z"
   },
   {
    "duration": 6,
    "start_time": "2023-12-24T17:54:34.965Z"
   },
   {
    "duration": 119,
    "start_time": "2023-12-24T17:54:34.973Z"
   },
   {
    "duration": 5,
    "start_time": "2023-12-24T17:54:35.094Z"
   },
   {
    "duration": 26,
    "start_time": "2023-12-24T17:54:35.100Z"
   },
   {
    "duration": 148,
    "start_time": "2023-12-24T17:54:35.127Z"
   },
   {
    "duration": 4,
    "start_time": "2023-12-24T17:54:35.277Z"
   },
   {
    "duration": 12,
    "start_time": "2023-12-24T17:54:35.282Z"
   },
   {
    "duration": 16,
    "start_time": "2023-12-24T17:54:35.295Z"
   },
   {
    "duration": 4,
    "start_time": "2023-12-24T17:54:35.312Z"
   },
   {
    "duration": 4,
    "start_time": "2023-12-24T17:54:35.317Z"
   },
   {
    "duration": 125,
    "start_time": "2023-12-24T17:54:35.323Z"
   },
   {
    "duration": 21,
    "start_time": "2023-12-24T17:54:35.449Z"
   },
   {
    "duration": 7,
    "start_time": "2023-12-24T17:54:35.472Z"
   },
   {
    "duration": 7,
    "start_time": "2023-12-24T17:54:35.481Z"
   },
   {
    "duration": 12,
    "start_time": "2023-12-24T17:54:35.489Z"
   },
   {
    "duration": 8,
    "start_time": "2023-12-24T17:54:35.503Z"
   },
   {
    "duration": 7,
    "start_time": "2023-12-24T17:54:35.512Z"
   },
   {
    "duration": 207,
    "start_time": "2023-12-24T17:54:35.520Z"
   },
   {
    "duration": 9,
    "start_time": "2023-12-24T17:54:35.729Z"
   },
   {
    "duration": 37,
    "start_time": "2023-12-24T17:54:35.739Z"
   },
   {
    "duration": 8,
    "start_time": "2023-12-24T17:54:35.777Z"
   },
   {
    "duration": 6,
    "start_time": "2023-12-24T17:54:35.787Z"
   },
   {
    "duration": 335,
    "start_time": "2023-12-24T17:54:35.794Z"
   },
   {
    "duration": 297,
    "start_time": "2023-12-24T17:54:36.131Z"
   },
   {
    "duration": 815,
    "start_time": "2023-12-24T17:54:36.429Z"
   },
   {
    "duration": 3,
    "start_time": "2023-12-24T17:54:37.245Z"
   },
   {
    "duration": 6,
    "start_time": "2023-12-24T17:54:37.250Z"
   },
   {
    "duration": 17,
    "start_time": "2023-12-24T17:54:37.257Z"
   },
   {
    "duration": 9,
    "start_time": "2023-12-24T17:54:37.276Z"
   },
   {
    "duration": 2,
    "start_time": "2023-12-24T17:54:37.287Z"
   },
   {
    "duration": 139,
    "start_time": "2023-12-24T17:54:37.291Z"
   },
   {
    "duration": 8,
    "start_time": "2023-12-24T17:54:37.432Z"
   },
   {
    "duration": 24,
    "start_time": "2023-12-24T17:54:37.441Z"
   },
   {
    "duration": 5,
    "start_time": "2023-12-24T17:54:37.468Z"
   },
   {
    "duration": 778,
    "start_time": "2023-12-24T17:54:37.474Z"
   },
   {
    "duration": 12,
    "start_time": "2023-12-24T17:54:38.253Z"
   },
   {
    "duration": 1288,
    "start_time": "2023-12-24T17:54:38.266Z"
   },
   {
    "duration": 9,
    "start_time": "2023-12-24T17:56:15.962Z"
   },
   {
    "duration": 1349,
    "start_time": "2023-12-25T15:32:26.491Z"
   },
   {
    "duration": 73,
    "start_time": "2023-12-25T15:32:27.843Z"
   },
   {
    "duration": 10,
    "start_time": "2023-12-25T15:32:27.917Z"
   },
   {
    "duration": 81,
    "start_time": "2023-12-25T15:32:27.929Z"
   },
   {
    "duration": 9,
    "start_time": "2023-12-25T15:32:28.011Z"
   },
   {
    "duration": 16,
    "start_time": "2023-12-25T15:32:28.021Z"
   },
   {
    "duration": 65,
    "start_time": "2023-12-25T15:32:28.038Z"
   },
   {
    "duration": 7,
    "start_time": "2023-12-25T15:32:28.104Z"
   },
   {
    "duration": 22,
    "start_time": "2023-12-25T15:32:28.112Z"
   },
   {
    "duration": 2,
    "start_time": "2023-12-25T15:32:28.136Z"
   },
   {
    "duration": 137,
    "start_time": "2023-12-25T15:32:28.139Z"
   },
   {
    "duration": 3,
    "start_time": "2023-12-25T15:32:28.278Z"
   },
   {
    "duration": 9,
    "start_time": "2023-12-25T15:32:28.282Z"
   },
   {
    "duration": 6,
    "start_time": "2023-12-25T15:32:28.293Z"
   },
   {
    "duration": 136,
    "start_time": "2023-12-25T15:32:28.300Z"
   },
   {
    "duration": 5,
    "start_time": "2023-12-25T15:32:28.438Z"
   },
   {
    "duration": 19,
    "start_time": "2023-12-25T15:32:28.444Z"
   },
   {
    "duration": 3,
    "start_time": "2023-12-25T15:32:28.464Z"
   },
   {
    "duration": 27,
    "start_time": "2023-12-25T15:32:28.469Z"
   },
   {
    "duration": 8,
    "start_time": "2023-12-25T15:32:28.497Z"
   },
   {
    "duration": 84,
    "start_time": "2023-12-25T15:32:28.506Z"
   },
   {
    "duration": 5,
    "start_time": "2023-12-25T15:32:28.591Z"
   },
   {
    "duration": 8,
    "start_time": "2023-12-25T15:32:28.597Z"
   },
   {
    "duration": 12,
    "start_time": "2023-12-25T15:32:28.606Z"
   },
   {
    "duration": 5,
    "start_time": "2023-12-25T15:32:28.619Z"
   },
   {
    "duration": 6,
    "start_time": "2023-12-25T15:32:28.625Z"
   },
   {
    "duration": 7,
    "start_time": "2023-12-25T15:32:28.632Z"
   },
   {
    "duration": 14,
    "start_time": "2023-12-25T15:32:28.643Z"
   },
   {
    "duration": 4,
    "start_time": "2023-12-25T15:32:28.682Z"
   },
   {
    "duration": 4,
    "start_time": "2023-12-25T15:32:28.688Z"
   },
   {
    "duration": 5,
    "start_time": "2023-12-25T15:32:28.693Z"
   },
   {
    "duration": 3,
    "start_time": "2023-12-25T15:32:28.699Z"
   },
   {
    "duration": 10,
    "start_time": "2023-12-25T15:32:28.704Z"
   },
   {
    "duration": 3,
    "start_time": "2023-12-25T15:32:28.715Z"
   },
   {
    "duration": 7,
    "start_time": "2023-12-25T15:32:28.719Z"
   },
   {
    "duration": 6,
    "start_time": "2023-12-25T15:32:28.727Z"
   },
   {
    "duration": 8,
    "start_time": "2023-12-25T15:32:28.734Z"
   },
   {
    "duration": 40,
    "start_time": "2023-12-25T15:32:28.743Z"
   },
   {
    "duration": 7,
    "start_time": "2023-12-25T15:32:28.784Z"
   },
   {
    "duration": 6,
    "start_time": "2023-12-25T15:32:28.792Z"
   },
   {
    "duration": 17,
    "start_time": "2023-12-25T15:32:28.799Z"
   },
   {
    "duration": 134,
    "start_time": "2023-12-25T15:32:28.817Z"
   },
   {
    "duration": 5,
    "start_time": "2023-12-25T15:32:28.953Z"
   },
   {
    "duration": 88,
    "start_time": "2023-12-25T15:32:28.959Z"
   },
   {
    "duration": 4,
    "start_time": "2023-12-25T15:32:29.049Z"
   },
   {
    "duration": 5,
    "start_time": "2023-12-25T15:32:29.055Z"
   },
   {
    "duration": 148,
    "start_time": "2023-12-25T15:32:29.061Z"
   },
   {
    "duration": 4,
    "start_time": "2023-12-25T15:32:29.210Z"
   },
   {
    "duration": 9,
    "start_time": "2023-12-25T15:32:29.216Z"
   },
   {
    "duration": 6,
    "start_time": "2023-12-25T15:32:29.226Z"
   },
   {
    "duration": 4,
    "start_time": "2023-12-25T15:32:29.233Z"
   },
   {
    "duration": 2,
    "start_time": "2023-12-25T15:32:29.238Z"
   },
   {
    "duration": 176,
    "start_time": "2023-12-25T15:32:29.242Z"
   },
   {
    "duration": 12,
    "start_time": "2023-12-25T15:32:29.419Z"
   },
   {
    "duration": 52,
    "start_time": "2023-12-25T15:32:29.432Z"
   },
   {
    "duration": 11,
    "start_time": "2023-12-25T15:32:29.486Z"
   },
   {
    "duration": 11,
    "start_time": "2023-12-25T15:32:29.498Z"
   },
   {
    "duration": 8,
    "start_time": "2023-12-25T15:32:29.510Z"
   },
   {
    "duration": 7,
    "start_time": "2023-12-25T15:32:29.520Z"
   },
   {
    "duration": 131,
    "start_time": "2023-12-25T15:32:29.529Z"
   },
   {
    "duration": 21,
    "start_time": "2023-12-25T15:32:29.661Z"
   },
   {
    "duration": 22,
    "start_time": "2023-12-25T15:32:29.683Z"
   },
   {
    "duration": 8,
    "start_time": "2023-12-25T15:32:29.706Z"
   },
   {
    "duration": 5,
    "start_time": "2023-12-25T15:32:29.715Z"
   },
   {
    "duration": 315,
    "start_time": "2023-12-25T15:32:29.722Z"
   },
   {
    "duration": 286,
    "start_time": "2023-12-25T15:32:30.038Z"
   },
   {
    "duration": 766,
    "start_time": "2023-12-25T15:32:30.326Z"
   },
   {
    "duration": 3,
    "start_time": "2023-12-25T15:32:31.093Z"
   },
   {
    "duration": 139,
    "start_time": "2023-12-25T15:32:31.097Z"
   },
   {
    "duration": 69,
    "start_time": "2023-12-25T15:32:31.238Z"
   },
   {
    "duration": 45,
    "start_time": "2023-12-25T15:32:31.309Z"
   },
   {
    "duration": 22,
    "start_time": "2023-12-25T15:32:31.356Z"
   },
   {
    "duration": 164,
    "start_time": "2023-12-25T15:32:31.380Z"
   },
   {
    "duration": 8,
    "start_time": "2023-12-25T15:32:31.545Z"
   },
   {
    "duration": 95,
    "start_time": "2023-12-25T15:32:31.554Z"
   },
   {
    "duration": 32,
    "start_time": "2023-12-25T15:32:31.651Z"
   },
   {
    "duration": 757,
    "start_time": "2023-12-25T15:32:31.685Z"
   },
   {
    "duration": 4,
    "start_time": "2023-12-25T15:32:32.444Z"
   },
   {
    "duration": 20,
    "start_time": "2023-12-25T15:32:32.450Z"
   },
   {
    "duration": 5,
    "start_time": "2023-12-25T15:58:47.229Z"
   },
   {
    "duration": 4,
    "start_time": "2023-12-25T15:58:52.843Z"
   },
   {
    "duration": 1116,
    "start_time": "2023-12-25T15:59:12.124Z"
   },
   {
    "duration": 27,
    "start_time": "2023-12-25T15:59:13.242Z"
   },
   {
    "duration": 11,
    "start_time": "2023-12-25T15:59:13.270Z"
   },
   {
    "duration": 27,
    "start_time": "2023-12-25T15:59:13.282Z"
   },
   {
    "duration": 8,
    "start_time": "2023-12-25T15:59:13.310Z"
   },
   {
    "duration": 8,
    "start_time": "2023-12-25T15:59:13.320Z"
   },
   {
    "duration": 21,
    "start_time": "2023-12-25T15:59:13.329Z"
   },
   {
    "duration": 7,
    "start_time": "2023-12-25T15:59:13.351Z"
   },
   {
    "duration": 24,
    "start_time": "2023-12-25T15:59:13.359Z"
   },
   {
    "duration": 3,
    "start_time": "2023-12-25T15:59:13.385Z"
   },
   {
    "duration": 153,
    "start_time": "2023-12-25T15:59:13.389Z"
   },
   {
    "duration": 3,
    "start_time": "2023-12-25T15:59:13.544Z"
   },
   {
    "duration": 11,
    "start_time": "2023-12-25T15:59:13.548Z"
   },
   {
    "duration": 4,
    "start_time": "2023-12-25T15:59:13.561Z"
   },
   {
    "duration": 147,
    "start_time": "2023-12-25T15:59:13.566Z"
   },
   {
    "duration": 5,
    "start_time": "2023-12-25T15:59:13.715Z"
   },
   {
    "duration": 5,
    "start_time": "2023-12-25T15:59:13.721Z"
   },
   {
    "duration": 4,
    "start_time": "2023-12-25T15:59:13.728Z"
   },
   {
    "duration": 9,
    "start_time": "2023-12-25T15:59:13.733Z"
   },
   {
    "duration": 2,
    "start_time": "2023-12-25T15:59:13.743Z"
   },
   {
    "duration": 100,
    "start_time": "2023-12-25T15:59:13.746Z"
   },
   {
    "duration": 6,
    "start_time": "2023-12-25T15:59:13.848Z"
   },
   {
    "duration": 12,
    "start_time": "2023-12-25T15:59:13.856Z"
   },
   {
    "duration": 21,
    "start_time": "2023-12-25T15:59:13.869Z"
   },
   {
    "duration": 6,
    "start_time": "2023-12-25T15:59:13.892Z"
   },
   {
    "duration": 28,
    "start_time": "2023-12-25T15:59:13.899Z"
   },
   {
    "duration": 6,
    "start_time": "2023-12-25T15:59:13.929Z"
   },
   {
    "duration": 8,
    "start_time": "2023-12-25T15:59:13.939Z"
   },
   {
    "duration": 10,
    "start_time": "2023-12-25T15:59:13.948Z"
   },
   {
    "duration": 20,
    "start_time": "2023-12-25T15:59:13.960Z"
   },
   {
    "duration": 18,
    "start_time": "2023-12-25T15:59:13.981Z"
   },
   {
    "duration": 10,
    "start_time": "2023-12-25T15:59:14.000Z"
   },
   {
    "duration": 41,
    "start_time": "2023-12-25T15:59:14.011Z"
   },
   {
    "duration": 3,
    "start_time": "2023-12-25T15:59:14.053Z"
   },
   {
    "duration": 6,
    "start_time": "2023-12-25T15:59:14.057Z"
   },
   {
    "duration": 11,
    "start_time": "2023-12-25T15:59:14.064Z"
   },
   {
    "duration": 6,
    "start_time": "2023-12-25T15:59:14.076Z"
   },
   {
    "duration": 3,
    "start_time": "2023-12-25T15:59:14.083Z"
   },
   {
    "duration": 12,
    "start_time": "2023-12-25T15:59:14.087Z"
   },
   {
    "duration": 10,
    "start_time": "2023-12-25T15:59:14.100Z"
   },
   {
    "duration": 9,
    "start_time": "2023-12-25T15:59:14.112Z"
   },
   {
    "duration": 122,
    "start_time": "2023-12-25T15:59:14.123Z"
   },
   {
    "duration": 5,
    "start_time": "2023-12-25T15:59:14.247Z"
   },
   {
    "duration": 89,
    "start_time": "2023-12-25T15:59:14.253Z"
   },
   {
    "duration": 4,
    "start_time": "2023-12-25T15:59:14.344Z"
   },
   {
    "duration": 23,
    "start_time": "2023-12-25T15:59:14.349Z"
   },
   {
    "duration": 152,
    "start_time": "2023-12-25T15:59:14.374Z"
   },
   {
    "duration": 4,
    "start_time": "2023-12-25T15:59:14.527Z"
   },
   {
    "duration": 23,
    "start_time": "2023-12-25T15:59:14.533Z"
   },
   {
    "duration": 5,
    "start_time": "2023-12-25T15:59:14.558Z"
   },
   {
    "duration": 11,
    "start_time": "2023-12-25T15:59:14.565Z"
   },
   {
    "duration": 15,
    "start_time": "2023-12-25T15:59:14.577Z"
   },
   {
    "duration": 108,
    "start_time": "2023-12-25T15:59:14.594Z"
   },
   {
    "duration": 13,
    "start_time": "2023-12-25T15:59:14.704Z"
   },
   {
    "duration": 28,
    "start_time": "2023-12-25T15:59:14.718Z"
   },
   {
    "duration": 12,
    "start_time": "2023-12-25T15:59:14.748Z"
   },
   {
    "duration": 18,
    "start_time": "2023-12-25T15:59:14.762Z"
   },
   {
    "duration": 8,
    "start_time": "2023-12-25T15:59:14.782Z"
   },
   {
    "duration": 12,
    "start_time": "2023-12-25T15:59:14.791Z"
   },
   {
    "duration": 168,
    "start_time": "2023-12-25T15:59:14.804Z"
   },
   {
    "duration": 15,
    "start_time": "2023-12-25T15:59:14.974Z"
   },
   {
    "duration": 24,
    "start_time": "2023-12-25T15:59:14.990Z"
   },
   {
    "duration": 37,
    "start_time": "2023-12-25T15:59:15.016Z"
   },
   {
    "duration": 57,
    "start_time": "2023-12-25T15:59:15.055Z"
   },
   {
    "duration": 321,
    "start_time": "2023-12-25T15:59:15.114Z"
   },
   {
    "duration": 292,
    "start_time": "2023-12-25T15:59:15.437Z"
   },
   {
    "duration": 801,
    "start_time": "2023-12-25T15:59:15.730Z"
   },
   {
    "duration": 3,
    "start_time": "2023-12-25T15:59:16.532Z"
   },
   {
    "duration": 11,
    "start_time": "2023-12-25T15:59:16.536Z"
   },
   {
    "duration": 10,
    "start_time": "2023-12-25T15:59:16.548Z"
   },
   {
    "duration": 8,
    "start_time": "2023-12-25T15:59:16.560Z"
   },
   {
    "duration": 18,
    "start_time": "2023-12-25T15:59:16.569Z"
   },
   {
    "duration": 126,
    "start_time": "2023-12-25T15:59:16.588Z"
   },
   {
    "duration": 8,
    "start_time": "2023-12-25T15:59:16.715Z"
   },
   {
    "duration": 22,
    "start_time": "2023-12-25T15:59:16.724Z"
   },
   {
    "duration": 5,
    "start_time": "2023-12-25T15:59:16.747Z"
   },
   {
    "duration": 752,
    "start_time": "2023-12-25T15:59:16.753Z"
   },
   {
    "duration": 5,
    "start_time": "2023-12-25T15:59:17.507Z"
   },
   {
    "duration": 17,
    "start_time": "2023-12-25T15:59:17.513Z"
   },
   {
    "duration": 5,
    "start_time": "2023-12-25T15:59:17.531Z"
   },
   {
    "duration": 5,
    "start_time": "2023-12-25T16:57:16.977Z"
   },
   {
    "duration": 1223,
    "start_time": "2023-12-25T16:57:35.122Z"
   },
   {
    "duration": 28,
    "start_time": "2023-12-25T16:57:36.346Z"
   },
   {
    "duration": 16,
    "start_time": "2023-12-25T16:57:36.376Z"
   },
   {
    "duration": 27,
    "start_time": "2023-12-25T16:57:36.395Z"
   },
   {
    "duration": 8,
    "start_time": "2023-12-25T16:57:36.423Z"
   },
   {
    "duration": 9,
    "start_time": "2023-12-25T16:57:36.432Z"
   },
   {
    "duration": 18,
    "start_time": "2023-12-25T16:57:36.443Z"
   },
   {
    "duration": 7,
    "start_time": "2023-12-25T16:57:36.462Z"
   },
   {
    "duration": 37,
    "start_time": "2023-12-25T16:57:36.471Z"
   },
   {
    "duration": 3,
    "start_time": "2023-12-25T16:57:36.511Z"
   },
   {
    "duration": 161,
    "start_time": "2023-12-25T16:57:36.515Z"
   },
   {
    "duration": 8,
    "start_time": "2023-12-25T16:57:36.685Z"
   },
   {
    "duration": 17,
    "start_time": "2023-12-25T16:57:36.694Z"
   },
   {
    "duration": 5,
    "start_time": "2023-12-25T16:57:36.712Z"
   },
   {
    "duration": 141,
    "start_time": "2023-12-25T16:57:36.719Z"
   },
   {
    "duration": 5,
    "start_time": "2023-12-25T16:57:36.862Z"
   },
   {
    "duration": 14,
    "start_time": "2023-12-25T16:57:36.868Z"
   },
   {
    "duration": 3,
    "start_time": "2023-12-25T16:57:36.884Z"
   },
   {
    "duration": 12,
    "start_time": "2023-12-25T16:57:36.888Z"
   },
   {
    "duration": 2,
    "start_time": "2023-12-25T16:57:36.901Z"
   },
   {
    "duration": 105,
    "start_time": "2023-12-25T16:57:36.904Z"
   },
   {
    "duration": 5,
    "start_time": "2023-12-25T16:57:37.010Z"
   },
   {
    "duration": 9,
    "start_time": "2023-12-25T16:57:37.016Z"
   },
   {
    "duration": 13,
    "start_time": "2023-12-25T16:57:37.026Z"
   },
   {
    "duration": 5,
    "start_time": "2023-12-25T16:57:37.040Z"
   },
   {
    "duration": 6,
    "start_time": "2023-12-25T16:57:37.047Z"
   },
   {
    "duration": 42,
    "start_time": "2023-12-25T16:57:37.055Z"
   },
   {
    "duration": 9,
    "start_time": "2023-12-25T16:57:37.103Z"
   },
   {
    "duration": 5,
    "start_time": "2023-12-25T16:57:37.114Z"
   },
   {
    "duration": 8,
    "start_time": "2023-12-25T16:57:37.120Z"
   },
   {
    "duration": 17,
    "start_time": "2023-12-25T16:57:37.129Z"
   },
   {
    "duration": 5,
    "start_time": "2023-12-25T16:57:37.147Z"
   },
   {
    "duration": 12,
    "start_time": "2023-12-25T16:57:37.153Z"
   },
   {
    "duration": 32,
    "start_time": "2023-12-25T16:57:37.167Z"
   },
   {
    "duration": 5,
    "start_time": "2023-12-25T16:57:37.200Z"
   },
   {
    "duration": 7,
    "start_time": "2023-12-25T16:57:37.206Z"
   },
   {
    "duration": 5,
    "start_time": "2023-12-25T16:57:37.214Z"
   },
   {
    "duration": 3,
    "start_time": "2023-12-25T16:57:37.221Z"
   },
   {
    "duration": 5,
    "start_time": "2023-12-25T16:57:37.226Z"
   },
   {
    "duration": 7,
    "start_time": "2023-12-25T16:57:37.233Z"
   },
   {
    "duration": 6,
    "start_time": "2023-12-25T16:57:37.241Z"
   },
   {
    "duration": 179,
    "start_time": "2023-12-25T16:57:37.248Z"
   },
   {
    "duration": 4,
    "start_time": "2023-12-25T16:57:37.429Z"
   },
   {
    "duration": 100,
    "start_time": "2023-12-25T16:57:37.435Z"
   },
   {
    "duration": 5,
    "start_time": "2023-12-25T16:57:37.536Z"
   },
   {
    "duration": 12,
    "start_time": "2023-12-25T16:57:37.542Z"
   },
   {
    "duration": 148,
    "start_time": "2023-12-25T16:57:37.555Z"
   },
   {
    "duration": 4,
    "start_time": "2023-12-25T16:57:37.704Z"
   },
   {
    "duration": 18,
    "start_time": "2023-12-25T16:57:37.709Z"
   },
   {
    "duration": 7,
    "start_time": "2023-12-25T16:57:37.728Z"
   },
   {
    "duration": 4,
    "start_time": "2023-12-25T16:57:37.736Z"
   },
   {
    "duration": 3,
    "start_time": "2023-12-25T16:57:37.741Z"
   },
   {
    "duration": 121,
    "start_time": "2023-12-25T16:57:37.745Z"
   },
   {
    "duration": 22,
    "start_time": "2023-12-25T16:57:37.868Z"
   },
   {
    "duration": 7,
    "start_time": "2023-12-25T16:57:37.892Z"
   },
   {
    "duration": 6,
    "start_time": "2023-12-25T16:57:37.900Z"
   },
   {
    "duration": 12,
    "start_time": "2023-12-25T16:57:37.907Z"
   },
   {
    "duration": 8,
    "start_time": "2023-12-25T16:57:37.921Z"
   },
   {
    "duration": 15,
    "start_time": "2023-12-25T16:57:37.931Z"
   },
   {
    "duration": 193,
    "start_time": "2023-12-25T16:57:37.948Z"
   },
   {
    "duration": 9,
    "start_time": "2023-12-25T16:57:38.142Z"
   },
   {
    "duration": 20,
    "start_time": "2023-12-25T16:57:38.152Z"
   },
   {
    "duration": 9,
    "start_time": "2023-12-25T16:57:38.182Z"
   },
   {
    "duration": 6,
    "start_time": "2023-12-25T16:57:38.193Z"
   },
   {
    "duration": 340,
    "start_time": "2023-12-25T16:57:38.200Z"
   },
   {
    "duration": 293,
    "start_time": "2023-12-25T16:57:38.541Z"
   },
   {
    "duration": 846,
    "start_time": "2023-12-25T16:57:38.836Z"
   },
   {
    "duration": 4,
    "start_time": "2023-12-25T16:57:39.684Z"
   },
   {
    "duration": 28,
    "start_time": "2023-12-25T16:57:39.690Z"
   },
   {
    "duration": 14,
    "start_time": "2023-12-25T16:57:39.720Z"
   },
   {
    "duration": 8,
    "start_time": "2023-12-25T16:57:39.736Z"
   },
   {
    "duration": 21,
    "start_time": "2023-12-25T16:57:39.746Z"
   },
   {
    "duration": 162,
    "start_time": "2023-12-25T16:57:39.768Z"
   },
   {
    "duration": 8,
    "start_time": "2023-12-25T16:57:39.932Z"
   },
   {
    "duration": 28,
    "start_time": "2023-12-25T16:57:39.941Z"
   },
   {
    "duration": 4,
    "start_time": "2023-12-25T16:57:39.970Z"
   },
   {
    "duration": 777,
    "start_time": "2023-12-25T16:57:39.975Z"
   },
   {
    "duration": 4,
    "start_time": "2023-12-25T16:57:40.754Z"
   },
   {
    "duration": 13,
    "start_time": "2023-12-25T16:57:40.759Z"
   },
   {
    "duration": 14,
    "start_time": "2023-12-25T16:57:40.773Z"
   },
   {
    "duration": 95,
    "start_time": "2023-12-25T17:02:51.244Z"
   },
   {
    "duration": 247,
    "start_time": "2023-12-25T17:02:59.993Z"
   },
   {
    "duration": 227,
    "start_time": "2023-12-25T17:03:45.687Z"
   },
   {
    "duration": 14,
    "start_time": "2023-12-25T17:05:25.510Z"
   },
   {
    "duration": 1133,
    "start_time": "2023-12-25T17:06:14.605Z"
   },
   {
    "duration": 28,
    "start_time": "2023-12-25T17:06:15.740Z"
   },
   {
    "duration": 10,
    "start_time": "2023-12-25T17:06:15.769Z"
   },
   {
    "duration": 26,
    "start_time": "2023-12-25T17:06:15.781Z"
   },
   {
    "duration": 9,
    "start_time": "2023-12-25T17:06:15.808Z"
   },
   {
    "duration": 22,
    "start_time": "2023-12-25T17:06:15.818Z"
   },
   {
    "duration": 18,
    "start_time": "2023-12-25T17:06:15.842Z"
   },
   {
    "duration": 7,
    "start_time": "2023-12-25T17:06:15.862Z"
   },
   {
    "duration": 26,
    "start_time": "2023-12-25T17:06:15.870Z"
   },
   {
    "duration": 3,
    "start_time": "2023-12-25T17:06:15.898Z"
   },
   {
    "duration": 148,
    "start_time": "2023-12-25T17:06:15.902Z"
   },
   {
    "duration": 4,
    "start_time": "2023-12-25T17:06:16.052Z"
   },
   {
    "duration": 7,
    "start_time": "2023-12-25T17:06:16.057Z"
   },
   {
    "duration": 4,
    "start_time": "2023-12-25T17:06:16.065Z"
   },
   {
    "duration": 137,
    "start_time": "2023-12-25T17:06:16.081Z"
   },
   {
    "duration": 6,
    "start_time": "2023-12-25T17:06:16.220Z"
   },
   {
    "duration": 8,
    "start_time": "2023-12-25T17:06:16.227Z"
   },
   {
    "duration": 5,
    "start_time": "2023-12-25T17:06:16.237Z"
   },
   {
    "duration": 8,
    "start_time": "2023-12-25T17:06:16.244Z"
   },
   {
    "duration": 2,
    "start_time": "2023-12-25T17:06:16.253Z"
   },
   {
    "duration": 96,
    "start_time": "2023-12-25T17:06:16.257Z"
   },
   {
    "duration": 6,
    "start_time": "2023-12-25T17:06:16.356Z"
   },
   {
    "duration": 23,
    "start_time": "2023-12-25T17:06:16.363Z"
   },
   {
    "duration": 13,
    "start_time": "2023-12-25T17:06:16.388Z"
   },
   {
    "duration": 5,
    "start_time": "2023-12-25T17:06:16.402Z"
   },
   {
    "duration": 15,
    "start_time": "2023-12-25T17:06:16.408Z"
   },
   {
    "duration": 9,
    "start_time": "2023-12-25T17:06:16.424Z"
   },
   {
    "duration": 6,
    "start_time": "2023-12-25T17:06:16.436Z"
   },
   {
    "duration": 3,
    "start_time": "2023-12-25T17:06:16.444Z"
   },
   {
    "duration": 15,
    "start_time": "2023-12-25T17:06:16.448Z"
   },
   {
    "duration": 4,
    "start_time": "2023-12-25T17:06:16.482Z"
   },
   {
    "duration": 10,
    "start_time": "2023-12-25T17:06:16.487Z"
   },
   {
    "duration": 11,
    "start_time": "2023-12-25T17:06:16.498Z"
   },
   {
    "duration": 5,
    "start_time": "2023-12-25T17:06:16.510Z"
   },
   {
    "duration": 7,
    "start_time": "2023-12-25T17:06:16.516Z"
   },
   {
    "duration": 21,
    "start_time": "2023-12-25T17:06:16.524Z"
   },
   {
    "duration": 10,
    "start_time": "2023-12-25T17:06:16.546Z"
   },
   {
    "duration": 4,
    "start_time": "2023-12-25T17:06:16.557Z"
   },
   {
    "duration": 7,
    "start_time": "2023-12-25T17:06:16.562Z"
   },
   {
    "duration": 12,
    "start_time": "2023-12-25T17:06:16.570Z"
   },
   {
    "duration": 11,
    "start_time": "2023-12-25T17:06:16.583Z"
   },
   {
    "duration": 130,
    "start_time": "2023-12-25T17:06:16.596Z"
   },
   {
    "duration": 4,
    "start_time": "2023-12-25T17:06:16.728Z"
   },
   {
    "duration": 92,
    "start_time": "2023-12-25T17:06:16.734Z"
   },
   {
    "duration": 5,
    "start_time": "2023-12-25T17:06:16.828Z"
   },
   {
    "duration": 11,
    "start_time": "2023-12-25T17:06:16.834Z"
   },
   {
    "duration": 141,
    "start_time": "2023-12-25T17:06:16.846Z"
   },
   {
    "duration": 4,
    "start_time": "2023-12-25T17:06:16.989Z"
   },
   {
    "duration": 21,
    "start_time": "2023-12-25T17:06:16.994Z"
   },
   {
    "duration": 51,
    "start_time": "2023-12-25T17:06:17.017Z"
   },
   {
    "duration": 6,
    "start_time": "2023-12-25T17:06:17.070Z"
   },
   {
    "duration": 4,
    "start_time": "2023-12-25T17:06:17.078Z"
   },
   {
    "duration": 97,
    "start_time": "2023-12-25T17:06:17.083Z"
   },
   {
    "duration": 13,
    "start_time": "2023-12-25T17:06:17.182Z"
   },
   {
    "duration": 23,
    "start_time": "2023-12-25T17:06:17.198Z"
   },
   {
    "duration": 18,
    "start_time": "2023-12-25T17:06:17.222Z"
   },
   {
    "duration": 12,
    "start_time": "2023-12-25T17:06:17.241Z"
   },
   {
    "duration": 8,
    "start_time": "2023-12-25T17:06:17.255Z"
   },
   {
    "duration": 18,
    "start_time": "2023-12-25T17:06:17.264Z"
   },
   {
    "duration": 159,
    "start_time": "2023-12-25T17:06:17.284Z"
   },
   {
    "duration": 8,
    "start_time": "2023-12-25T17:06:17.444Z"
   },
   {
    "duration": 32,
    "start_time": "2023-12-25T17:06:17.454Z"
   },
   {
    "duration": 7,
    "start_time": "2023-12-25T17:06:17.488Z"
   },
   {
    "duration": 8,
    "start_time": "2023-12-25T17:06:17.496Z"
   },
   {
    "duration": 307,
    "start_time": "2023-12-25T17:06:17.505Z"
   },
   {
    "duration": 295,
    "start_time": "2023-12-25T17:06:17.813Z"
   },
   {
    "duration": 811,
    "start_time": "2023-12-25T17:06:18.109Z"
   },
   {
    "duration": 2,
    "start_time": "2023-12-25T17:06:18.922Z"
   },
   {
    "duration": 15,
    "start_time": "2023-12-25T17:06:18.926Z"
   },
   {
    "duration": 12,
    "start_time": "2023-12-25T17:06:18.942Z"
   },
   {
    "duration": 12,
    "start_time": "2023-12-25T17:06:18.955Z"
   },
   {
    "duration": 6,
    "start_time": "2023-12-25T17:06:18.968Z"
   },
   {
    "duration": 129,
    "start_time": "2023-12-25T17:06:18.975Z"
   },
   {
    "duration": 8,
    "start_time": "2023-12-25T17:06:19.105Z"
   },
   {
    "duration": 11,
    "start_time": "2023-12-25T17:06:19.115Z"
   },
   {
    "duration": 5,
    "start_time": "2023-12-25T17:06:19.127Z"
   },
   {
    "duration": 769,
    "start_time": "2023-12-25T17:06:19.133Z"
   },
   {
    "duration": 5,
    "start_time": "2023-12-25T17:06:19.903Z"
   },
   {
    "duration": 13,
    "start_time": "2023-12-25T17:06:19.909Z"
   },
   {
    "duration": 5,
    "start_time": "2023-12-25T17:06:19.923Z"
   },
   {
    "duration": 193,
    "start_time": "2023-12-25T17:06:19.929Z"
   },
   {
    "duration": 401,
    "start_time": "2023-12-25T17:06:20.181Z"
   },
   {
    "duration": 343,
    "start_time": "2023-12-25T17:10:53.731Z"
   },
   {
    "duration": 5,
    "start_time": "2023-12-25T17:11:41.889Z"
   },
   {
    "duration": 212,
    "start_time": "2023-12-25T17:11:54.912Z"
   },
   {
    "duration": 80,
    "start_time": "2023-12-25T17:18:44.190Z"
   },
   {
    "duration": 1207,
    "start_time": "2023-12-25T17:43:03.952Z"
   },
   {
    "duration": 28,
    "start_time": "2023-12-25T17:43:05.161Z"
   },
   {
    "duration": 14,
    "start_time": "2023-12-25T17:43:05.190Z"
   },
   {
    "duration": 34,
    "start_time": "2023-12-25T17:43:05.206Z"
   },
   {
    "duration": 8,
    "start_time": "2023-12-25T17:43:05.241Z"
   },
   {
    "duration": 21,
    "start_time": "2023-12-25T17:43:05.251Z"
   },
   {
    "duration": 24,
    "start_time": "2023-12-25T17:43:05.273Z"
   },
   {
    "duration": 7,
    "start_time": "2023-12-25T17:43:05.299Z"
   },
   {
    "duration": 45,
    "start_time": "2023-12-25T17:43:05.307Z"
   },
   {
    "duration": 4,
    "start_time": "2023-12-25T17:43:05.354Z"
   },
   {
    "duration": 168,
    "start_time": "2023-12-25T17:43:05.359Z"
   },
   {
    "duration": 4,
    "start_time": "2023-12-25T17:43:05.528Z"
   },
   {
    "duration": 19,
    "start_time": "2023-12-25T17:43:05.534Z"
   },
   {
    "duration": 27,
    "start_time": "2023-12-25T17:43:05.554Z"
   },
   {
    "duration": 170,
    "start_time": "2023-12-25T17:43:05.582Z"
   },
   {
    "duration": 6,
    "start_time": "2023-12-25T17:43:05.753Z"
   },
   {
    "duration": 16,
    "start_time": "2023-12-25T17:43:05.761Z"
   },
   {
    "duration": 13,
    "start_time": "2023-12-25T17:43:05.779Z"
   },
   {
    "duration": 27,
    "start_time": "2023-12-25T17:43:05.793Z"
   },
   {
    "duration": 11,
    "start_time": "2023-12-25T17:43:05.821Z"
   },
   {
    "duration": 100,
    "start_time": "2023-12-25T17:43:05.834Z"
   },
   {
    "duration": 5,
    "start_time": "2023-12-25T17:43:05.936Z"
   },
   {
    "duration": 18,
    "start_time": "2023-12-25T17:43:05.942Z"
   },
   {
    "duration": 18,
    "start_time": "2023-12-25T17:43:05.961Z"
   },
   {
    "duration": 9,
    "start_time": "2023-12-25T17:43:05.981Z"
   },
   {
    "duration": 20,
    "start_time": "2023-12-25T17:43:05.991Z"
   },
   {
    "duration": 9,
    "start_time": "2023-12-25T17:43:06.013Z"
   },
   {
    "duration": 25,
    "start_time": "2023-12-25T17:43:06.027Z"
   },
   {
    "duration": 29,
    "start_time": "2023-12-25T17:43:06.053Z"
   },
   {
    "duration": 19,
    "start_time": "2023-12-25T17:43:06.083Z"
   },
   {
    "duration": 10,
    "start_time": "2023-12-25T17:43:06.103Z"
   },
   {
    "duration": 14,
    "start_time": "2023-12-25T17:43:06.114Z"
   },
   {
    "duration": 26,
    "start_time": "2023-12-25T17:43:06.129Z"
   },
   {
    "duration": 11,
    "start_time": "2023-12-25T17:43:06.156Z"
   },
   {
    "duration": 10,
    "start_time": "2023-12-25T17:43:06.169Z"
   },
   {
    "duration": 18,
    "start_time": "2023-12-25T17:43:06.181Z"
   },
   {
    "duration": 19,
    "start_time": "2023-12-25T17:43:06.200Z"
   },
   {
    "duration": 28,
    "start_time": "2023-12-25T17:43:06.221Z"
   },
   {
    "duration": 35,
    "start_time": "2023-12-25T17:43:06.251Z"
   },
   {
    "duration": 28,
    "start_time": "2023-12-25T17:43:06.287Z"
   },
   {
    "duration": 37,
    "start_time": "2023-12-25T17:43:06.316Z"
   },
   {
    "duration": 170,
    "start_time": "2023-12-25T17:43:06.355Z"
   },
   {
    "duration": 4,
    "start_time": "2023-12-25T17:43:06.527Z"
   },
   {
    "duration": 107,
    "start_time": "2023-12-25T17:43:06.532Z"
   },
   {
    "duration": 6,
    "start_time": "2023-12-25T17:43:06.640Z"
   },
   {
    "duration": 21,
    "start_time": "2023-12-25T17:43:06.648Z"
   },
   {
    "duration": 139,
    "start_time": "2023-12-25T17:43:06.670Z"
   },
   {
    "duration": 4,
    "start_time": "2023-12-25T17:43:06.811Z"
   },
   {
    "duration": 9,
    "start_time": "2023-12-25T17:43:06.817Z"
   },
   {
    "duration": 13,
    "start_time": "2023-12-25T17:43:06.828Z"
   },
   {
    "duration": 5,
    "start_time": "2023-12-25T17:43:06.842Z"
   },
   {
    "duration": 3,
    "start_time": "2023-12-25T17:43:06.848Z"
   },
   {
    "duration": 115,
    "start_time": "2023-12-25T17:43:06.853Z"
   },
   {
    "duration": 17,
    "start_time": "2023-12-25T17:43:06.970Z"
   },
   {
    "duration": 6,
    "start_time": "2023-12-25T17:43:06.988Z"
   },
   {
    "duration": 6,
    "start_time": "2023-12-25T17:43:06.995Z"
   },
   {
    "duration": 10,
    "start_time": "2023-12-25T17:43:07.002Z"
   },
   {
    "duration": 7,
    "start_time": "2023-12-25T17:43:07.013Z"
   },
   {
    "duration": 8,
    "start_time": "2023-12-25T17:43:07.021Z"
   },
   {
    "duration": 178,
    "start_time": "2023-12-25T17:43:07.030Z"
   },
   {
    "duration": 8,
    "start_time": "2023-12-25T17:43:07.209Z"
   },
   {
    "duration": 29,
    "start_time": "2023-12-25T17:43:07.218Z"
   },
   {
    "duration": 7,
    "start_time": "2023-12-25T17:43:07.248Z"
   },
   {
    "duration": 8,
    "start_time": "2023-12-25T17:43:07.256Z"
   },
   {
    "duration": 296,
    "start_time": "2023-12-25T17:43:07.266Z"
   },
   {
    "duration": 295,
    "start_time": "2023-12-25T17:43:07.563Z"
   },
   {
    "duration": 820,
    "start_time": "2023-12-25T17:43:07.859Z"
   },
   {
    "duration": 2,
    "start_time": "2023-12-25T17:43:08.682Z"
   },
   {
    "duration": 7,
    "start_time": "2023-12-25T17:43:08.686Z"
   },
   {
    "duration": 11,
    "start_time": "2023-12-25T17:43:08.695Z"
   },
   {
    "duration": 10,
    "start_time": "2023-12-25T17:43:08.708Z"
   },
   {
    "duration": 3,
    "start_time": "2023-12-25T17:43:08.719Z"
   },
   {
    "duration": 147,
    "start_time": "2023-12-25T17:43:08.724Z"
   },
   {
    "duration": 11,
    "start_time": "2023-12-25T17:43:08.873Z"
   },
   {
    "duration": 15,
    "start_time": "2023-12-25T17:43:08.886Z"
   },
   {
    "duration": 5,
    "start_time": "2023-12-25T17:43:08.902Z"
   },
   {
    "duration": 760,
    "start_time": "2023-12-25T17:43:08.908Z"
   },
   {
    "duration": 5,
    "start_time": "2023-12-25T17:43:09.669Z"
   },
   {
    "duration": 77,
    "start_time": "2023-12-25T17:43:09.682Z"
   },
   {
    "duration": 38,
    "start_time": "2023-12-25T17:43:09.761Z"
   },
   {
    "duration": 218,
    "start_time": "2023-12-25T17:43:09.800Z"
   },
   {
    "duration": 277,
    "start_time": "2023-12-25T17:43:10.022Z"
   },
   {
    "duration": 5,
    "start_time": "2023-12-25T17:43:10.301Z"
   },
   {
    "duration": 335,
    "start_time": "2023-12-25T17:43:10.307Z"
   },
   {
    "duration": 1246,
    "start_time": "2023-12-25T17:51:20.794Z"
   },
   {
    "duration": 27,
    "start_time": "2023-12-25T17:51:22.042Z"
   },
   {
    "duration": 10,
    "start_time": "2023-12-25T17:51:22.070Z"
   },
   {
    "duration": 36,
    "start_time": "2023-12-25T17:51:22.082Z"
   },
   {
    "duration": 8,
    "start_time": "2023-12-25T17:51:22.119Z"
   },
   {
    "duration": 7,
    "start_time": "2023-12-25T17:51:22.128Z"
   },
   {
    "duration": 15,
    "start_time": "2023-12-25T17:51:22.136Z"
   },
   {
    "duration": 5,
    "start_time": "2023-12-25T17:51:22.152Z"
   },
   {
    "duration": 21,
    "start_time": "2023-12-25T17:51:22.158Z"
   },
   {
    "duration": 2,
    "start_time": "2023-12-25T17:51:22.182Z"
   },
   {
    "duration": 144,
    "start_time": "2023-12-25T17:51:22.185Z"
   },
   {
    "duration": 4,
    "start_time": "2023-12-25T17:51:22.330Z"
   },
   {
    "duration": 18,
    "start_time": "2023-12-25T17:51:22.335Z"
   },
   {
    "duration": 8,
    "start_time": "2023-12-25T17:51:22.355Z"
   },
   {
    "duration": 142,
    "start_time": "2023-12-25T17:51:22.364Z"
   },
   {
    "duration": 5,
    "start_time": "2023-12-25T17:51:22.508Z"
   },
   {
    "duration": 5,
    "start_time": "2023-12-25T17:51:22.515Z"
   },
   {
    "duration": 3,
    "start_time": "2023-12-25T17:51:22.522Z"
   },
   {
    "duration": 9,
    "start_time": "2023-12-25T17:51:22.527Z"
   },
   {
    "duration": 2,
    "start_time": "2023-12-25T17:51:22.538Z"
   },
   {
    "duration": 105,
    "start_time": "2023-12-25T17:51:22.542Z"
   },
   {
    "duration": 6,
    "start_time": "2023-12-25T17:51:22.648Z"
   },
   {
    "duration": 24,
    "start_time": "2023-12-25T17:51:22.655Z"
   },
   {
    "duration": 18,
    "start_time": "2023-12-25T17:51:22.680Z"
   },
   {
    "duration": 5,
    "start_time": "2023-12-25T17:51:22.700Z"
   },
   {
    "duration": 8,
    "start_time": "2023-12-25T17:51:22.707Z"
   },
   {
    "duration": 14,
    "start_time": "2023-12-25T17:51:22.717Z"
   },
   {
    "duration": 7,
    "start_time": "2023-12-25T17:51:22.735Z"
   },
   {
    "duration": 4,
    "start_time": "2023-12-25T17:51:22.743Z"
   },
   {
    "duration": 6,
    "start_time": "2023-12-25T17:51:22.748Z"
   },
   {
    "duration": 28,
    "start_time": "2023-12-25T17:51:22.755Z"
   },
   {
    "duration": 4,
    "start_time": "2023-12-25T17:51:22.784Z"
   },
   {
    "duration": 13,
    "start_time": "2023-12-25T17:51:22.789Z"
   },
   {
    "duration": 4,
    "start_time": "2023-12-25T17:51:22.803Z"
   },
   {
    "duration": 4,
    "start_time": "2023-12-25T17:51:22.808Z"
   },
   {
    "duration": 7,
    "start_time": "2023-12-25T17:51:22.813Z"
   },
   {
    "duration": 6,
    "start_time": "2023-12-25T17:51:22.821Z"
   },
   {
    "duration": 4,
    "start_time": "2023-12-25T17:51:22.828Z"
   },
   {
    "duration": 5,
    "start_time": "2023-12-25T17:51:22.833Z"
   },
   {
    "duration": 5,
    "start_time": "2023-12-25T17:51:22.881Z"
   },
   {
    "duration": 6,
    "start_time": "2023-12-25T17:51:22.888Z"
   },
   {
    "duration": 169,
    "start_time": "2023-12-25T17:51:22.895Z"
   },
   {
    "duration": 7,
    "start_time": "2023-12-25T17:51:23.065Z"
   },
   {
    "duration": 88,
    "start_time": "2023-12-25T17:51:23.074Z"
   },
   {
    "duration": 18,
    "start_time": "2023-12-25T17:51:23.164Z"
   },
   {
    "duration": 5,
    "start_time": "2023-12-25T17:51:23.184Z"
   },
   {
    "duration": 154,
    "start_time": "2023-12-25T17:51:23.190Z"
   },
   {
    "duration": 3,
    "start_time": "2023-12-25T17:51:23.346Z"
   },
   {
    "duration": 14,
    "start_time": "2023-12-25T17:51:23.351Z"
   },
   {
    "duration": 6,
    "start_time": "2023-12-25T17:51:23.366Z"
   },
   {
    "duration": 4,
    "start_time": "2023-12-25T17:51:23.381Z"
   },
   {
    "duration": 10,
    "start_time": "2023-12-25T17:51:23.386Z"
   },
   {
    "duration": 98,
    "start_time": "2023-12-25T17:51:23.397Z"
   },
   {
    "duration": 12,
    "start_time": "2023-12-25T17:51:23.497Z"
   },
   {
    "duration": 7,
    "start_time": "2023-12-25T17:51:23.510Z"
   },
   {
    "duration": 25,
    "start_time": "2023-12-25T17:51:23.518Z"
   },
   {
    "duration": 26,
    "start_time": "2023-12-25T17:51:23.545Z"
   },
   {
    "duration": 7,
    "start_time": "2023-12-25T17:51:23.573Z"
   },
   {
    "duration": 7,
    "start_time": "2023-12-25T17:51:23.582Z"
   },
   {
    "duration": 178,
    "start_time": "2023-12-25T17:51:23.590Z"
   },
   {
    "duration": 15,
    "start_time": "2023-12-25T17:51:23.769Z"
   },
   {
    "duration": 19,
    "start_time": "2023-12-25T17:51:23.785Z"
   },
   {
    "duration": 7,
    "start_time": "2023-12-25T17:51:23.806Z"
   },
   {
    "duration": 12,
    "start_time": "2023-12-25T17:51:23.815Z"
   },
   {
    "duration": 316,
    "start_time": "2023-12-25T17:51:23.828Z"
   },
   {
    "duration": 320,
    "start_time": "2023-12-25T17:51:24.145Z"
   },
   {
    "duration": 928,
    "start_time": "2023-12-25T17:51:24.467Z"
   },
   {
    "duration": 3,
    "start_time": "2023-12-25T17:51:25.397Z"
   },
   {
    "duration": 6,
    "start_time": "2023-12-25T17:51:25.401Z"
   },
   {
    "duration": 18,
    "start_time": "2023-12-25T17:51:25.408Z"
   },
   {
    "duration": 11,
    "start_time": "2023-12-25T17:51:25.427Z"
   },
   {
    "duration": 3,
    "start_time": "2023-12-25T17:51:25.439Z"
   },
   {
    "duration": 147,
    "start_time": "2023-12-25T17:51:25.444Z"
   },
   {
    "duration": 8,
    "start_time": "2023-12-25T17:51:25.593Z"
   },
   {
    "duration": 12,
    "start_time": "2023-12-25T17:51:25.602Z"
   },
   {
    "duration": 5,
    "start_time": "2023-12-25T17:51:25.616Z"
   },
   {
    "duration": 1029,
    "start_time": "2023-12-25T17:51:25.622Z"
   },
   {
    "duration": 5,
    "start_time": "2023-12-25T17:51:26.652Z"
   },
   {
    "duration": 24,
    "start_time": "2023-12-25T17:51:26.658Z"
   },
   {
    "duration": 31,
    "start_time": "2023-12-25T17:51:26.683Z"
   },
   {
    "duration": 201,
    "start_time": "2023-12-25T17:51:26.715Z"
   },
   {
    "duration": 286,
    "start_time": "2023-12-25T17:51:26.920Z"
   },
   {
    "duration": 5,
    "start_time": "2023-12-25T17:51:27.207Z"
   },
   {
    "duration": 313,
    "start_time": "2023-12-25T17:51:27.213Z"
   },
   {
    "duration": 1421,
    "start_time": "2023-12-25T18:31:07.279Z"
   },
   {
    "duration": 77,
    "start_time": "2023-12-25T18:31:08.702Z"
   },
   {
    "duration": 38,
    "start_time": "2023-12-25T18:31:08.781Z"
   },
   {
    "duration": 109,
    "start_time": "2023-12-25T18:31:08.820Z"
   },
   {
    "duration": 9,
    "start_time": "2023-12-25T18:31:08.931Z"
   },
   {
    "duration": 13,
    "start_time": "2023-12-25T18:31:08.941Z"
   },
   {
    "duration": 64,
    "start_time": "2023-12-25T18:31:08.955Z"
   },
   {
    "duration": 7,
    "start_time": "2023-12-25T18:31:09.020Z"
   },
   {
    "duration": 30,
    "start_time": "2023-12-25T18:31:09.028Z"
   },
   {
    "duration": 8,
    "start_time": "2023-12-25T18:31:09.060Z"
   },
   {
    "duration": 169,
    "start_time": "2023-12-25T18:31:09.070Z"
   },
   {
    "duration": 4,
    "start_time": "2023-12-25T18:31:09.240Z"
   },
   {
    "duration": 13,
    "start_time": "2023-12-25T18:31:09.245Z"
   },
   {
    "duration": 4,
    "start_time": "2023-12-25T18:31:09.260Z"
   },
   {
    "duration": 167,
    "start_time": "2023-12-25T18:31:09.265Z"
   },
   {
    "duration": 5,
    "start_time": "2023-12-25T18:31:09.433Z"
   },
   {
    "duration": 10,
    "start_time": "2023-12-25T18:31:09.439Z"
   },
   {
    "duration": 17,
    "start_time": "2023-12-25T18:31:09.450Z"
   },
   {
    "duration": 22,
    "start_time": "2023-12-25T18:31:09.468Z"
   },
   {
    "duration": 20,
    "start_time": "2023-12-25T18:31:09.491Z"
   },
   {
    "duration": 95,
    "start_time": "2023-12-25T18:31:09.512Z"
   },
   {
    "duration": 5,
    "start_time": "2023-12-25T18:31:09.609Z"
   },
   {
    "duration": 26,
    "start_time": "2023-12-25T18:31:09.616Z"
   },
   {
    "duration": 19,
    "start_time": "2023-12-25T18:31:09.643Z"
   },
   {
    "duration": 5,
    "start_time": "2023-12-25T18:31:09.664Z"
   },
   {
    "duration": 11,
    "start_time": "2023-12-25T18:31:09.670Z"
   },
   {
    "duration": 22,
    "start_time": "2023-12-25T18:31:09.683Z"
   },
   {
    "duration": 8,
    "start_time": "2023-12-25T18:31:09.707Z"
   },
   {
    "duration": 10,
    "start_time": "2023-12-25T18:31:09.716Z"
   },
   {
    "duration": 48,
    "start_time": "2023-12-25T18:31:09.727Z"
   },
   {
    "duration": 7,
    "start_time": "2023-12-25T18:31:09.776Z"
   },
   {
    "duration": 14,
    "start_time": "2023-12-25T18:31:09.784Z"
   },
   {
    "duration": 16,
    "start_time": "2023-12-25T18:31:09.799Z"
   },
   {
    "duration": 41,
    "start_time": "2023-12-25T18:31:09.816Z"
   },
   {
    "duration": 24,
    "start_time": "2023-12-25T18:31:09.858Z"
   },
   {
    "duration": 17,
    "start_time": "2023-12-25T18:31:09.883Z"
   },
   {
    "duration": 29,
    "start_time": "2023-12-25T18:31:09.901Z"
   },
   {
    "duration": 15,
    "start_time": "2023-12-25T18:31:09.931Z"
   },
   {
    "duration": 31,
    "start_time": "2023-12-25T18:31:09.947Z"
   },
   {
    "duration": 97,
    "start_time": "2023-12-25T18:31:09.979Z"
   },
   {
    "duration": 50,
    "start_time": "2023-12-25T18:31:10.080Z"
   },
   {
    "duration": 176,
    "start_time": "2023-12-25T18:31:10.132Z"
   },
   {
    "duration": 4,
    "start_time": "2023-12-25T18:31:10.310Z"
   },
   {
    "duration": 101,
    "start_time": "2023-12-25T18:31:10.316Z"
   },
   {
    "duration": 5,
    "start_time": "2023-12-25T18:31:10.419Z"
   },
   {
    "duration": 34,
    "start_time": "2023-12-25T18:31:10.425Z"
   },
   {
    "duration": 256,
    "start_time": "2023-12-25T18:31:10.460Z"
   },
   {
    "duration": 124,
    "start_time": "2023-12-25T18:31:10.718Z"
   },
   {
    "duration": 239,
    "start_time": "2023-12-25T18:31:10.843Z"
   },
   {
    "duration": 128,
    "start_time": "2023-12-25T18:31:11.084Z"
   },
   {
    "duration": 4,
    "start_time": "2023-12-25T18:31:11.214Z"
   },
   {
    "duration": 6,
    "start_time": "2023-12-25T18:31:11.220Z"
   },
   {
    "duration": 115,
    "start_time": "2023-12-25T18:31:11.228Z"
   },
   {
    "duration": 14,
    "start_time": "2023-12-25T18:31:11.344Z"
   },
   {
    "duration": 23,
    "start_time": "2023-12-25T18:31:11.360Z"
   },
   {
    "duration": 7,
    "start_time": "2023-12-25T18:31:11.384Z"
   },
   {
    "duration": 13,
    "start_time": "2023-12-25T18:31:11.392Z"
   },
   {
    "duration": 8,
    "start_time": "2023-12-25T18:31:11.407Z"
   },
   {
    "duration": 8,
    "start_time": "2023-12-25T18:31:11.416Z"
   },
   {
    "duration": 200,
    "start_time": "2023-12-25T18:31:11.426Z"
   },
   {
    "duration": 9,
    "start_time": "2023-12-25T18:31:11.628Z"
   },
   {
    "duration": 31,
    "start_time": "2023-12-25T18:31:11.638Z"
   },
   {
    "duration": 10,
    "start_time": "2023-12-25T18:31:11.671Z"
   },
   {
    "duration": 31,
    "start_time": "2023-12-25T18:31:11.688Z"
   },
   {
    "duration": 355,
    "start_time": "2023-12-25T18:31:11.720Z"
   },
   {
    "duration": 321,
    "start_time": "2023-12-25T18:31:12.076Z"
   },
   {
    "duration": 913,
    "start_time": "2023-12-25T18:31:12.398Z"
   },
   {
    "duration": 4,
    "start_time": "2023-12-25T18:31:13.312Z"
   },
   {
    "duration": 20,
    "start_time": "2023-12-25T18:31:13.317Z"
   },
   {
    "duration": 23,
    "start_time": "2023-12-25T18:31:13.339Z"
   },
   {
    "duration": 10,
    "start_time": "2023-12-25T18:31:13.364Z"
   },
   {
    "duration": 4,
    "start_time": "2023-12-25T18:31:13.376Z"
   },
   {
    "duration": 172,
    "start_time": "2023-12-25T18:31:13.382Z"
   },
   {
    "duration": 10,
    "start_time": "2023-12-25T18:31:13.555Z"
   },
   {
    "duration": 24,
    "start_time": "2023-12-25T18:31:13.567Z"
   },
   {
    "duration": 5,
    "start_time": "2023-12-25T18:31:13.593Z"
   },
   {
    "duration": 837,
    "start_time": "2023-12-25T18:31:13.600Z"
   },
   {
    "duration": 5,
    "start_time": "2023-12-25T18:31:14.438Z"
   },
   {
    "duration": 20,
    "start_time": "2023-12-25T18:31:14.444Z"
   },
   {
    "duration": 8,
    "start_time": "2023-12-25T18:31:14.466Z"
   },
   {
    "duration": 297,
    "start_time": "2023-12-25T18:31:14.475Z"
   },
   {
    "duration": 324,
    "start_time": "2023-12-25T18:31:14.773Z"
   },
   {
    "duration": 7,
    "start_time": "2023-12-25T18:31:15.099Z"
   },
   {
    "duration": 363,
    "start_time": "2023-12-25T18:31:15.108Z"
   },
   {
    "duration": 7,
    "start_time": "2023-12-25T18:37:15.002Z"
   },
   {
    "duration": 1651,
    "start_time": "2023-12-26T16:08:18.345Z"
   },
   {
    "duration": 103,
    "start_time": "2023-12-26T16:08:19.999Z"
   },
   {
    "duration": 19,
    "start_time": "2023-12-26T16:08:20.104Z"
   },
   {
    "duration": 157,
    "start_time": "2023-12-26T16:08:20.125Z"
   },
   {
    "duration": 11,
    "start_time": "2023-12-26T16:08:20.284Z"
   },
   {
    "duration": 14,
    "start_time": "2023-12-26T16:08:20.296Z"
   },
   {
    "duration": 59,
    "start_time": "2023-12-26T16:08:20.313Z"
   },
   {
    "duration": 9,
    "start_time": "2023-12-26T16:08:20.373Z"
   },
   {
    "duration": 45,
    "start_time": "2023-12-26T16:08:20.384Z"
   },
   {
    "duration": 3,
    "start_time": "2023-12-26T16:08:20.432Z"
   },
   {
    "duration": 222,
    "start_time": "2023-12-26T16:08:20.437Z"
   },
   {
    "duration": 4,
    "start_time": "2023-12-26T16:08:20.661Z"
   },
   {
    "duration": 23,
    "start_time": "2023-12-26T16:08:20.667Z"
   },
   {
    "duration": 11,
    "start_time": "2023-12-26T16:08:20.693Z"
   },
   {
    "duration": 190,
    "start_time": "2023-12-26T16:08:20.706Z"
   },
   {
    "duration": 10,
    "start_time": "2023-12-26T16:08:20.899Z"
   },
   {
    "duration": 3,
    "start_time": "2023-12-26T16:08:20.911Z"
   },
   {
    "duration": 3,
    "start_time": "2023-12-26T16:08:20.916Z"
   },
   {
    "duration": 11,
    "start_time": "2023-12-26T16:08:20.921Z"
   },
   {
    "duration": 2,
    "start_time": "2023-12-26T16:08:20.934Z"
   },
   {
    "duration": 138,
    "start_time": "2023-12-26T16:08:20.938Z"
   },
   {
    "duration": 6,
    "start_time": "2023-12-26T16:08:21.077Z"
   },
   {
    "duration": 21,
    "start_time": "2023-12-26T16:08:21.085Z"
   },
   {
    "duration": 23,
    "start_time": "2023-12-26T16:08:21.108Z"
   },
   {
    "duration": 6,
    "start_time": "2023-12-26T16:08:21.133Z"
   },
   {
    "duration": 12,
    "start_time": "2023-12-26T16:08:21.142Z"
   },
   {
    "duration": 10,
    "start_time": "2023-12-26T16:08:21.157Z"
   },
   {
    "duration": 45,
    "start_time": "2023-12-26T16:08:21.174Z"
   },
   {
    "duration": 7,
    "start_time": "2023-12-26T16:08:21.225Z"
   },
   {
    "duration": 13,
    "start_time": "2023-12-26T16:08:21.233Z"
   },
   {
    "duration": 9,
    "start_time": "2023-12-26T16:08:21.248Z"
   },
   {
    "duration": 5,
    "start_time": "2023-12-26T16:08:21.259Z"
   },
   {
    "duration": 47,
    "start_time": "2023-12-26T16:08:21.266Z"
   },
   {
    "duration": 6,
    "start_time": "2023-12-26T16:08:21.315Z"
   },
   {
    "duration": 4,
    "start_time": "2023-12-26T16:08:21.323Z"
   },
   {
    "duration": 14,
    "start_time": "2023-12-26T16:08:21.329Z"
   },
   {
    "duration": 7,
    "start_time": "2023-12-26T16:08:21.345Z"
   },
   {
    "duration": 4,
    "start_time": "2023-12-26T16:08:21.353Z"
   },
   {
    "duration": 7,
    "start_time": "2023-12-26T16:08:21.359Z"
   },
   {
    "duration": 36,
    "start_time": "2023-12-26T16:08:21.367Z"
   },
   {
    "duration": 20,
    "start_time": "2023-12-26T16:08:21.405Z"
   },
   {
    "duration": 190,
    "start_time": "2023-12-26T16:08:21.427Z"
   },
   {
    "duration": 10,
    "start_time": "2023-12-26T16:08:21.619Z"
   },
   {
    "duration": 121,
    "start_time": "2023-12-26T16:08:21.631Z"
   },
   {
    "duration": 7,
    "start_time": "2023-12-26T16:08:21.754Z"
   },
   {
    "duration": 17,
    "start_time": "2023-12-26T16:08:21.763Z"
   },
   {
    "duration": 204,
    "start_time": "2023-12-26T16:08:21.782Z"
   },
   {
    "duration": 4,
    "start_time": "2023-12-26T16:08:21.988Z"
   },
   {
    "duration": 12,
    "start_time": "2023-12-26T16:08:22.015Z"
   },
   {
    "duration": 9,
    "start_time": "2023-12-26T16:08:22.029Z"
   },
   {
    "duration": 14,
    "start_time": "2023-12-26T16:08:22.040Z"
   },
   {
    "duration": 11,
    "start_time": "2023-12-26T16:08:22.056Z"
   },
   {
    "duration": 147,
    "start_time": "2023-12-26T16:08:22.068Z"
   },
   {
    "duration": 16,
    "start_time": "2023-12-26T16:08:22.217Z"
   },
   {
    "duration": 11,
    "start_time": "2023-12-26T16:08:22.235Z"
   },
   {
    "duration": 10,
    "start_time": "2023-12-26T16:08:22.248Z"
   },
   {
    "duration": 53,
    "start_time": "2023-12-26T16:08:22.260Z"
   },
   {
    "duration": 12,
    "start_time": "2023-12-26T16:08:22.315Z"
   },
   {
    "duration": 18,
    "start_time": "2023-12-26T16:08:22.329Z"
   },
   {
    "duration": 254,
    "start_time": "2023-12-26T16:08:22.349Z"
   },
   {
    "duration": 17,
    "start_time": "2023-12-26T16:08:22.607Z"
   },
   {
    "duration": 30,
    "start_time": "2023-12-26T16:08:22.626Z"
   },
   {
    "duration": 9,
    "start_time": "2023-12-26T16:08:22.658Z"
   },
   {
    "duration": 39,
    "start_time": "2023-12-26T16:08:22.669Z"
   },
   {
    "duration": 428,
    "start_time": "2023-12-26T16:08:22.710Z"
   },
   {
    "duration": 390,
    "start_time": "2023-12-26T16:08:23.141Z"
   },
   {
    "duration": 1059,
    "start_time": "2023-12-26T16:08:23.533Z"
   },
   {
    "duration": 6,
    "start_time": "2023-12-26T16:08:24.594Z"
   },
   {
    "duration": 20,
    "start_time": "2023-12-26T16:08:24.602Z"
   },
   {
    "duration": 19,
    "start_time": "2023-12-26T16:08:24.624Z"
   },
   {
    "duration": 12,
    "start_time": "2023-12-26T16:08:24.645Z"
   },
   {
    "duration": 10,
    "start_time": "2023-12-26T16:08:24.659Z"
   },
   {
    "duration": 183,
    "start_time": "2023-12-26T16:08:24.671Z"
   },
   {
    "duration": 11,
    "start_time": "2023-12-26T16:08:24.856Z"
   },
   {
    "duration": 13,
    "start_time": "2023-12-26T16:08:24.869Z"
   },
   {
    "duration": 19,
    "start_time": "2023-12-26T16:08:24.884Z"
   },
   {
    "duration": 982,
    "start_time": "2023-12-26T16:08:24.905Z"
   },
   {
    "duration": 6,
    "start_time": "2023-12-26T16:08:25.888Z"
   },
   {
    "duration": 13,
    "start_time": "2023-12-26T16:08:25.901Z"
   },
   {
    "duration": 6,
    "start_time": "2023-12-26T16:08:25.916Z"
   },
   {
    "duration": 299,
    "start_time": "2023-12-26T16:08:25.924Z"
   },
   {
    "duration": 367,
    "start_time": "2023-12-26T16:08:26.229Z"
   },
   {
    "duration": 7,
    "start_time": "2023-12-26T16:08:26.600Z"
   },
   {
    "duration": 374,
    "start_time": "2023-12-26T16:08:26.609Z"
   },
   {
    "duration": 5,
    "start_time": "2023-12-26T16:10:14.975Z"
   },
   {
    "duration": 307,
    "start_time": "2023-12-26T16:15:06.926Z"
   },
   {
    "duration": 1464,
    "start_time": "2023-12-26T16:18:19.395Z"
   },
   {
    "duration": 30,
    "start_time": "2023-12-26T16:18:20.861Z"
   },
   {
    "duration": 14,
    "start_time": "2023-12-26T16:18:20.892Z"
   },
   {
    "duration": 30,
    "start_time": "2023-12-26T16:18:20.908Z"
   },
   {
    "duration": 9,
    "start_time": "2023-12-26T16:18:20.940Z"
   },
   {
    "duration": 11,
    "start_time": "2023-12-26T16:18:20.950Z"
   },
   {
    "duration": 19,
    "start_time": "2023-12-26T16:18:20.962Z"
   },
   {
    "duration": 8,
    "start_time": "2023-12-26T16:18:20.982Z"
   },
   {
    "duration": 29,
    "start_time": "2023-12-26T16:18:20.992Z"
   },
   {
    "duration": 4,
    "start_time": "2023-12-26T16:18:21.024Z"
   },
   {
    "duration": 209,
    "start_time": "2023-12-26T16:18:21.029Z"
   },
   {
    "duration": 5,
    "start_time": "2023-12-26T16:18:21.240Z"
   },
   {
    "duration": 18,
    "start_time": "2023-12-26T16:18:21.247Z"
   },
   {
    "duration": 9,
    "start_time": "2023-12-26T16:18:21.266Z"
   },
   {
    "duration": 178,
    "start_time": "2023-12-26T16:18:21.276Z"
   },
   {
    "duration": 8,
    "start_time": "2023-12-26T16:18:21.456Z"
   },
   {
    "duration": 8,
    "start_time": "2023-12-26T16:18:21.466Z"
   },
   {
    "duration": 11,
    "start_time": "2023-12-26T16:18:21.477Z"
   },
   {
    "duration": 28,
    "start_time": "2023-12-26T16:18:21.491Z"
   },
   {
    "duration": 4,
    "start_time": "2023-12-26T16:18:21.521Z"
   },
   {
    "duration": 108,
    "start_time": "2023-12-26T16:18:21.527Z"
   },
   {
    "duration": 6,
    "start_time": "2023-12-26T16:18:21.637Z"
   },
   {
    "duration": 32,
    "start_time": "2023-12-26T16:18:21.644Z"
   },
   {
    "duration": 19,
    "start_time": "2023-12-26T16:18:21.678Z"
   },
   {
    "duration": 6,
    "start_time": "2023-12-26T16:18:21.699Z"
   },
   {
    "duration": 7,
    "start_time": "2023-12-26T16:18:21.706Z"
   },
   {
    "duration": 7,
    "start_time": "2023-12-26T16:18:21.714Z"
   },
   {
    "duration": 8,
    "start_time": "2023-12-26T16:18:21.726Z"
   },
   {
    "duration": 16,
    "start_time": "2023-12-26T16:18:21.735Z"
   },
   {
    "duration": 8,
    "start_time": "2023-12-26T16:18:21.753Z"
   },
   {
    "duration": 38,
    "start_time": "2023-12-26T16:18:21.762Z"
   },
   {
    "duration": 3,
    "start_time": "2023-12-26T16:18:21.802Z"
   },
   {
    "duration": 19,
    "start_time": "2023-12-26T16:18:21.807Z"
   },
   {
    "duration": 8,
    "start_time": "2023-12-26T16:18:21.828Z"
   },
   {
    "duration": 12,
    "start_time": "2023-12-26T16:18:21.838Z"
   },
   {
    "duration": 16,
    "start_time": "2023-12-26T16:18:21.852Z"
   },
   {
    "duration": 30,
    "start_time": "2023-12-26T16:18:21.870Z"
   },
   {
    "duration": 10,
    "start_time": "2023-12-26T16:18:21.901Z"
   },
   {
    "duration": 26,
    "start_time": "2023-12-26T16:18:21.913Z"
   },
   {
    "duration": 26,
    "start_time": "2023-12-26T16:18:21.941Z"
   },
   {
    "duration": 26,
    "start_time": "2023-12-26T16:18:21.969Z"
   },
   {
    "duration": 170,
    "start_time": "2023-12-26T16:18:21.997Z"
   },
   {
    "duration": 6,
    "start_time": "2023-12-26T16:18:22.168Z"
   },
   {
    "duration": 127,
    "start_time": "2023-12-26T16:18:22.176Z"
   },
   {
    "duration": 7,
    "start_time": "2023-12-26T16:18:22.305Z"
   },
   {
    "duration": 12,
    "start_time": "2023-12-26T16:18:22.314Z"
   },
   {
    "duration": 196,
    "start_time": "2023-12-26T16:18:22.328Z"
   },
   {
    "duration": 5,
    "start_time": "2023-12-26T16:18:22.527Z"
   },
   {
    "duration": 46,
    "start_time": "2023-12-26T16:18:22.533Z"
   },
   {
    "duration": 18,
    "start_time": "2023-12-26T16:18:22.581Z"
   },
   {
    "duration": 10,
    "start_time": "2023-12-26T16:18:22.601Z"
   },
   {
    "duration": 19,
    "start_time": "2023-12-26T16:18:22.613Z"
   },
   {
    "duration": 137,
    "start_time": "2023-12-26T16:18:22.634Z"
   },
   {
    "duration": 14,
    "start_time": "2023-12-26T16:18:22.773Z"
   },
   {
    "duration": 22,
    "start_time": "2023-12-26T16:18:22.789Z"
   },
   {
    "duration": 22,
    "start_time": "2023-12-26T16:18:22.813Z"
   },
   {
    "duration": 15,
    "start_time": "2023-12-26T16:18:22.837Z"
   },
   {
    "duration": 23,
    "start_time": "2023-12-26T16:18:22.854Z"
   },
   {
    "duration": 41,
    "start_time": "2023-12-26T16:18:22.879Z"
   },
   {
    "duration": 216,
    "start_time": "2023-12-26T16:18:22.922Z"
   },
   {
    "duration": 10,
    "start_time": "2023-12-26T16:18:23.140Z"
   },
   {
    "duration": 69,
    "start_time": "2023-12-26T16:18:23.152Z"
   },
   {
    "duration": 29,
    "start_time": "2023-12-26T16:18:23.223Z"
   },
   {
    "duration": 27,
    "start_time": "2023-12-26T16:18:23.254Z"
   },
   {
    "duration": 407,
    "start_time": "2023-12-26T16:18:23.282Z"
   },
   {
    "duration": 366,
    "start_time": "2023-12-26T16:18:23.691Z"
   },
   {
    "duration": 117,
    "start_time": "2023-12-26T16:18:24.059Z"
   },
   {
    "duration": 0,
    "start_time": "2023-12-26T16:18:24.178Z"
   },
   {
    "duration": 0,
    "start_time": "2023-12-26T16:18:24.179Z"
   },
   {
    "duration": 0,
    "start_time": "2023-12-26T16:18:24.180Z"
   },
   {
    "duration": 0,
    "start_time": "2023-12-26T16:18:24.182Z"
   },
   {
    "duration": 0,
    "start_time": "2023-12-26T16:18:24.184Z"
   },
   {
    "duration": 0,
    "start_time": "2023-12-26T16:18:24.185Z"
   },
   {
    "duration": 0,
    "start_time": "2023-12-26T16:18:24.186Z"
   },
   {
    "duration": 0,
    "start_time": "2023-12-26T16:18:24.200Z"
   },
   {
    "duration": 1,
    "start_time": "2023-12-26T16:18:24.201Z"
   },
   {
    "duration": 0,
    "start_time": "2023-12-26T16:18:24.202Z"
   },
   {
    "duration": 0,
    "start_time": "2023-12-26T16:18:24.204Z"
   },
   {
    "duration": 0,
    "start_time": "2023-12-26T16:18:24.205Z"
   },
   {
    "duration": 0,
    "start_time": "2023-12-26T16:18:24.206Z"
   },
   {
    "duration": 0,
    "start_time": "2023-12-26T16:18:24.207Z"
   },
   {
    "duration": 0,
    "start_time": "2023-12-26T16:18:24.209Z"
   },
   {
    "duration": 0,
    "start_time": "2023-12-26T16:18:24.210Z"
   },
   {
    "duration": 0,
    "start_time": "2023-12-26T16:18:24.211Z"
   },
   {
    "duration": 4,
    "start_time": "2023-12-26T16:18:46.216Z"
   },
   {
    "duration": 1319,
    "start_time": "2023-12-26T16:18:54.930Z"
   },
   {
    "duration": 28,
    "start_time": "2023-12-26T16:18:56.251Z"
   },
   {
    "duration": 25,
    "start_time": "2023-12-26T16:18:56.281Z"
   },
   {
    "duration": 66,
    "start_time": "2023-12-26T16:18:56.309Z"
   },
   {
    "duration": 9,
    "start_time": "2023-12-26T16:18:56.376Z"
   },
   {
    "duration": 32,
    "start_time": "2023-12-26T16:18:56.387Z"
   },
   {
    "duration": 40,
    "start_time": "2023-12-26T16:18:56.421Z"
   },
   {
    "duration": 8,
    "start_time": "2023-12-26T16:18:56.463Z"
   },
   {
    "duration": 41,
    "start_time": "2023-12-26T16:18:56.473Z"
   },
   {
    "duration": 13,
    "start_time": "2023-12-26T16:18:56.518Z"
   },
   {
    "duration": 192,
    "start_time": "2023-12-26T16:18:56.532Z"
   },
   {
    "duration": 5,
    "start_time": "2023-12-26T16:18:56.727Z"
   },
   {
    "duration": 23,
    "start_time": "2023-12-26T16:18:56.733Z"
   },
   {
    "duration": 19,
    "start_time": "2023-12-26T16:18:56.757Z"
   },
   {
    "duration": 186,
    "start_time": "2023-12-26T16:18:56.778Z"
   },
   {
    "duration": 6,
    "start_time": "2023-12-26T16:18:56.966Z"
   },
   {
    "duration": 6,
    "start_time": "2023-12-26T16:18:56.974Z"
   },
   {
    "duration": 12,
    "start_time": "2023-12-26T16:18:56.982Z"
   },
   {
    "duration": 10,
    "start_time": "2023-12-26T16:18:57.000Z"
   },
   {
    "duration": 9,
    "start_time": "2023-12-26T16:18:57.012Z"
   },
   {
    "duration": 109,
    "start_time": "2023-12-26T16:18:57.023Z"
   },
   {
    "duration": 6,
    "start_time": "2023-12-26T16:18:57.133Z"
   },
   {
    "duration": 16,
    "start_time": "2023-12-26T16:18:57.140Z"
   },
   {
    "duration": 16,
    "start_time": "2023-12-26T16:18:57.157Z"
   },
   {
    "duration": 5,
    "start_time": "2023-12-26T16:18:57.175Z"
   },
   {
    "duration": 7,
    "start_time": "2023-12-26T16:18:57.200Z"
   },
   {
    "duration": 7,
    "start_time": "2023-12-26T16:18:57.209Z"
   },
   {
    "duration": 10,
    "start_time": "2023-12-26T16:18:57.220Z"
   },
   {
    "duration": 9,
    "start_time": "2023-12-26T16:18:57.232Z"
   },
   {
    "duration": 14,
    "start_time": "2023-12-26T16:18:57.243Z"
   },
   {
    "duration": 17,
    "start_time": "2023-12-26T16:18:57.259Z"
   },
   {
    "duration": 24,
    "start_time": "2023-12-26T16:18:57.277Z"
   },
   {
    "duration": 16,
    "start_time": "2023-12-26T16:18:57.303Z"
   },
   {
    "duration": 8,
    "start_time": "2023-12-26T16:18:57.320Z"
   },
   {
    "duration": 7,
    "start_time": "2023-12-26T16:18:57.330Z"
   },
   {
    "duration": 7,
    "start_time": "2023-12-26T16:18:57.338Z"
   },
   {
    "duration": 8,
    "start_time": "2023-12-26T16:18:57.347Z"
   },
   {
    "duration": 12,
    "start_time": "2023-12-26T16:18:57.357Z"
   },
   {
    "duration": 7,
    "start_time": "2023-12-26T16:18:57.371Z"
   },
   {
    "duration": 6,
    "start_time": "2023-12-26T16:18:57.400Z"
   },
   {
    "duration": 8,
    "start_time": "2023-12-26T16:18:57.408Z"
   },
   {
    "duration": 171,
    "start_time": "2023-12-26T16:18:57.418Z"
   },
   {
    "duration": 10,
    "start_time": "2023-12-26T16:18:57.591Z"
   },
   {
    "duration": 121,
    "start_time": "2023-12-26T16:18:57.603Z"
   },
   {
    "duration": 6,
    "start_time": "2023-12-26T16:18:57.725Z"
   },
   {
    "duration": 12,
    "start_time": "2023-12-26T16:18:57.732Z"
   },
   {
    "duration": 172,
    "start_time": "2023-12-26T16:18:57.746Z"
   },
   {
    "duration": 4,
    "start_time": "2023-12-26T16:18:57.920Z"
   },
   {
    "duration": 19,
    "start_time": "2023-12-26T16:18:57.926Z"
   },
   {
    "duration": 22,
    "start_time": "2023-12-26T16:18:57.946Z"
   },
   {
    "duration": 16,
    "start_time": "2023-12-26T16:18:57.969Z"
   },
   {
    "duration": 18,
    "start_time": "2023-12-26T16:18:57.987Z"
   },
   {
    "duration": 151,
    "start_time": "2023-12-26T16:18:58.007Z"
   },
   {
    "duration": 13,
    "start_time": "2023-12-26T16:18:58.160Z"
   },
   {
    "duration": 10,
    "start_time": "2023-12-26T16:18:58.175Z"
   },
   {
    "duration": 21,
    "start_time": "2023-12-26T16:18:58.187Z"
   },
   {
    "duration": 15,
    "start_time": "2023-12-26T16:18:58.210Z"
   },
   {
    "duration": 12,
    "start_time": "2023-12-26T16:18:58.227Z"
   },
   {
    "duration": 15,
    "start_time": "2023-12-26T16:18:58.241Z"
   },
   {
    "duration": 228,
    "start_time": "2023-12-26T16:18:58.257Z"
   },
   {
    "duration": 20,
    "start_time": "2023-12-26T16:18:58.487Z"
   },
   {
    "duration": 27,
    "start_time": "2023-12-26T16:18:58.509Z"
   },
   {
    "duration": 9,
    "start_time": "2023-12-26T16:18:58.538Z"
   },
   {
    "duration": 8,
    "start_time": "2023-12-26T16:18:58.549Z"
   },
   {
    "duration": 404,
    "start_time": "2023-12-26T16:18:58.559Z"
   },
   {
    "duration": 364,
    "start_time": "2023-12-26T16:18:58.964Z"
   },
   {
    "duration": 3,
    "start_time": "2023-12-26T16:18:59.330Z"
   },
   {
    "duration": 992,
    "start_time": "2023-12-26T16:18:59.335Z"
   },
   {
    "duration": 3,
    "start_time": "2023-12-26T16:19:00.329Z"
   },
   {
    "duration": 51,
    "start_time": "2023-12-26T16:19:00.334Z"
   },
   {
    "duration": 133,
    "start_time": "2023-12-26T16:19:00.387Z"
   },
   {
    "duration": 44,
    "start_time": "2023-12-26T16:19:00.522Z"
   },
   {
    "duration": 198,
    "start_time": "2023-12-26T16:19:00.567Z"
   },
   {
    "duration": 10,
    "start_time": "2023-12-26T16:19:00.767Z"
   },
   {
    "duration": 71,
    "start_time": "2023-12-26T16:19:00.779Z"
   },
   {
    "duration": 38,
    "start_time": "2023-12-26T16:19:00.853Z"
   },
   {
    "duration": 957,
    "start_time": "2023-12-26T16:19:00.893Z"
   },
   {
    "duration": 6,
    "start_time": "2023-12-26T16:19:01.852Z"
   },
   {
    "duration": 38,
    "start_time": "2023-12-26T16:19:01.859Z"
   },
   {
    "duration": 34,
    "start_time": "2023-12-26T16:19:01.899Z"
   },
   {
    "duration": 334,
    "start_time": "2023-12-26T16:19:01.935Z"
   },
   {
    "duration": 370,
    "start_time": "2023-12-26T16:19:02.275Z"
   },
   {
    "duration": 4,
    "start_time": "2023-12-26T16:19:02.647Z"
   },
   {
    "duration": 413,
    "start_time": "2023-12-26T16:19:02.653Z"
   },
   {
    "duration": 2195,
    "start_time": "2023-12-26T19:41:32.175Z"
   },
   {
    "duration": 86,
    "start_time": "2023-12-26T19:41:34.372Z"
   },
   {
    "duration": 11,
    "start_time": "2023-12-26T19:41:34.460Z"
   },
   {
    "duration": 172,
    "start_time": "2023-12-26T19:41:34.473Z"
   },
   {
    "duration": 9,
    "start_time": "2023-12-26T19:41:34.648Z"
   },
   {
    "duration": 10,
    "start_time": "2023-12-26T19:41:34.659Z"
   },
   {
    "duration": 114,
    "start_time": "2023-12-26T19:41:34.671Z"
   },
   {
    "duration": 48,
    "start_time": "2023-12-26T19:41:34.786Z"
   },
   {
    "duration": 29,
    "start_time": "2023-12-26T19:41:34.836Z"
   },
   {
    "duration": 3,
    "start_time": "2023-12-26T19:41:34.931Z"
   },
   {
    "duration": 329,
    "start_time": "2023-12-26T19:41:34.936Z"
   },
   {
    "duration": 4,
    "start_time": "2023-12-26T19:41:35.267Z"
   },
   {
    "duration": 59,
    "start_time": "2023-12-26T19:41:35.273Z"
   },
   {
    "duration": 30,
    "start_time": "2023-12-26T19:41:35.335Z"
   },
   {
    "duration": 371,
    "start_time": "2023-12-26T19:41:35.367Z"
   },
   {
    "duration": 6,
    "start_time": "2023-12-26T19:41:35.740Z"
   },
   {
    "duration": 27,
    "start_time": "2023-12-26T19:41:35.747Z"
   },
   {
    "duration": 7,
    "start_time": "2023-12-26T19:41:35.776Z"
   },
   {
    "duration": 8,
    "start_time": "2023-12-26T19:41:35.831Z"
   },
   {
    "duration": 4,
    "start_time": "2023-12-26T19:41:35.840Z"
   },
   {
    "duration": 196,
    "start_time": "2023-12-26T19:41:35.846Z"
   },
   {
    "duration": 7,
    "start_time": "2023-12-26T19:41:36.043Z"
   },
   {
    "duration": 384,
    "start_time": "2023-12-26T19:41:36.051Z"
   },
   {
    "duration": 20,
    "start_time": "2023-12-26T19:41:36.437Z"
   },
   {
    "duration": 75,
    "start_time": "2023-12-26T19:41:36.459Z"
   },
   {
    "duration": 62,
    "start_time": "2023-12-26T19:41:36.536Z"
   },
   {
    "duration": 7,
    "start_time": "2023-12-26T19:41:36.631Z"
   },
   {
    "duration": 18,
    "start_time": "2023-12-26T19:41:36.640Z"
   },
   {
    "duration": 5,
    "start_time": "2023-12-26T19:41:36.660Z"
   },
   {
    "duration": 67,
    "start_time": "2023-12-26T19:41:36.667Z"
   },
   {
    "duration": 15,
    "start_time": "2023-12-26T19:41:36.736Z"
   },
   {
    "duration": 28,
    "start_time": "2023-12-26T19:41:36.753Z"
   },
   {
    "duration": 54,
    "start_time": "2023-12-26T19:41:36.783Z"
   },
   {
    "duration": 4,
    "start_time": "2023-12-26T19:41:36.840Z"
   },
   {
    "duration": 6,
    "start_time": "2023-12-26T19:41:36.846Z"
   },
   {
    "duration": 7,
    "start_time": "2023-12-26T19:41:36.853Z"
   },
   {
    "duration": 73,
    "start_time": "2023-12-26T19:41:36.861Z"
   },
   {
    "duration": 4,
    "start_time": "2023-12-26T19:41:36.936Z"
   },
   {
    "duration": 27,
    "start_time": "2023-12-26T19:41:36.941Z"
   },
   {
    "duration": 61,
    "start_time": "2023-12-26T19:41:36.970Z"
   },
   {
    "duration": 5,
    "start_time": "2023-12-26T19:41:37.037Z"
   },
   {
    "duration": 323,
    "start_time": "2023-12-26T19:41:37.044Z"
   },
   {
    "duration": 63,
    "start_time": "2023-12-26T19:41:37.369Z"
   },
   {
    "duration": 207,
    "start_time": "2023-12-26T19:41:37.434Z"
   },
   {
    "duration": 6,
    "start_time": "2023-12-26T19:41:37.642Z"
   },
   {
    "duration": 11,
    "start_time": "2023-12-26T19:41:37.650Z"
   },
   {
    "duration": 484,
    "start_time": "2023-12-26T19:41:37.662Z"
   },
   {
    "duration": 5,
    "start_time": "2023-12-26T19:41:38.147Z"
   },
   {
    "duration": 14,
    "start_time": "2023-12-26T19:41:38.154Z"
   },
   {
    "duration": 10,
    "start_time": "2023-12-26T19:41:38.231Z"
   },
   {
    "duration": 6,
    "start_time": "2023-12-26T19:41:38.244Z"
   },
   {
    "duration": 6,
    "start_time": "2023-12-26T19:41:38.252Z"
   },
   {
    "duration": 372,
    "start_time": "2023-12-26T19:41:38.260Z"
   },
   {
    "duration": 14,
    "start_time": "2023-12-26T19:41:38.634Z"
   },
   {
    "duration": 7,
    "start_time": "2023-12-26T19:41:38.650Z"
   },
   {
    "duration": 7,
    "start_time": "2023-12-26T19:41:38.659Z"
   },
   {
    "duration": 17,
    "start_time": "2023-12-26T19:41:38.732Z"
   },
   {
    "duration": 14,
    "start_time": "2023-12-26T19:41:38.751Z"
   },
   {
    "duration": 11,
    "start_time": "2023-12-26T19:41:38.830Z"
   },
   {
    "duration": 505,
    "start_time": "2023-12-26T19:41:38.843Z"
   },
   {
    "duration": 11,
    "start_time": "2023-12-26T19:41:39.350Z"
   },
   {
    "duration": 88,
    "start_time": "2023-12-26T19:41:39.364Z"
   },
   {
    "duration": 16,
    "start_time": "2023-12-26T19:41:39.454Z"
   },
   {
    "duration": 65,
    "start_time": "2023-12-26T19:41:39.472Z"
   },
   {
    "duration": 732,
    "start_time": "2023-12-26T19:41:39.539Z"
   },
   {
    "duration": 761,
    "start_time": "2023-12-26T19:41:40.273Z"
   },
   {
    "duration": 5,
    "start_time": "2023-12-26T19:41:41.035Z"
   },
   {
    "duration": 2013,
    "start_time": "2023-12-26T19:41:41.042Z"
   },
   {
    "duration": 4,
    "start_time": "2023-12-26T19:41:43.056Z"
   },
   {
    "duration": 75,
    "start_time": "2023-12-26T19:41:43.061Z"
   },
   {
    "duration": 12,
    "start_time": "2023-12-26T19:41:43.138Z"
   },
   {
    "duration": 4,
    "start_time": "2023-12-26T19:41:43.152Z"
   },
   {
    "duration": 299,
    "start_time": "2023-12-26T19:41:43.158Z"
   },
   {
    "duration": 74,
    "start_time": "2023-12-26T19:41:43.459Z"
   },
   {
    "duration": 17,
    "start_time": "2023-12-26T19:41:43.535Z"
   },
   {
    "duration": 15,
    "start_time": "2023-12-26T19:41:43.554Z"
   },
   {
    "duration": 1813,
    "start_time": "2023-12-26T19:41:43.631Z"
   },
   {
    "duration": 6,
    "start_time": "2023-12-26T19:41:45.445Z"
   },
   {
    "duration": 78,
    "start_time": "2023-12-26T19:41:45.453Z"
   },
   {
    "duration": 9,
    "start_time": "2023-12-26T19:41:45.533Z"
   },
   {
    "duration": 402,
    "start_time": "2023-12-26T19:41:45.544Z"
   },
   {
    "duration": 685,
    "start_time": "2023-12-26T19:41:45.948Z"
   },
   {
    "duration": 4,
    "start_time": "2023-12-26T19:41:46.635Z"
   },
   {
    "duration": 620,
    "start_time": "2023-12-26T19:41:46.642Z"
   }
  ],
  "kernelspec": {
   "display_name": "Python 3 (ipykernel)",
   "language": "python",
   "name": "python3"
  },
  "language_info": {
   "codemirror_mode": {
    "name": "ipython",
    "version": 3
   },
   "file_extension": ".py",
   "mimetype": "text/x-python",
   "name": "python",
   "nbconvert_exporter": "python",
   "pygments_lexer": "ipython3",
   "version": "3.9.5"
  },
  "toc": {
   "base_numbering": 1,
   "nav_menu": {},
   "number_sections": true,
   "sideBar": true,
   "skip_h1_title": true,
   "title_cell": "Table of Contents",
   "title_sidebar": "Contents",
   "toc_cell": false,
   "toc_position": {},
   "toc_section_display": true,
   "toc_window_display": false
  }
 },
 "nbformat": 4,
 "nbformat_minor": 5
}
